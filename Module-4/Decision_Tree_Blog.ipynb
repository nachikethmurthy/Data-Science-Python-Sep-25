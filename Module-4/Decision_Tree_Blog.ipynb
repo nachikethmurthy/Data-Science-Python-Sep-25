{
 "cells": [
  {
   "cell_type": "code",
   "execution_count": 1,
   "metadata": {
    "id": "W0CwSanEF7DS"
   },
   "outputs": [
    {
     "name": "stderr",
     "output_type": "stream",
     "text": [
      "/var/folders/xk/0pfb24315clcz5hhv8f69q5c0000gp/T/ipykernel_36157/2565697472.py:3: MatplotlibDeprecationWarning: The seaborn styles shipped by Matplotlib are deprecated since 3.6, as they no longer correspond to the styles shipped by seaborn. However, they will remain available as 'seaborn-v0_8-<style>'. Alternatively, directly use the seaborn API instead.\n",
      "  plt.style.use('seaborn-whitegrid')\n"
     ]
    }
   ],
   "source": [
    "from sklearn.datasets import make_moons\n",
    "import matplotlib.pyplot as plt\n",
    "plt.style.use('seaborn-whitegrid')\n",
    "import numpy as np"
   ]
  },
  {
   "cell_type": "code",
   "execution_count": 2,
   "metadata": {
    "id": "jkz8XE6rmty5"
   },
   "outputs": [],
   "source": [
    "x1 = np.linspace(0,5,25)\n",
    "x2 = np.linspace(0,5,25)\n",
    "X1,X2 = np.meshgrid(x1,x2)\n",
    "y = np.zeros((25,25))\n",
    "for i in range(15,25):\n",
    "  for j in range(15,25):\n",
    "    y[i,j] = 1"
   ]
  },
  {
   "cell_type": "markdown",
   "metadata": {
    "id": "NAKCC8mMZZfm"
   },
   "source": [
    "https://jakevdp.github.io/PythonDataScienceHandbook/04.04-density-and-contour-plots.html"
   ]
  },
  {
   "cell_type": "code",
   "execution_count": 3,
   "metadata": {
    "colab": {
     "base_uri": "https://localhost:8080/"
    },
    "id": "G_S_g0DPZtA_",
    "outputId": "1ecf97c1-525c-4c66-c91f-2618a594bba9"
   },
   "outputs": [
    {
     "data": {
      "text/plain": [
       "(25, 25)"
      ]
     },
     "execution_count": 3,
     "metadata": {},
     "output_type": "execute_result"
    }
   ],
   "source": [
    "X1.shape"
   ]
  },
  {
   "cell_type": "code",
   "execution_count": 4,
   "metadata": {
    "colab": {
     "base_uri": "https://localhost:8080/",
     "height": 206
    },
    "id": "NHDwomStqp9O",
    "outputId": "fc1929d0-1a2f-4502-f554-98fea0384c39"
   },
   "outputs": [
    {
     "data": {
      "text/html": [
       "<div>\n",
       "<style scoped>\n",
       "    .dataframe tbody tr th:only-of-type {\n",
       "        vertical-align: middle;\n",
       "    }\n",
       "\n",
       "    .dataframe tbody tr th {\n",
       "        vertical-align: top;\n",
       "    }\n",
       "\n",
       "    .dataframe thead th {\n",
       "        text-align: right;\n",
       "    }\n",
       "</style>\n",
       "<table border=\"1\" class=\"dataframe\">\n",
       "  <thead>\n",
       "    <tr style=\"text-align: right;\">\n",
       "      <th></th>\n",
       "      <th>x1</th>\n",
       "    </tr>\n",
       "  </thead>\n",
       "  <tbody>\n",
       "    <tr>\n",
       "      <th>0</th>\n",
       "      <td>0.000000</td>\n",
       "    </tr>\n",
       "    <tr>\n",
       "      <th>1</th>\n",
       "      <td>0.208333</td>\n",
       "    </tr>\n",
       "    <tr>\n",
       "      <th>2</th>\n",
       "      <td>0.416667</td>\n",
       "    </tr>\n",
       "    <tr>\n",
       "      <th>3</th>\n",
       "      <td>0.625000</td>\n",
       "    </tr>\n",
       "    <tr>\n",
       "      <th>4</th>\n",
       "      <td>0.833333</td>\n",
       "    </tr>\n",
       "  </tbody>\n",
       "</table>\n",
       "</div>"
      ],
      "text/plain": [
       "         x1\n",
       "0  0.000000\n",
       "1  0.208333\n",
       "2  0.416667\n",
       "3  0.625000\n",
       "4  0.833333"
      ]
     },
     "execution_count": 4,
     "metadata": {},
     "output_type": "execute_result"
    }
   ],
   "source": [
    "import pandas as pd\n",
    "df = pd.DataFrame((X1.ravel()), columns = [\"x1\"])\n",
    "df.head()"
   ]
  },
  {
   "cell_type": "code",
   "execution_count": 5,
   "metadata": {
    "id": "MR4pxUS0rJQL"
   },
   "outputs": [],
   "source": [
    "df[\"x2\"] = X2.ravel()\n",
    "df[\"y\"] = y.ravel()"
   ]
  },
  {
   "cell_type": "code",
   "execution_count": 6,
   "metadata": {
    "colab": {
     "base_uri": "https://localhost:8080/",
     "height": 206
    },
    "id": "BPwYh_c7Z0l8",
    "outputId": "420d24bb-1d6a-4d7c-cdb4-908a7de2b5a0"
   },
   "outputs": [
    {
     "data": {
      "text/html": [
       "<div>\n",
       "<style scoped>\n",
       "    .dataframe tbody tr th:only-of-type {\n",
       "        vertical-align: middle;\n",
       "    }\n",
       "\n",
       "    .dataframe tbody tr th {\n",
       "        vertical-align: top;\n",
       "    }\n",
       "\n",
       "    .dataframe thead th {\n",
       "        text-align: right;\n",
       "    }\n",
       "</style>\n",
       "<table border=\"1\" class=\"dataframe\">\n",
       "  <thead>\n",
       "    <tr style=\"text-align: right;\">\n",
       "      <th></th>\n",
       "      <th>x1</th>\n",
       "      <th>x2</th>\n",
       "      <th>y</th>\n",
       "    </tr>\n",
       "  </thead>\n",
       "  <tbody>\n",
       "    <tr>\n",
       "      <th>0</th>\n",
       "      <td>0.000000</td>\n",
       "      <td>0.0</td>\n",
       "      <td>0.0</td>\n",
       "    </tr>\n",
       "    <tr>\n",
       "      <th>1</th>\n",
       "      <td>0.208333</td>\n",
       "      <td>0.0</td>\n",
       "      <td>0.0</td>\n",
       "    </tr>\n",
       "    <tr>\n",
       "      <th>2</th>\n",
       "      <td>0.416667</td>\n",
       "      <td>0.0</td>\n",
       "      <td>0.0</td>\n",
       "    </tr>\n",
       "    <tr>\n",
       "      <th>3</th>\n",
       "      <td>0.625000</td>\n",
       "      <td>0.0</td>\n",
       "      <td>0.0</td>\n",
       "    </tr>\n",
       "    <tr>\n",
       "      <th>4</th>\n",
       "      <td>0.833333</td>\n",
       "      <td>0.0</td>\n",
       "      <td>0.0</td>\n",
       "    </tr>\n",
       "  </tbody>\n",
       "</table>\n",
       "</div>"
      ],
      "text/plain": [
       "         x1   x2    y\n",
       "0  0.000000  0.0  0.0\n",
       "1  0.208333  0.0  0.0\n",
       "2  0.416667  0.0  0.0\n",
       "3  0.625000  0.0  0.0\n",
       "4  0.833333  0.0  0.0"
      ]
     },
     "execution_count": 6,
     "metadata": {},
     "output_type": "execute_result"
    }
   ],
   "source": [
    "df.head()"
   ]
  },
  {
   "cell_type": "code",
   "execution_count": 7,
   "metadata": {
    "colab": {
     "base_uri": "https://localhost:8080/",
     "height": 715
    },
    "id": "OtG5T84Jof6G",
    "outputId": "5d81d06a-9a39-49ee-ab79-e1f8bb359675"
   },
   "outputs": [
    {
     "data": {
      "image/png": "[encoded data removed]",
      "text/plain": [
       "<Figure size 1200x1200 with 1 Axes>"
      ]
     },
     "metadata": {},
     "output_type": "display_data"
    }
   ],
   "source": [
    "plt.figure(figsize=(12,12))\n",
    "plt.plot(df[\"x1\"][df[\"y\"] == 0],df[\"x2\"][df[\"y\"] == 0], \"sg\")\n",
    "plt.plot(df[\"x1\"][df[\"y\"] == 1],df[\"x2\"][df[\"y\"] == 1], \"vb\")\n",
    "plt.xlabel(\"X1\")\n",
    "plt.ylabel(\"X2\")\n",
    "plt.axis([0,5,0,5])\n",
    "plt.show()"
   ]
  },
  {
   "cell_type": "code",
   "execution_count": 8,
   "metadata": {
    "colab": {
     "base_uri": "https://localhost:8080/",
     "height": 715
    },
    "id": "xewRlgrvpJh6",
    "outputId": "efcb9cf6-529a-4384-ed5d-c9b31a6a01b2"
   },
   "outputs": [
    {
     "data": {
      "image/png": "[encoded data removed]",
      "text/plain": [
       "<Figure size 1200x1200 with 1 Axes>"
      ]
     },
     "metadata": {},
     "output_type": "display_data"
    }
   ],
   "source": [
    "plt.figure(figsize=(12,12))\n",
    "X = np.column_stack([X1.ravel(),X2.ravel()])\n",
    "Y = y.ravel()\n",
    "\n",
    "from sklearn.tree import DecisionTreeClassifier\n",
    "tree = DecisionTreeClassifier(random_state = 42, max_depth = 2)\n",
    "tree.fit(X,Y)\n",
    "y_pred = tree.predict(X).reshape(X1.shape)\n",
    "plt.contourf(X1,X2,y_pred,cmap = \"binary\",alpha = 0.3)\n",
    "#plt.colorbar()\n",
    "plt.plot(df[\"x1\"][df[\"y\"] == 0],df[\"x2\"][df[\"y\"] == 0], \"sg\") # hue = y\n",
    "plt.plot(df[\"x1\"][df[\"y\"] == 1],df[\"x2\"][df[\"y\"] == 1], \"vb\")\n",
    "plt.xlabel(\"X1\")\n",
    "plt.ylabel(\"X2\")\n",
    "plt.axis([0,5,0,5])\n",
    "plt.show()"
   ]
  },
  {
   "cell_type": "code",
   "execution_count": 9,
   "metadata": {
    "id": "NKxvbKwncCZv"
   },
   "outputs": [],
   "source": [
    "import seaborn as sns"
   ]
  },
  {
   "cell_type": "code",
   "execution_count": 10,
   "metadata": {
    "colab": {
     "base_uri": "https://localhost:8080/",
     "height": 280
    },
    "id": "ybsUUm3icPZL",
    "outputId": "eb88d224-d180-489d-c888-f142c853218a"
   },
   "outputs": [
    {
     "data": {
      "image/png": "[encoded data removed]",
      "text/plain": [
       "<Figure size 640x480 with 1 Axes>"
      ]
     },
     "metadata": {},
     "output_type": "display_data"
    }
   ],
   "source": [
    "sns.scatterplot(x=\"x1\",y=\"x2\",hue=\"y\",data=df)\n",
    "plt.contourf(X1,X2,y_pred,cmap = \"binary\",alpha = 0.3)\n",
    "plt.show()"
   ]
  },
  {
   "cell_type": "code",
   "execution_count": 11,
   "metadata": {
    "colab": {
     "base_uri": "https://localhost:8080/"
    },
    "id": "cYpv7wXWbk3D",
    "outputId": "b6ccbb0c-a89f-40aa-bac2-7b67bc336472"
   },
   "outputs": [
    {
     "data": {
      "text/plain": [
       "0      0.000000\n",
       "1      0.208333\n",
       "2      0.416667\n",
       "3      0.625000\n",
       "4      0.833333\n",
       "         ...   \n",
       "610    2.083333\n",
       "611    2.291667\n",
       "612    2.500000\n",
       "613    2.708333\n",
       "614    2.916667\n",
       "Name: x1, Length: 525, dtype: float64"
      ]
     },
     "execution_count": 11,
     "metadata": {},
     "output_type": "execute_result"
    }
   ],
   "source": [
    "df[\"x1\"][df[\"y\"] == 0]"
   ]
  },
  {
   "cell_type": "code",
   "execution_count": 12,
   "metadata": {
    "colab": {
     "base_uri": "https://localhost:8080/"
    },
    "id": "7K009g-JbpLG",
    "outputId": "906269b7-0574-4545-af45-5cf419b4749a"
   },
   "outputs": [
    {
     "data": {
      "text/plain": [
       "0       True\n",
       "1       True\n",
       "2       True\n",
       "3       True\n",
       "4       True\n",
       "       ...  \n",
       "620    False\n",
       "621    False\n",
       "622    False\n",
       "623    False\n",
       "624    False\n",
       "Name: y, Length: 625, dtype: bool"
      ]
     },
     "execution_count": 12,
     "metadata": {},
     "output_type": "execute_result"
    }
   ],
   "source": [
    "df[\"y\"] == 0"
   ]
  },
  {
   "cell_type": "code",
   "execution_count": 13,
   "metadata": {
    "id": "_WtpOUU3bjt0"
   },
   "outputs": [
    {
     "data": {
      "text/plain": [
       "0      0.000000\n",
       "1      0.208333\n",
       "2      0.416667\n",
       "3      0.625000\n",
       "4      0.833333\n",
       "         ...   \n",
       "610    2.083333\n",
       "611    2.291667\n",
       "612    2.500000\n",
       "613    2.708333\n",
       "614    2.916667\n",
       "Name: x1, Length: 525, dtype: float64"
      ]
     },
     "execution_count": 13,
     "metadata": {},
     "output_type": "execute_result"
    }
   ],
   "source": [
    "df[\"x1\"][df[\"y\"] == 0]"
   ]
  },
  {
   "cell_type": "code",
   "execution_count": 14,
   "metadata": {
    "id": "LloMN0_N0d7X"
   },
   "outputs": [
    {
     "ename": "ModuleNotFoundError",
     "evalue": "No module named 'pydotplus'",
     "output_type": "error",
     "traceback": [
      "\u001b[0;31m---------------------------------------------------------------------------\u001b[0m",
      "\u001b[0;31mModuleNotFoundError\u001b[0m                       Traceback (most recent call last)",
      "Cell \u001b[0;32mIn[14], line 3\u001b[0m\n\u001b[1;32m      1\u001b[0m \u001b[38;5;66;03m#Exporting the Decision Tree\u001b[39;00m\n\u001b[1;32m      2\u001b[0m \u001b[38;5;28;01mfrom\u001b[39;00m \u001b[38;5;21;01msklearn\u001b[39;00m\u001b[38;5;21;01m.\u001b[39;00m\u001b[38;5;21;01mtree\u001b[39;00m \u001b[38;5;28;01mimport\u001b[39;00m export_graphviz\n\u001b[0;32m----> 3\u001b[0m \u001b[38;5;28;01mimport\u001b[39;00m \u001b[38;5;21;01mpydotplus\u001b[39;00m \u001b[38;5;28;01mas\u001b[39;00m \u001b[38;5;21;01mpdot\u001b[39;00m\n\u001b[1;32m      4\u001b[0m \u001b[38;5;28;01mfrom\u001b[39;00m \u001b[38;5;21;01mIPython\u001b[39;00m\u001b[38;5;21;01m.\u001b[39;00m\u001b[38;5;21;01mdisplay\u001b[39;00m \u001b[38;5;28;01mimport\u001b[39;00m Image\n",
      "\u001b[0;31mModuleNotFoundError\u001b[0m: No module named 'pydotplus'"
     ]
    }
   ],
   "source": [
    "#Exporting the Decision Tree\n",
    "from sklearn.tree import export_graphviz\n",
    "import pydotplus as pdot\n",
    "from IPython.display import Image"
   ]
  },
  {
   "cell_type": "code",
   "execution_count": null,
   "metadata": {
    "colab": {
     "base_uri": "https://localhost:8080/",
     "height": 376
    },
    "id": "CBMli6at0g6M",
    "outputId": "1814dfea-63d9-4233-c1af-2e2d287a7d27"
   },
   "outputs": [],
   "source": [
    "export_graphviz(tree,\n",
    "               out_file = \"clf_tree.odt\",\n",
    "               feature_names = [\"x1\",\"x2\"],\n",
    "               filled = True)\n",
    "chd_tree_graph = pdot.graphviz.graph_from_dot_file(\"clf_tree.odt\")\n",
    "chd_tree_graph.write_jpg(\"chd_tree_gini.png\")\n",
    "Image(filename = \"chd_tree_gini.png\")"
   ]
  },
  {
   "cell_type": "code",
   "execution_count": null,
   "metadata": {
    "id": "LolzHb0SGBpD"
   },
   "outputs": [],
   "source": [
    "X,y = make_moons(n_samples=1000, noise = 0.1, random_state = 10)"
   ]
  },
  {
   "cell_type": "code",
   "execution_count": null,
   "metadata": {
    "colab": {
     "base_uri": "https://localhost:8080/",
     "height": 262
    },
    "id": "PfuyQzhaGB6E",
    "outputId": "a65c275e-d83e-46a4-e2db-ada8f20b3ffd"
   },
   "outputs": [],
   "source": [
    "plt.plot(X[:,0][y==1],X[:,1][y==1], \"sg\", label = \"1\")\n",
    "plt.plot(X[:,0][y==0],X[:,1][y==0], \"^r\", label = \"0\")\n",
    "plt.legend()\n",
    "plt.show()"
   ]
  },
  {
   "cell_type": "code",
   "execution_count": null,
   "metadata": {
    "id": "alo9qUUvGDGb"
   },
   "outputs": [],
   "source": [
    "from sklearn.tree import DecisionTreeClassifier"
   ]
  },
  {
   "cell_type": "code",
   "execution_count": null,
   "metadata": {
    "colab": {
     "base_uri": "https://localhost:8080/",
     "height": 121
    },
    "id": "mtW4gjBQGEUR",
    "outputId": "d5459dfe-0aa7-40e3-8328-2ba72ba4aa1d"
   },
   "outputs": [],
   "source": [
    "tree_clf = DecisionTreeClassifier(max_depth=2)\n",
    "tree_clf.fit(X,y)"
   ]
  },
  {
   "cell_type": "code",
   "execution_count": null,
   "metadata": {
    "id": "5JvwfAPtGFPL"
   },
   "outputs": [],
   "source": [
    "#Exporting the Decision Tree\n",
    "from sklearn.tree import export_graphviz\n",
    "import pydotplus as pdot\n",
    "from IPython.display import Image\n",
    "from sklearn.tree import DecisionTreeClassifier"
   ]
  },
  {
   "cell_type": "code",
   "execution_count": null,
   "metadata": {
    "id": "vDYQgRfvK3MJ"
   },
   "outputs": [],
   "source": [
    "export_graphviz(tree_clf,\n",
    "               out_file = \"clf_tree.odt\",\n",
    "               feature_names = [\"x1\",\"x2\"],\n",
    "               filled = True)"
   ]
  },
  {
   "cell_type": "code",
   "execution_count": null,
   "metadata": {
    "id": "fy1Ga3YbK6Q0"
   },
   "outputs": [],
   "source": [
    "chd_tree_graph = pdot.graphviz.graph_from_dot_file(\"clf_tree.odt\")"
   ]
  },
  {
   "cell_type": "code",
   "execution_count": null,
   "metadata": {
    "colab": {
     "base_uri": "https://localhost:8080/",
     "height": 376
    },
    "id": "e4I_RKKZLG2p",
    "outputId": "6c225129-2bba-44ba-f963-ca950e2c75e1"
   },
   "outputs": [],
   "source": [
    "chd_tree_graph.write_jpg(\"chd_tree_gini.png\")\n",
    "Image(filename = \"chd_tree_gini.png\")"
   ]
  },
  {
   "cell_type": "code",
   "execution_count": null,
   "metadata": {
    "id": "opSW1G33LIdu"
   },
   "outputs": [],
   "source": [
    "x1 = np.linspace(-1.5,2.5,100)\n",
    "x2 = np.linspace(-1,1.5,100)\n",
    "X1,X2 = np.meshgrid(x1,x2)"
   ]
  },
  {
   "cell_type": "code",
   "execution_count": null,
   "metadata": {
    "colab": {
     "base_uri": "https://localhost:8080/",
     "height": 35
    },
    "id": "ttPianYMuBO3",
    "outputId": "2b7e7ead-c337-46c2-fc7b-84dc38289b36"
   },
   "outputs": [],
   "source": [
    "tree_clf.get_depth()"
   ]
  },
  {
   "cell_type": "code",
   "execution_count": null,
   "metadata": {
    "colab": {
     "base_uri": "https://localhost:8080/",
     "height": 277
    },
    "id": "RKVV18cTLkRB",
    "outputId": "5ff0f3f6-079d-4068-9a65-31eb5e736de8"
   },
   "outputs": [],
   "source": [
    "X_test = np.column_stack((X1.ravel(),X2.ravel()))\n",
    "y_pred = tree_clf.predict(X_test).reshape(X1.shape)\n",
    "plt.plot(X[:,0][y==1],X[:,1][y==1], \"sg\", label = \"1\")\n",
    "plt.plot(X[:,0][y==0],X[:,1][y==0], \"^r\", label = \"0\")\n",
    "plt.contourf(X1,X2,y_pred,cmap = \"binary\", alpha = 0.3)\n",
    "plt.title(\"Decision Tree with depth :{} \".format(tree_clf.get_depth()))\n",
    "plt.colorbar()\n",
    "plt.legend()\n",
    "plt.show()"
   ]
  },
  {
   "cell_type": "code",
   "execution_count": null,
   "metadata": {
    "id": "dXJZhWzqMFp5"
   },
   "outputs": [],
   "source": [
    "def plot_predictions(model):\n",
    "  x1 = np.linspace(-2,3,100)\n",
    "  x2 = np.linspace(-1,1.5,100)\n",
    "  X1,X2 = np.meshgrid(x1,x2)\n",
    "  X_test = np.column_stack((X1.ravel(),X2.ravel()))\n",
    "  y_pred = model.predict(X_test).reshape(X1.shape)\n",
    "  plt.contourf(X1,X2,y_pred,cmap = \"viridis\", alpha = 0.3)\n",
    "  plt.title(\"Decision Bounndry with depth : {0}\".format(model.get_depth()))\n",
    "  plt.colorbar()"
   ]
  },
  {
   "cell_type": "code",
   "execution_count": null,
   "metadata": {
    "id": "4ToCuX9xNB6W"
   },
   "outputs": [],
   "source": [
    "def create_plot():\n",
    "  plt.plot(X[:,0][y==1],X[:,1][y==1], \"sg\", label = \"1\")\n",
    "  plt.plot(X[:,0][y==0],X[:,1][y==0], \"^r\", label = \"0\")\n",
    "  plt.legend()"
   ]
  },
  {
   "cell_type": "code",
   "execution_count": null,
   "metadata": {
    "id": "wU4oZ22nqmcv"
   },
   "outputs": [],
   "source": []
  },
  {
   "cell_type": "code",
   "execution_count": null,
   "metadata": {
    "colab": {
     "base_uri": "https://localhost:8080/",
     "height": 121
    },
    "id": "QcIwmGENNOgA",
    "outputId": "6bc95e9d-82ca-4177-8e4e-605433fe04e9"
   },
   "outputs": [],
   "source": [
    "tree_clf = DecisionTreeClassifier(max_depth=2)\n",
    "tree_clf.fit(X,y)"
   ]
  },
  {
   "cell_type": "code",
   "execution_count": null,
   "metadata": {
    "colab": {
     "base_uri": "https://localhost:8080/",
     "height": 35
    },
    "id": "FRJHUc5iNzDw",
    "outputId": "73850ba9-9728-4a8b-d93d-5d1d5bb7edc6"
   },
   "outputs": [],
   "source": [
    "tree_clf.get_depth()"
   ]
  },
  {
   "cell_type": "code",
   "execution_count": null,
   "metadata": {
    "colab": {
     "base_uri": "https://localhost:8080/",
     "height": 277
    },
    "id": "dSJnGIbGNWhV",
    "outputId": "be244cec-cc62-41d6-cea7-8b2ae1d2cd0b"
   },
   "outputs": [],
   "source": [
    "plot_predictions(tree_clf)\n",
    "create_plot()\n",
    "plt.show()"
   ]
  },
  {
   "cell_type": "code",
   "execution_count": null,
   "metadata": {
    "id": "xi73utrYr-Ls"
   },
   "outputs": [],
   "source": [
    "X,y = make_moons(n_samples=100, noise = 0.3, random_state = 10)"
   ]
  },
  {
   "cell_type": "code",
   "execution_count": null,
   "metadata": {
    "colab": {
     "base_uri": "https://localhost:8080/",
     "height": 277
    },
    "id": "uLdB8VfcqpVX",
    "outputId": "3e8598b8-f579-4cad-926a-46ecb0d410b1"
   },
   "outputs": [],
   "source": [
    "tree_clf = DecisionTreeClassifier(random_state=42)\n",
    "tree_clf.fit(X,y)\n",
    "plot_predictions(tree_clf)\n",
    "create_plot()\n",
    "plt.title(\"Without Restrictions\")\n",
    "plt.show()"
   ]
  },
  {
   "cell_type": "code",
   "execution_count": null,
   "metadata": {
    "colab": {
     "base_uri": "https://localhost:8080/",
     "height": 277
    },
    "id": "or1JPxZ3qpSA",
    "outputId": "335b13e6-6aab-4443-f87e-a720941e694c"
   },
   "outputs": [],
   "source": [
    "tree_clf = DecisionTreeClassifier(random_state=42,min_samples_leaf=7)\n",
    "tree_clf.fit(X,y)\n",
    "plot_predictions(tree_clf)\n",
    "create_plot()\n",
    "plt.title(\"min_samples_leaf=7\")\n",
    "plt.show()"
   ]
  },
  {
   "cell_type": "code",
   "execution_count": null,
   "metadata": {
    "colab": {
     "base_uri": "https://localhost:8080/",
     "height": 277
    },
    "id": "DAqb9Sf0Nchb",
    "outputId": "f1fe01f1-3253-400c-d539-100ba93d8edb"
   },
   "outputs": [],
   "source": [
    "tree_clf = DecisionTreeClassifier(max_depth=10)\n",
    "tree_clf.fit(X,y)\n",
    "plot_predictions(tree_clf)\n",
    "create_plot()\n",
    "plt.show()"
   ]
  },
  {
   "cell_type": "markdown",
   "metadata": {
    "id": "bYSjcUkbU4Ph"
   },
   "source": [
    "# Implementing on the data"
   ]
  },
  {
   "cell_type": "code",
   "execution_count": null,
   "metadata": {
    "id": "kM8A6HbmU5su"
   },
   "outputs": [],
   "source": [
    "#Load the data\n",
    "from sklearn.datasets import load_breast_cancer\n",
    "cancer = load_breast_cancer()"
   ]
  },
  {
   "cell_type": "code",
   "execution_count": null,
   "metadata": {
    "id": "dwbQbO18U8Jt"
   },
   "outputs": [],
   "source": [
    "#Separate the input features and target\n",
    "X = cancer.data\n",
    "y = cancer.target"
   ]
  },
  {
   "cell_type": "code",
   "execution_count": null,
   "metadata": {
    "colab": {
     "base_uri": "https://localhost:8080/",
     "height": 35
    },
    "id": "HLDQVVWL6lQL",
    "outputId": "3262f3e4-9e6f-4bc0-ba5e-41c09d839de7"
   },
   "outputs": [],
   "source": [
    "X.shape"
   ]
  },
  {
   "cell_type": "code",
   "execution_count": null,
   "metadata": {
    "id": "QTrBd05wU8ax"
   },
   "outputs": [],
   "source": [
    "#Split into Train & Test data\n",
    "from sklearn.model_selection import train_test_split\n",
    "X_train,X_test,y_train,y_test = train_test_split(X,y,stratify = y,random_state = 5)"
   ]
  },
  {
   "cell_type": "code",
   "execution_count": null,
   "metadata": {
    "id": "EhfGCT_CU-OA"
   },
   "outputs": [],
   "source": [
    "from sklearn.tree import DecisionTreeClassifier\n",
    "clf_tree = DecisionTreeClassifier(random_state=42)"
   ]
  },
  {
   "cell_type": "code",
   "execution_count": null,
   "metadata": {
    "colab": {
     "base_uri": "https://localhost:8080/",
     "height": 121
    },
    "id": "RGswlFb7VAFw",
    "outputId": "2ba3cc90-f4ba-4ca1-ca0f-7c8f128f9476"
   },
   "outputs": [],
   "source": [
    "clf_tree.fit(X_train,y_train)"
   ]
  },
  {
   "cell_type": "code",
   "execution_count": null,
   "metadata": {
    "id": "5DbFfC40VBUI"
   },
   "outputs": [],
   "source": [
    "y_pred = clf_tree.predict(X_test)"
   ]
  },
  {
   "cell_type": "code",
   "execution_count": null,
   "metadata": {
    "id": "iAwuOeuZVC4I"
   },
   "outputs": [],
   "source": [
    "export_graphviz(clf_tree,\n",
    "               out_file = \"clf_tree.odt\",\n",
    "               feature_names = cancer.feature_names,\n",
    "                class_names = cancer.target_names,\n",
    "               filled = True)"
   ]
  },
  {
   "cell_type": "code",
   "execution_count": null,
   "metadata": {
    "id": "1pKyNqGZY6PS"
   },
   "outputs": [],
   "source": [
    "clf_tree_graph = pdot.graphviz.graph_from_dot_file(\"clf_tree.odt\")"
   ]
  },
  {
   "cell_type": "code",
   "execution_count": null,
   "metadata": {
    "colab": {
     "base_uri": "https://localhost:8080/",
     "height": 792
    },
    "id": "Hx5WYfPRY7yP",
    "outputId": "548b856b-b24b-4020-d535-8b15ac177748"
   },
   "outputs": [],
   "source": [
    "clf_tree_graph.write_jpg(\"clf_tree.jpeg\")\n",
    "Image(filename = \"clf_tree.jpeg\")"
   ]
  },
  {
   "cell_type": "code",
   "execution_count": null,
   "metadata": {
    "colab": {
     "base_uri": "https://localhost:8080/",
     "height": 35
    },
    "id": "3ka77R6Vyx1M",
    "outputId": "d7d0114a-f300-437b-bb40-d66e0c17d8bd"
   },
   "outputs": [],
   "source": [
    "clf_tree.get_depth()"
   ]
  },
  {
   "cell_type": "code",
   "execution_count": null,
   "metadata": {
    "colab": {
     "base_uri": "https://localhost:8080/",
     "height": 35
    },
    "id": "IqIuQSaUzErN",
    "outputId": "edf39e90-4be6-4b1d-8aef-eb766bbf47e5"
   },
   "outputs": [],
   "source": [
    "from sklearn.metrics import roc_auc_score\n",
    "y_train_pred = clf_tree.predict(X_train)\n",
    "roc_auc_score(y_train,y_train_pred)"
   ]
  },
  {
   "cell_type": "code",
   "execution_count": null,
   "metadata": {
    "colab": {
     "base_uri": "https://localhost:8080/",
     "height": 35
    },
    "id": "0xj2uhMS1VlU",
    "outputId": "07ea8fdc-05c8-408d-eab6-e688135531e1"
   },
   "outputs": [],
   "source": [
    "from sklearn.model_selection import cross_val_score\n",
    "cross_val_score(clf_tree,X_train,y_train, cv = 5, scoring = \"roc_auc\")"
   ]
  },
  {
   "cell_type": "code",
   "execution_count": null,
   "metadata": {
    "colab": {
     "base_uri": "https://localhost:8080/",
     "height": 35
    },
    "id": "SguE2Ya2ZnMQ",
    "outputId": "427d2f9e-7216-48fe-b7cb-06157ba6e4a8"
   },
   "outputs": [],
   "source": [
    "np.mean(cross_val_score(clf_tree,X_train,y_train, cv = 3, scoring = \"roc_auc\"))"
   ]
  },
  {
   "cell_type": "code",
   "execution_count": null,
   "metadata": {
    "id": "YwQabtGr1dJg"
   },
   "outputs": [],
   "source": [
    "from sklearn.model_selection import cross_val_predict\n",
    "y_pred = cross_val_predict(clf_tree,X_train,y_train, cv = 5)"
   ]
  },
  {
   "cell_type": "code",
   "execution_count": null,
   "metadata": {
    "colab": {
     "base_uri": "https://localhost:8080/",
     "height": 347
    },
    "id": "uXFXaV0-fzMd",
    "outputId": "7bd5b78d-7f75-4f5d-800b-b72b948ae12d"
   },
   "outputs": [],
   "source": [
    "from sklearn.model_selection import GridSearchCV\n",
    "\n",
    "parameters = [{\"max_depth\" : range(2,8),\n",
    "               \"min_samples_leaf\": range(3,10),\n",
    "               \"max_leaf_nodes\":range(5,15)}]\n",
    "\n",
    "clf_tree = DecisionTreeClassifier(random_state = 42)\n",
    "\n",
    "clf = GridSearchCV(clf_tree,\n",
    "                  parameters,\n",
    "                  cv = 5,\n",
    "                  scoring = \"roc_auc\")\n",
    "\n",
    "clf.fit(X_train,y_train)"
   ]
  },
  {
   "cell_type": "code",
   "execution_count": null,
   "metadata": {
    "colab": {
     "base_uri": "https://localhost:8080/",
     "height": 35
    },
    "id": "tXaPrIOhfzE1",
    "outputId": "6ce82927-8e1d-44f6-b0db-fe8d9dc0f02c"
   },
   "outputs": [],
   "source": [
    "clf.best_score_"
   ]
  },
  {
   "cell_type": "code",
   "execution_count": null,
   "metadata": {
    "colab": {
     "base_uri": "https://localhost:8080/",
     "height": 35
    },
    "id": "slD_lIN2gzpu",
    "outputId": "289429eb-0049-4f45-f0bf-e9e04a25f2ad"
   },
   "outputs": [],
   "source": [
    "clf.best_params_"
   ]
  },
  {
   "cell_type": "code",
   "execution_count": null,
   "metadata": {
    "id": "gDXaHZBJhvjZ"
   },
   "outputs": [],
   "source": [
    "from sklearn.base import clone\n",
    "best_tree = clone(clf.best_estimator_)"
   ]
  },
  {
   "cell_type": "code",
   "execution_count": null,
   "metadata": {
    "id": "xZ0IQfkpkSM2"
   },
   "outputs": [],
   "source": [
    "best_tree.fit(X_train,y_train)"
   ]
  },
  {
   "cell_type": "code",
   "execution_count": null,
   "metadata": {
    "colab": {
     "base_uri": "https://localhost:8080/",
     "height": 121
    },
    "id": "AYFYZQ-hhGVi",
    "outputId": "2cb5d61c-fa3b-43bb-b8e1-58453846ca65"
   },
   "outputs": [],
   "source": [
    "best_tree = DecisionTreeClassifier(random_state = 42,\n",
    "                                   max_depth = 3,\n",
    "                                   max_leaf_nodes=7,\n",
    "                                   min_samples_leaf=8)\n",
    "best_tree.fit(X_train,y_train)"
   ]
  },
  {
   "cell_type": "code",
   "execution_count": null,
   "metadata": {
    "colab": {
     "base_uri": "https://localhost:8080/",
     "height": 35
    },
    "id": "8aH9_uPLhGSn",
    "outputId": "a2851961-a7a6-4539-fca0-1d092f2c3aa4"
   },
   "outputs": [],
   "source": [
    "cross_val_score(clf,X_train,y_train,scoring=\"roc_auc\",cv = 5)"
   ]
  },
  {
   "cell_type": "code",
   "execution_count": null,
   "metadata": {
    "colab": {
     "base_uri": "https://localhost:8080/",
     "height": 35
    },
    "id": "cdZR8SiLhGPq",
    "outputId": "c5b1343c-dde2-4e41-8f84-816e197e05fb"
   },
   "outputs": [],
   "source": [
    "np.mean(cross_val_score(best_tree,X_train,y_train,scoring=\"roc_auc\",cv = 5))"
   ]
  },
  {
   "cell_type": "code",
   "execution_count": null,
   "metadata": {
    "colab": {
     "base_uri": "https://localhost:8080/",
     "height": 35
    },
    "id": "PY5gKYPug1hE",
    "outputId": "c9282a02-915b-4ec2-e076-b013a95c540c"
   },
   "outputs": [],
   "source": [
    "y_pred_test = best_tree.predict(X_test)\n",
    "roc_auc_score(y_test,y_pred_test)"
   ]
  },
  {
   "cell_type": "code",
   "execution_count": null,
   "metadata": {
    "colab": {
     "base_uri": "https://localhost:8080/",
     "height": 594
    },
    "id": "0Lq8oi4vnKA1",
    "outputId": "367f9812-aace-4d31-b57c-f9841541fc2e"
   },
   "outputs": [],
   "source": [
    "#Create ODT file\n",
    "\n",
    "export_graphviz(best_tree,\n",
    "               out_file = \"best_tree.odt\",\n",
    "               feature_names = cancer.feature_names,\n",
    "                class_names = cancer.target_names,\n",
    "               filled = True)\n",
    "\n",
    "#Generate the Graph\n",
    "clf_tree_graph = pdot.graphviz.graph_from_dot_file(\"best_tree.odt\")\n",
    "\n",
    "#Writing to a jpeg file\n",
    "clf_tree_graph.write_jpg(\"best_tree.jpeg\")\n",
    "\n",
    "#Displaying the Image\n",
    "Image(filename = \"best_tree.jpeg\")"
   ]
  },
  {
   "cell_type": "code",
   "execution_count": null,
   "metadata": {
    "id": "SLT_xQ225ob2"
   },
   "outputs": [],
   "source": [
    "from sklearn.metrics import confusion_matrix\n",
    "import seaborn as sns"
   ]
  },
  {
   "cell_type": "code",
   "execution_count": null,
   "metadata": {
    "id": "F5Lg25dOinmS"
   },
   "outputs": [],
   "source": [
    "y_pred_train = cross_val_predict(best_tree,X_train,y_train,cv=5)"
   ]
  },
  {
   "cell_type": "code",
   "execution_count": null,
   "metadata": {
    "colab": {
     "base_uri": "https://localhost:8080/",
     "height": 276
    },
    "id": "V6tjdcsLiz2j",
    "outputId": "5a467e2a-7b9e-4c7d-f3b8-6b764b0e21cd"
   },
   "outputs": [],
   "source": [
    "cm = confusion_matrix(y_train,y_pred_train)\n",
    "sns.heatmap(cm, annot = True, fmt = \".2f\",\n",
    "            xticklabels=[\"Malignant\",\"Benign\"],\n",
    "            yticklabels=[\"Malignant\",\"Benign\"] )\n",
    "plt.xlabel(\"Predicted labels\")\n",
    "plt.ylabel(\"True Labels\")\n",
    "plt.show()"
   ]
  },
  {
   "cell_type": "code",
   "execution_count": null,
   "metadata": {
    "colab": {
     "base_uri": "https://localhost:8080/",
     "height": 276
    },
    "id": "51co7MN_1spJ",
    "outputId": "307ba318-b491-4151-a8dd-45e645929877"
   },
   "outputs": [],
   "source": [
    "from sklearn.metrics import confusion_matrix\n",
    "import seaborn as sns\n",
    "\n",
    "cm = confusion_matrix(y_test,y_pred_test)\n",
    "sns.heatmap(cm, annot = True, fmt = \".2f\",\n",
    "            xticklabels=[\"Malignant\",\"Benign\"],\n",
    "            yticklabels=[\"Malignant\",\"Benign\"] )\n",
    "plt.xlabel(\"Predicted labels\")\n",
    "plt.ylabel(\"True Labels\")\n",
    "plt.show()"
   ]
  },
  {
   "cell_type": "code",
   "execution_count": null,
   "metadata": {
    "colab": {
     "base_uri": "https://localhost:8080/",
     "height": 285
    },
    "id": "h_JAX9KE5_aX",
    "outputId": "38388173-f56a-4265-99f7-d3cde5611aa0"
   },
   "outputs": [],
   "source": [
    "plt.matshow(cm,cmap = \"viridis\")\n"
   ]
  },
  {
   "cell_type": "code",
   "execution_count": null,
   "metadata": {
    "id": "wvgC5uImY81m"
   },
   "outputs": [],
   "source": [
    "from sklearn.model_selection import GridSearchCV\n",
    "tuned_parameters = [{\"criterion\" : [\"gini\",\"entropy\"],\n",
    "                    \"max_depth\" : range(2,20)}]\n",
    "\n",
    "clf_tree = DecisionTreeClassifier()\n",
    "\n",
    "clf = GridSearchCV(clf_tree,\n",
    "                  tuned_parameters,\n",
    "                  cv = 10,\n",
    "                  scoring = \"roc_auc\")"
   ]
  },
  {
   "cell_type": "code",
   "execution_count": null,
   "metadata": {
    "colab": {
     "base_uri": "https://localhost:8080/",
     "height": 329
    },
    "id": "JS_pfyl7ZE72",
    "outputId": "ae00e0c5-7880-421e-a66f-e8744aab9d46"
   },
   "outputs": [],
   "source": [
    "clf.fit(X_train,y_train)"
   ]
  },
  {
   "cell_type": "code",
   "execution_count": null,
   "metadata": {
    "colab": {
     "base_uri": "https://localhost:8080/",
     "height": 35
    },
    "id": "Jqk6TYSvZGlA",
    "outputId": "55a83650-fa4f-4cca-9c01-4c75a4265fdb"
   },
   "outputs": [],
   "source": [
    "clf.best_score_"
   ]
  },
  {
   "cell_type": "code",
   "execution_count": null,
   "metadata": {
    "colab": {
     "base_uri": "https://localhost:8080/",
     "height": 35
    },
    "id": "GfVvhk2qZH3o",
    "outputId": "a570b71f-bba9-474c-e522-43994c9c1239"
   },
   "outputs": [],
   "source": [
    "clf.best_params_"
   ]
  },
  {
   "cell_type": "code",
   "execution_count": null,
   "metadata": {
    "colab": {
     "base_uri": "https://localhost:8080/",
     "height": 121
    },
    "id": "aB3SO7O8ZI8d",
    "outputId": "1a3bdccb-01d0-4baa-9232-bad28580bc19"
   },
   "outputs": [],
   "source": [
    "#final fit\n",
    "clf_tree = DecisionTreeClassifier(criterion=\"entropy\",max_depth=3)\n",
    "clf_tree.fit(X_train,y_train)"
   ]
  },
  {
   "cell_type": "code",
   "execution_count": null,
   "metadata": {
    "id": "BlC87Y_rZKAc"
   },
   "outputs": [],
   "source": [
    "y_pred = clf_tree.predict(X_test)"
   ]
  },
  {
   "cell_type": "code",
   "execution_count": null,
   "metadata": {
    "colab": {
     "base_uri": "https://localhost:8080/",
     "height": 594
    },
    "id": "0q6qXpHZZLFV",
    "outputId": "e0be7356-d60b-44d0-8907-811334685ba4"
   },
   "outputs": [],
   "source": [
    "export_graphviz(clf_tree,\n",
    "               out_file = \"final_tree.odt\",\n",
    "               feature_names = cancer.feature_names,\n",
    "                class_names = cancer.target_names,\n",
    "               filled = True)\n",
    "chd_tree_graph = pdot.graphviz.graph_from_dot_file(\"final_tree.odt\")\n",
    "chd_tree_graph.write_jpg(\"final_tree.png\")\n",
    "Image(filename = \"final_tree.png\")"
   ]
  },
  {
   "cell_type": "code",
   "execution_count": null,
   "metadata": {
    "id": "zDMJM11DZMVO"
   },
   "outputs": [],
   "source": []
  }
 ],
 "metadata": {
  "colab": {
   "provenance": []
  },
  "kernelspec": {
   "display_name": "Python 3 (ipykernel)",
   "language": "python",
   "name": "python3"
  },
  "language_info": {
   "codemirror_mode": {
    "name": "ipython",
    "version": 3
   },
   "file_extension": ".py",
   "mimetype": "text/x-python",
   "name": "python",
   "nbconvert_exporter": "python",
   "pygments_lexer": "ipython3",
   "version": "3.11.3"
  }
 },
 "nbformat": 4,
 "nbformat_minor": 4
}
