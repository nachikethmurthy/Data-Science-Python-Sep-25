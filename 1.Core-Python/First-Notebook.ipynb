{
 "cells": [
  {
   "cell_type": "markdown",
   "id": "a327de51-4dd9-4c99-b7a8-5ec52b931708",
   "metadata": {},
   "source": [
    "# Basics of Python"
   ]
  },
  {
   "cell_type": "code",
   "execution_count": 1,
   "id": "43c632b8-c34c-4eee-8ce9-b437e23538fb",
   "metadata": {
    "tags": []
   },
   "outputs": [
    {
     "name": "stdout",
     "output_type": "stream",
     "text": [
      "10\n"
     ]
    }
   ],
   "source": [
    "# variables\n",
    "var = 10\n",
    "print(var)"
   ]
  },
  {
   "cell_type": "code",
   "execution_count": 3,
   "id": "93b7adb5-7899-4917-ba69-cc62409ca8ef",
   "metadata": {
    "tags": []
   },
   "outputs": [],
   "source": [
    "# In Edit Mode\n",
    "## shift+enter --> execute a cell\n",
    "\n",
    "# In command mode (use esc key)\n",
    "# b --> add a new cell below my current cell\n",
    "# a --> add a new cell above my current cell\n",
    "# ctrl+s - windows (cmd+s) - mac\n",
    "# m --> convert code cell to markdown cell\n",
    "# y --> convert the markdown cell to code cell"
   ]
  },
  {
   "cell_type": "code",
   "execution_count": 4,
   "id": "d1605ff3-0f7a-4150-9389-08546c24275f",
   "metadata": {
    "tags": []
   },
   "outputs": [
    {
     "data": {
      "text/plain": [
       "100.0"
      ]
     },
     "execution_count": 4,
     "metadata": {},
     "output_type": "execute_result"
    }
   ],
   "source": [
    "#Comments\n",
    "x = 100.0\n",
    "x #  no requirement to use the print statement"
   ]
  },
  {
   "cell_type": "code",
   "execution_count": null,
   "id": "fd85b719-3e28-445b-968d-194e8749c613",
   "metadata": {},
   "outputs": [],
   "source": [
    "# data types of Python\n",
    "# numeric\n",
    "# string\n",
    "# bool\n",
    "# collections (sequences/data structures)"
   ]
  },
  {
   "cell_type": "code",
   "execution_count": 5,
   "id": "e9dd469f-7e99-41ec-a439-73714d7ca1a9",
   "metadata": {
    "tags": []
   },
   "outputs": [
    {
     "data": {
      "text/plain": [
       "int"
      ]
     },
     "execution_count": 5,
     "metadata": {},
     "output_type": "execute_result"
    }
   ],
   "source": [
    "# int , float and complex\n",
    "x = 20\n",
    "type(x) # built-in"
   ]
  },
  {
   "cell_type": "code",
   "execution_count": 6,
   "id": "0c37be9b-fa6b-4ed3-ba27-16ad156624ab",
   "metadata": {
    "tags": []
   },
   "outputs": [
    {
     "name": "stdout",
     "output_type": "stream",
     "text": [
      "<class 'int'>\n"
     ]
    }
   ],
   "source": [
    "#example\n",
    "print(type(x))"
   ]
  },
  {
   "cell_type": "code",
   "execution_count": 7,
   "id": "f45ee8d0-f69b-4d86-8bc5-0e4595332188",
   "metadata": {
    "tags": []
   },
   "outputs": [
    {
     "data": {
      "text/plain": [
       "float"
      ]
     },
     "execution_count": 7,
     "metadata": {},
     "output_type": "execute_result"
    }
   ],
   "source": [
    "y = 12.5\n",
    "type(y)"
   ]
  },
  {
   "cell_type": "code",
   "execution_count": 8,
   "id": "b808ca81-87bd-44e6-a987-02bfc54af63a",
   "metadata": {
    "tags": []
   },
   "outputs": [
    {
     "data": {
      "text/plain": [
       "complex"
      ]
     },
     "execution_count": 8,
     "metadata": {},
     "output_type": "execute_result"
    }
   ],
   "source": [
    "z = 12.5 + 5j\n",
    "type(z)"
   ]
  },
  {
   "cell_type": "code",
   "execution_count": 9,
   "id": "2c72e78d-33dc-46f2-aa96-b9ceee71ea87",
   "metadata": {
    "tags": []
   },
   "outputs": [
    {
     "data": {
      "text/plain": [
       "(bool, bool)"
      ]
     },
     "execution_count": 9,
     "metadata": {},
     "output_type": "execute_result"
    }
   ],
   "source": [
    "# bool\n",
    "a = True\n",
    "b = False\n",
    "type(a),type(b)"
   ]
  },
  {
   "cell_type": "code",
   "execution_count": 11,
   "id": "f6a90d76-f258-4c9e-9617-06c143316a8b",
   "metadata": {
    "tags": []
   },
   "outputs": [
    {
     "name": "stdout",
     "output_type": "stream",
     "text": [
      "<class 'str'>\n",
      "<class 'str'>\n"
     ]
    }
   ],
   "source": [
    "# String\n",
    "# collection of characters - single quote, double quote, triple single quote, triple double quote\n",
    "\n",
    "# single line string -->single quote, double quote\n",
    "\n",
    "x = \"hello world\"\n",
    "y = 'welcome to data science'\n",
    "\n",
    "print(type(x))\n",
    "print(type(y))"
   ]
  },
  {
   "cell_type": "code",
   "execution_count": 12,
   "id": "7a9d163d-e0fb-428b-80fe-3c9eea873bfa",
   "metadata": {
    "tags": []
   },
   "outputs": [
    {
     "ename": "SyntaxError",
     "evalue": "unterminated string literal (detected at line 1) (3953108844.py, line 1)",
     "output_type": "error",
     "traceback": [
      "\u001b[0;36m  Cell \u001b[0;32mIn[12], line 1\u001b[0;36m\u001b[0m\n\u001b[0;31m    x = \"hello world\u001b[0m\n\u001b[0m        ^\u001b[0m\n\u001b[0;31mSyntaxError\u001b[0m\u001b[0;31m:\u001b[0m unterminated string literal (detected at line 1)\n"
     ]
    }
   ],
   "source": [
    "x = \"hello world \n",
    "welcome to course\"\n",
    "type(x)"
   ]
  },
  {
   "cell_type": "code",
   "execution_count": 14,
   "id": "9dfadaf9-e66b-4840-b322-85f5c2865b90",
   "metadata": {
    "tags": []
   },
   "outputs": [
    {
     "name": "stdout",
     "output_type": "stream",
     "text": [
      "hello world welcome to course\n"
     ]
    }
   ],
   "source": [
    "x = \"hello world \\\n",
    "welcome to course\"\n",
    "print(x)"
   ]
  },
  {
   "cell_type": "code",
   "execution_count": 15,
   "id": "384da6ce-ff3d-4d2b-9495-cd7d211242c2",
   "metadata": {
    "tags": []
   },
   "outputs": [
    {
     "name": "stdout",
     "output_type": "stream",
     "text": [
      "Welcome to\n",
      "data science\n",
      "course\n"
     ]
    }
   ],
   "source": [
    "# Multi line strings --> triple single quotes, triple double quotes\n",
    "\n",
    "a = \"\"\"Welcome to\n",
    "data science\n",
    "course\"\"\"\n",
    "print(a)"
   ]
  },
  {
   "cell_type": "code",
   "execution_count": 16,
   "id": "16e43f5f-4243-4c6d-8761-6e649debfa21",
   "metadata": {
    "tags": []
   },
   "outputs": [
    {
     "data": {
      "text/plain": [
       "str"
      ]
     },
     "execution_count": 16,
     "metadata": {},
     "output_type": "execute_result"
    }
   ],
   "source": [
    "type(a)"
   ]
  },
  {
   "cell_type": "code",
   "execution_count": 17,
   "id": "2de53c8c-8b24-44e7-8091-9cea777c3ae3",
   "metadata": {
    "tags": []
   },
   "outputs": [
    {
     "name": "stdout",
     "output_type": "stream",
     "text": [
      "welcome\n",
      "to data\n",
      "science\n",
      "course\n"
     ]
    }
   ],
   "source": [
    "b = '''welcome\n",
    "to data\n",
    "science\n",
    "course'''\n",
    "print(b)"
   ]
  },
  {
   "cell_type": "code",
   "execution_count": 18,
   "id": "d55474cb-a4fd-4da1-b2c9-99f0e5962599",
   "metadata": {
    "tags": []
   },
   "outputs": [
    {
     "data": {
      "text/plain": [
       "str"
      ]
     },
     "execution_count": 18,
     "metadata": {},
     "output_type": "execute_result"
    }
   ],
   "source": [
    "type(b)"
   ]
  },
  {
   "cell_type": "code",
   "execution_count": null,
   "id": "a16cf093-d219-44dd-af80-a04b27049315",
   "metadata": {},
   "outputs": [],
   "source": [
    "# Sequence object --> String"
   ]
  },
  {
   "cell_type": "markdown",
   "id": "0159f86c-b42a-46ca-b4e9-abef5833e72e",
   "metadata": {},
   "source": [
    "# Sequence Operations on Strings"
   ]
  },
  {
   "cell_type": "code",
   "execution_count": 19,
   "id": "9bf0c767-57ea-43f0-9bf8-ece5afe29662",
   "metadata": {
    "tags": []
   },
   "outputs": [
    {
     "data": {
      "text/plain": [
       "'helloworld'"
      ]
     },
     "execution_count": 19,
     "metadata": {},
     "output_type": "execute_result"
    }
   ],
   "source": [
    "# Concatenation\n",
    "a = \"hello\"\n",
    "b = 'world'\n",
    "a+b"
   ]
  },
  {
   "cell_type": "code",
   "execution_count": 20,
   "id": "48e62efd-4577-4af1-a53c-e5a86466af60",
   "metadata": {
    "tags": []
   },
   "outputs": [
    {
     "data": {
      "text/plain": [
       "'hellohellohello'"
      ]
     },
     "execution_count": 20,
     "metadata": {},
     "output_type": "execute_result"
    }
   ],
   "source": [
    "a*3 # repetition"
   ]
  },
  {
   "cell_type": "code",
   "execution_count": 22,
   "id": "0a01b2e2-0784-4919-927b-a0ef04c2797f",
   "metadata": {
    "tags": []
   },
   "outputs": [
    {
     "data": {
      "text/plain": [
       "True"
      ]
     },
     "execution_count": 22,
     "metadata": {},
     "output_type": "execute_result"
    }
   ],
   "source": [
    "\"ll\" in a  #membership testing"
   ]
  },
  {
   "cell_type": "code",
   "execution_count": 27,
   "id": "b3b456f3-b97f-44a3-8cb9-3d365f7ea31b",
   "metadata": {
    "tags": []
   },
   "outputs": [
    {
     "data": {
      "text/plain": [
       "'hello'"
      ]
     },
     "execution_count": 27,
     "metadata": {},
     "output_type": "execute_result"
    }
   ],
   "source": [
    "a # Indexing"
   ]
  },
  {
   "cell_type": "code",
   "execution_count": 28,
   "id": "38230867-4d40-46d6-a7c8-a4e10d0cf76a",
   "metadata": {
    "tags": []
   },
   "outputs": [
    {
     "data": {
      "text/plain": [
       "'e'"
      ]
     },
     "execution_count": 28,
     "metadata": {},
     "output_type": "execute_result"
    }
   ],
   "source": [
    "a[1] # indexing"
   ]
  },
  {
   "cell_type": "code",
   "execution_count": 25,
   "id": "f65a7d81-de7c-4b1f-a804-64117092332a",
   "metadata": {
    "tags": []
   },
   "outputs": [
    {
     "data": {
      "text/plain": [
       "'l'"
      ]
     },
     "execution_count": 25,
     "metadata": {},
     "output_type": "execute_result"
    }
   ],
   "source": [
    "a[2]"
   ]
  },
  {
   "cell_type": "code",
   "execution_count": 26,
   "id": "be8bc157-edfb-4423-92a6-dca5377a2125",
   "metadata": {
    "tags": []
   },
   "outputs": [
    {
     "data": {
      "text/plain": [
       "'o'"
      ]
     },
     "execution_count": 26,
     "metadata": {},
     "output_type": "execute_result"
    }
   ],
   "source": [
    "a[4]"
   ]
  },
  {
   "cell_type": "code",
   "execution_count": 30,
   "id": "7ec3c0ef-39a7-4d23-a2b4-99c835b659ff",
   "metadata": {
    "tags": []
   },
   "outputs": [
    {
     "data": {
      "text/plain": [
       "'e'"
      ]
     },
     "execution_count": 30,
     "metadata": {},
     "output_type": "execute_result"
    }
   ],
   "source": [
    "a[-4] # negative indexing"
   ]
  },
  {
   "cell_type": "code",
   "execution_count": 31,
   "id": "670beeac-9742-4aeb-85f8-dfdf9db6a3bd",
   "metadata": {
    "tags": []
   },
   "outputs": [],
   "source": [
    "# Slicing"
   ]
  },
  {
   "cell_type": "code",
   "execution_count": null,
   "id": "f26fee79-e55d-4783-af21-81a87a447b1d",
   "metadata": {},
   "outputs": [],
   "source": [
    "#[start:end]\n",
    "# start is inclusive\n",
    "# end is exclusive"
   ]
  },
  {
   "cell_type": "code",
   "execution_count": 33,
   "id": "e6281ae2-abc5-4f54-86f1-24b5c0d859ef",
   "metadata": {
    "tags": []
   },
   "outputs": [
    {
     "data": {
      "text/plain": [
       "'hellowelcometodatascience'"
      ]
     },
     "execution_count": 33,
     "metadata": {},
     "output_type": "execute_result"
    }
   ],
   "source": [
    "a = 'hellowelcometodatascience'\n",
    "a"
   ]
  },
  {
   "cell_type": "code",
   "execution_count": 34,
   "id": "7f51b9ef-1e8f-40af-94b1-e1a580890135",
   "metadata": {
    "tags": []
   },
   "outputs": [
    {
     "data": {
      "text/plain": [
       "'llo'"
      ]
     },
     "execution_count": 34,
     "metadata": {},
     "output_type": "execute_result"
    }
   ],
   "source": [
    "a[2:5] # value at 2 is included, and value at 5 is excluded, returns the value between 2 & 5"
   ]
  },
  {
   "cell_type": "code",
   "execution_count": 35,
   "id": "431c249c-6338-4886-a687-f06e4c000b2d",
   "metadata": {
    "tags": []
   },
   "outputs": [
    {
     "data": {
      "text/plain": [
       "'owel'"
      ]
     },
     "execution_count": 35,
     "metadata": {},
     "output_type": "execute_result"
    }
   ],
   "source": [
    "a[4:8]"
   ]
  },
  {
   "cell_type": "code",
   "execution_count": 36,
   "id": "35485d9a-ca34-4575-b612-a005a9702d29",
   "metadata": {
    "tags": []
   },
   "outputs": [
    {
     "data": {
      "text/plain": [
       "'hel'"
      ]
     },
     "execution_count": 36,
     "metadata": {},
     "output_type": "execute_result"
    }
   ],
   "source": [
    "# Default start and end\n",
    "a[:3] # default start = 0 --> 0:3"
   ]
  },
  {
   "cell_type": "code",
   "execution_count": 37,
   "id": "fb4f56c3-bdd2-49a5-9b47-5e958f561d8a",
   "metadata": {
    "tags": []
   },
   "outputs": [
    {
     "data": {
      "text/plain": [
       "25"
      ]
     },
     "execution_count": 37,
     "metadata": {},
     "output_type": "execute_result"
    }
   ],
   "source": [
    "len(a)"
   ]
  },
  {
   "cell_type": "code",
   "execution_count": 38,
   "id": "1567b871-7521-4b55-9bc3-adf7bb3d3a21",
   "metadata": {
    "tags": []
   },
   "outputs": [
    {
     "data": {
      "text/plain": [
       "'hellowelcometodatascience'"
      ]
     },
     "execution_count": 38,
     "metadata": {},
     "output_type": "execute_result"
    }
   ],
   "source": [
    "a"
   ]
  },
  {
   "cell_type": "code",
   "execution_count": 39,
   "id": "a387bf6e-1314-4d3e-a5e9-9675884932e8",
   "metadata": {
    "tags": []
   },
   "outputs": [
    {
     "data": {
      "text/plain": [
       "'welcometodatascience'"
      ]
     },
     "execution_count": 39,
     "metadata": {},
     "output_type": "execute_result"
    }
   ],
   "source": [
    "a[5:] # end = length of sequence (25), start = 5, end = 25"
   ]
  },
  {
   "cell_type": "markdown",
   "id": "ac6ecefe-b197-4357-b980-130faaf0064c",
   "metadata": {},
   "source": [
    "# Heading 1\n",
    "## Heading 2\n",
    "### Heading 3\n",
    "#### Heading 4\n",
    "##### Heading 5\n",
    "###### Heading 6\n",
    "\n",
    "- bullet points\n",
    "- point 2\n",
    "\n",
    "```python\n",
    "x = 20\n",
    "```"
   ]
  },
  {
   "cell_type": "code",
   "execution_count": 40,
   "id": "b746a9ea-eafb-4df2-aed4-1d8ab25a9dbb",
   "metadata": {
    "tags": []
   },
   "outputs": [
    {
     "data": {
      "text/plain": [
       "'hellowelcometodatascience'"
      ]
     },
     "execution_count": 40,
     "metadata": {},
     "output_type": "execute_result"
    }
   ],
   "source": [
    "a"
   ]
  },
  {
   "cell_type": "code",
   "execution_count": 41,
   "id": "421e7f09-4d59-423d-88e8-424712f6d64d",
   "metadata": {
    "tags": []
   },
   "outputs": [
    {
     "data": {
      "text/plain": [
       "'HELLOWELCOMETODATASCIENCE'"
      ]
     },
     "execution_count": 41,
     "metadata": {},
     "output_type": "execute_result"
    }
   ],
   "source": [
    "a.upper()  # convert the string to uppercase"
   ]
  },
  {
   "cell_type": "code",
   "execution_count": 42,
   "id": "477faf12-a8af-4a3c-847f-84ad7c7a9499",
   "metadata": {
    "tags": []
   },
   "outputs": [
    {
     "data": {
      "text/plain": [
       "'welcome'"
      ]
     },
     "execution_count": 42,
     "metadata": {},
     "output_type": "execute_result"
    }
   ],
   "source": [
    "x = \"WELCOME\"\n",
    "x.lower()"
   ]
  },
  {
   "cell_type": "code",
   "execution_count": 43,
   "id": "85af7fcb-6a72-4294-86f1-ef8f95f96479",
   "metadata": {
    "tags": []
   },
   "outputs": [
    {
     "data": {
      "text/plain": [
       "'HELLOWELCOMETODATASCIENCE'"
      ]
     },
     "execution_count": 43,
     "metadata": {},
     "output_type": "execute_result"
    }
   ],
   "source": [
    "a.upper() # shift+tab for documentation viewing\n",
    "# tab for auto completion"
   ]
  },
  {
   "cell_type": "code",
   "execution_count": 44,
   "id": "695e5732-43b3-4822-885f-bb3988152d78",
   "metadata": {
    "tags": []
   },
   "outputs": [
    {
     "data": {
      "text/plain": [
       "True"
      ]
     },
     "execution_count": 44,
     "metadata": {},
     "output_type": "execute_result"
    }
   ],
   "source": [
    "a.isalpha() #only alphabets"
   ]
  },
  {
   "cell_type": "code",
   "execution_count": 45,
   "id": "1d290cdd-21d9-4c6d-bfb5-1adce2ebd474",
   "metadata": {
    "tags": []
   },
   "outputs": [
    {
     "data": {
      "text/plain": [
       "['hello', 'welcome', 'to', 'data', 'science']"
      ]
     },
     "execution_count": 45,
     "metadata": {},
     "output_type": "execute_result"
    }
   ],
   "source": [
    "b = \"hello welcome to data science\"\n",
    "b.split(\" \") # splits the string based on the character mentioned and places in the python list"
   ]
  },
  {
   "cell_type": "code",
   "execution_count": 46,
   "id": "a7aee313-aada-4e9c-b14f-b55ad15b6969",
   "metadata": {
    "tags": []
   },
   "outputs": [
    {
     "name": "stdout",
     "output_type": "stream",
     "text": [
      "    welcome.     \n"
     ]
    }
   ],
   "source": [
    "c = \"    welcome.     \"\n",
    "print(c)"
   ]
  },
  {
   "cell_type": "code",
   "execution_count": 47,
   "id": "f8680a47-982b-46d0-882c-a5b5ea883baa",
   "metadata": {
    "tags": []
   },
   "outputs": [
    {
     "name": "stdout",
     "output_type": "stream",
     "text": [
      "welcome.\n"
     ]
    }
   ],
   "source": [
    "print(c.strip()) # remove the whitespaces from string"
   ]
  },
  {
   "cell_type": "markdown",
   "id": "65d3c62b-58f9-496c-843c-74bb21e9d0cf",
   "metadata": {},
   "source": [
    "https://www.w3schools.com/python/python_strings_methods.asp"
   ]
  },
  {
   "cell_type": "markdown",
   "id": "c9fad5c7-7a07-4462-876b-126c8c7f77d6",
   "metadata": {},
   "source": [
    "# Sequences - list "
   ]
  },
  {
   "cell_type": "code",
   "execution_count": 48,
   "id": "9a765086-fefb-4f7d-86cb-85c80d5812b3",
   "metadata": {
    "tags": []
   },
   "outputs": [
    {
     "data": {
      "text/plain": [
       "list"
      ]
     },
     "execution_count": 48,
     "metadata": {},
     "output_type": "execute_result"
    }
   ],
   "source": [
    "x = [10,20,\"hello\",25.5, 2+5j, \"welcome\"]\n",
    "type(x)"
   ]
  },
  {
   "cell_type": "code",
   "execution_count": 49,
   "id": "9aa7a6a4-0749-47d8-85bd-85930ae33bf8",
   "metadata": {
    "tags": []
   },
   "outputs": [],
   "source": [
    "y= [10,20,30]"
   ]
  },
  {
   "cell_type": "code",
   "execution_count": 50,
   "id": "0d6e5197-024d-4948-95fc-09e4acf38a54",
   "metadata": {
    "tags": []
   },
   "outputs": [
    {
     "data": {
      "text/plain": [
       "[10, 20, 'hello', 25.5, (2+5j), 'welcome', 10, 20, 30]"
      ]
     },
     "execution_count": 50,
     "metadata": {},
     "output_type": "execute_result"
    }
   ],
   "source": [
    "x + y # concatenation"
   ]
  },
  {
   "cell_type": "code",
   "execution_count": 51,
   "id": "0b3ebfc5-5154-4bc4-913f-d27a42a2f16a",
   "metadata": {
    "tags": []
   },
   "outputs": [
    {
     "data": {
      "text/plain": [
       "[10, 20, 30, 10, 20, 30, 10, 20, 30]"
      ]
     },
     "execution_count": 51,
     "metadata": {},
     "output_type": "execute_result"
    }
   ],
   "source": [
    "y * 3 # repetition"
   ]
  },
  {
   "cell_type": "code",
   "execution_count": 52,
   "id": "60050600-118a-4d3e-9582-a1dd1e79e034",
   "metadata": {
    "tags": []
   },
   "outputs": [
    {
     "data": {
      "text/plain": [
       "True"
      ]
     },
     "execution_count": 52,
     "metadata": {},
     "output_type": "execute_result"
    }
   ],
   "source": [
    "\"hello\" in x"
   ]
  },
  {
   "cell_type": "code",
   "execution_count": 53,
   "id": "06d0f930-efac-4a47-9f61-06d9ffc5a68e",
   "metadata": {
    "tags": []
   },
   "outputs": [
    {
     "data": {
      "text/plain": [
       "False"
      ]
     },
     "execution_count": 53,
     "metadata": {},
     "output_type": "execute_result"
    }
   ],
   "source": [
    "100 in x"
   ]
  },
  {
   "cell_type": "code",
   "execution_count": 54,
   "id": "85ce540e-7ac4-4d31-b329-334cde0c7721",
   "metadata": {
    "tags": []
   },
   "outputs": [
    {
     "data": {
      "text/plain": [
       "6"
      ]
     },
     "execution_count": 54,
     "metadata": {},
     "output_type": "execute_result"
    }
   ],
   "source": [
    "len(x) # number of elements in python list"
   ]
  },
  {
   "cell_type": "code",
   "execution_count": 55,
   "id": "a17404dd-68bc-47e4-8e05-603a846734fb",
   "metadata": {
    "tags": []
   },
   "outputs": [
    {
     "data": {
      "text/plain": [
       "[10, 20, 'hello', 25.5, (2+5j), 'welcome']"
      ]
     },
     "execution_count": 55,
     "metadata": {},
     "output_type": "execute_result"
    }
   ],
   "source": [
    "x"
   ]
  },
  {
   "cell_type": "code",
   "execution_count": 56,
   "id": "16aa7407-030b-4709-a083-754726d8309a",
   "metadata": {
    "tags": []
   },
   "outputs": [
    {
     "data": {
      "text/plain": [
       "'hello'"
      ]
     },
     "execution_count": 56,
     "metadata": {},
     "output_type": "execute_result"
    }
   ],
   "source": [
    "# indexing\n",
    "x[2]"
   ]
  },
  {
   "cell_type": "code",
   "execution_count": 57,
   "id": "928809f1-575e-47c9-838e-48ea7ac5834a",
   "metadata": {
    "tags": []
   },
   "outputs": [
    {
     "data": {
      "text/plain": [
       "20"
      ]
     },
     "execution_count": 57,
     "metadata": {},
     "output_type": "execute_result"
    }
   ],
   "source": [
    "x[1]"
   ]
  },
  {
   "cell_type": "code",
   "execution_count": 58,
   "id": "6caf5d26-dc1d-4265-b99d-6dfc5b68011e",
   "metadata": {
    "tags": []
   },
   "outputs": [
    {
     "data": {
      "text/plain": [
       "['hello', 25.5, (2+5j)]"
      ]
     },
     "execution_count": 58,
     "metadata": {},
     "output_type": "execute_result"
    }
   ],
   "source": [
    "# slicing\n",
    "# start is inclusive\n",
    "# end is exclusive\n",
    "x[2:5]"
   ]
  },
  {
   "cell_type": "markdown",
   "id": "7063a284-05f6-49e5-89fd-53482083ef26",
   "metadata": {},
   "source": [
    "Python list properties:\n",
    "- Values are mutable\n",
    "- Add new elements to already created python list using `append()`\n",
    "- delete the list elements as well"
   ]
  },
  {
   "cell_type": "code",
   "execution_count": 59,
   "id": "5cfbe728-e5c2-4f13-b787-9fb700a15fdc",
   "metadata": {
    "tags": []
   },
   "outputs": [
    {
     "ename": "TypeError",
     "evalue": "'str' object does not support item assignment",
     "output_type": "error",
     "traceback": [
      "\u001b[0;31m---------------------------------------------------------------------------\u001b[0m",
      "\u001b[0;31mTypeError\u001b[0m                                 Traceback (most recent call last)",
      "Cell \u001b[0;32mIn[59], line 2\u001b[0m\n\u001b[1;32m      1\u001b[0m a \u001b[38;5;241m=\u001b[39m \u001b[38;5;124m'\u001b[39m\u001b[38;5;124mhello\u001b[39m\u001b[38;5;124m'\u001b[39m\n\u001b[0;32m----> 2\u001b[0m a[\u001b[38;5;241m0\u001b[39m] \u001b[38;5;241m=\u001b[39m \u001b[38;5;124m\"\u001b[39m\u001b[38;5;124mz\u001b[39m\u001b[38;5;124m\"\u001b[39m\n",
      "\u001b[0;31mTypeError\u001b[0m: 'str' object does not support item assignment"
     ]
    }
   ],
   "source": [
    "a = 'hello'\n",
    "a[0] = \"z\" # immutable"
   ]
  },
  {
   "cell_type": "code",
   "execution_count": 60,
   "id": "401f1195-684f-4047-a4b5-38112cf3e5bf",
   "metadata": {
    "tags": []
   },
   "outputs": [
    {
     "data": {
      "text/plain": [
       "[10, 20, 'hello', 25.5, (2+5j), 'welcome']"
      ]
     },
     "execution_count": 60,
     "metadata": {},
     "output_type": "execute_result"
    }
   ],
   "source": [
    "x"
   ]
  },
  {
   "cell_type": "code",
   "execution_count": 61,
   "id": "622d05f9-9e24-41cf-bb13-e915bea0d701",
   "metadata": {
    "tags": []
   },
   "outputs": [
    {
     "data": {
      "text/plain": [
       "[10, 999, 'hello', 25.5, (2+5j), 'welcome']"
      ]
     },
     "execution_count": 61,
     "metadata": {},
     "output_type": "execute_result"
    }
   ],
   "source": [
    "x[1] = 999\n",
    "x"
   ]
  },
  {
   "cell_type": "code",
   "execution_count": 62,
   "id": "5da6a51a-4beb-4c6e-b635-909896187659",
   "metadata": {
    "tags": []
   },
   "outputs": [],
   "source": [
    "x.append(\"world\")"
   ]
  },
  {
   "cell_type": "code",
   "execution_count": 63,
   "id": "49ae7abf-f52a-4166-b84a-840eb085caf4",
   "metadata": {
    "tags": []
   },
   "outputs": [
    {
     "data": {
      "text/plain": [
       "[10, 999, 'hello', 25.5, (2+5j), 'welcome', 'world']"
      ]
     },
     "execution_count": 63,
     "metadata": {},
     "output_type": "execute_result"
    }
   ],
   "source": [
    "x"
   ]
  },
  {
   "cell_type": "code",
   "execution_count": 64,
   "id": "dda4fdea-0cc5-4402-bf38-664b4a0f2194",
   "metadata": {
    "tags": []
   },
   "outputs": [],
   "source": [
    "del x[2]"
   ]
  },
  {
   "cell_type": "code",
   "execution_count": 65,
   "id": "26307810-348f-443c-87dd-c98e75bd6e21",
   "metadata": {
    "tags": []
   },
   "outputs": [
    {
     "data": {
      "text/plain": [
       "[10, 999, 25.5, (2+5j), 'welcome', 'world']"
      ]
     },
     "execution_count": 65,
     "metadata": {},
     "output_type": "execute_result"
    }
   ],
   "source": [
    "x"
   ]
  },
  {
   "cell_type": "code",
   "execution_count": 67,
   "id": "12dc1094-d2a1-4595-b99b-ffdc3eb7c90c",
   "metadata": {
    "tags": []
   },
   "outputs": [
    {
     "data": {
      "text/plain": [
       "[10, 999, 'data science', 25.5, (2+5j), 'welcome', 'world']"
      ]
     },
     "execution_count": 67,
     "metadata": {},
     "output_type": "execute_result"
    }
   ],
   "source": [
    "x.insert(2,\"data science\") # insert a value at required index position\n",
    "x"
   ]
  },
  {
   "cell_type": "markdown",
   "id": "b7692069-094b-4c4d-ab22-3e3ad8a94f6d",
   "metadata": {
    "tags": []
   },
   "source": [
    "# Sequences - Tuples"
   ]
  },
  {
   "cell_type": "code",
   "execution_count": 68,
   "id": "0778b763-ba96-447e-b536-4fa0e6c0e3a0",
   "metadata": {
    "tags": []
   },
   "outputs": [
    {
     "data": {
      "text/plain": [
       "(10, 20, 30, 'welcome', 'data')"
      ]
     },
     "execution_count": 68,
     "metadata": {},
     "output_type": "execute_result"
    }
   ],
   "source": [
    "t = (10,20,30,\"welcome\",\"data\")\n",
    "t"
   ]
  },
  {
   "cell_type": "code",
   "execution_count": 69,
   "id": "dca21d7f-d1ff-409f-86bc-589bcc1c1f51",
   "metadata": {
    "tags": []
   },
   "outputs": [
    {
     "data": {
      "text/plain": [
       "tuple"
      ]
     },
     "execution_count": 69,
     "metadata": {},
     "output_type": "execute_result"
    }
   ],
   "source": [
    "type(t)"
   ]
  },
  {
   "cell_type": "code",
   "execution_count": 70,
   "id": "ca877d65-9ae4-4781-8e6f-076090131b84",
   "metadata": {
    "tags": []
   },
   "outputs": [],
   "source": [
    "t2 = (10,20,30)"
   ]
  },
  {
   "cell_type": "code",
   "execution_count": 71,
   "id": "57fdfd59-1714-4f89-8dca-bcfe580f96c5",
   "metadata": {
    "tags": []
   },
   "outputs": [
    {
     "data": {
      "text/plain": [
       "(10, 20, 30, 'welcome', 'data', 10, 20, 30)"
      ]
     },
     "execution_count": 71,
     "metadata": {},
     "output_type": "execute_result"
    }
   ],
   "source": [
    "t + t2 # returns a new tuple - concatenation"
   ]
  },
  {
   "cell_type": "code",
   "execution_count": 72,
   "id": "a5ec0239-5506-407f-b68d-4b3715e4c0e4",
   "metadata": {
    "tags": []
   },
   "outputs": [
    {
     "data": {
      "text/plain": [
       "(10, 20, 30, 'welcome', 'data', 10, 20, 30, 'welcome', 'data')"
      ]
     },
     "execution_count": 72,
     "metadata": {},
     "output_type": "execute_result"
    }
   ],
   "source": [
    "t*2 # repetition"
   ]
  },
  {
   "cell_type": "code",
   "execution_count": 73,
   "id": "85116af3-24ce-46a6-93b9-2799a8dbe0a9",
   "metadata": {
    "tags": []
   },
   "outputs": [
    {
     "data": {
      "text/plain": [
       "(10, 20, 30, 'welcome', 'data')"
      ]
     },
     "execution_count": 73,
     "metadata": {},
     "output_type": "execute_result"
    }
   ],
   "source": [
    "t"
   ]
  },
  {
   "cell_type": "code",
   "execution_count": 74,
   "id": "47938ab0-7b67-4a9b-8b10-1685d77eef88",
   "metadata": {
    "tags": []
   },
   "outputs": [
    {
     "data": {
      "text/plain": [
       "10"
      ]
     },
     "execution_count": 74,
     "metadata": {},
     "output_type": "execute_result"
    }
   ],
   "source": [
    "t[0] # indexing"
   ]
  },
  {
   "cell_type": "code",
   "execution_count": 75,
   "id": "8d73c7a5-b24d-447d-89d7-3d4205d113d2",
   "metadata": {
    "tags": []
   },
   "outputs": [
    {
     "data": {
      "text/plain": [
       "(20, 30, 'welcome')"
      ]
     },
     "execution_count": 75,
     "metadata": {},
     "output_type": "execute_result"
    }
   ],
   "source": [
    "t[1:4] # slicing"
   ]
  },
  {
   "cell_type": "code",
   "execution_count": 76,
   "id": "02331380-15a3-40ce-b926-64bc22be4c6c",
   "metadata": {
    "tags": []
   },
   "outputs": [
    {
     "data": {
      "text/plain": [
       "True"
      ]
     },
     "execution_count": 76,
     "metadata": {},
     "output_type": "execute_result"
    }
   ],
   "source": [
    "20 in t #membership testing"
   ]
  },
  {
   "cell_type": "code",
   "execution_count": 77,
   "id": "97b2ad99-120b-40a8-b958-c38f76984e93",
   "metadata": {
    "tags": []
   },
   "outputs": [
    {
     "ename": "TypeError",
     "evalue": "'tuple' object does not support item assignment",
     "output_type": "error",
     "traceback": [
      "\u001b[0;31m---------------------------------------------------------------------------\u001b[0m",
      "\u001b[0;31mTypeError\u001b[0m                                 Traceback (most recent call last)",
      "Cell \u001b[0;32mIn[77], line 2\u001b[0m\n\u001b[1;32m      1\u001b[0m \u001b[38;5;66;03m# immutable\u001b[39;00m\n\u001b[0;32m----> 2\u001b[0m t[\u001b[38;5;241m3\u001b[39m] \u001b[38;5;241m=\u001b[39m \u001b[38;5;124m'\u001b[39m\u001b[38;5;124mwelcome\u001b[39m\u001b[38;5;124m'\u001b[39m\n",
      "\u001b[0;31mTypeError\u001b[0m: 'tuple' object does not support item assignment"
     ]
    }
   ],
   "source": [
    "# immutable\n",
    "t[3] = 'welcome'"
   ]
  },
  {
   "cell_type": "code",
   "execution_count": 80,
   "id": "06ed2788-2394-4025-a3f5-320b67c0c477",
   "metadata": {
    "tags": []
   },
   "outputs": [
    {
     "ename": "TypeError",
     "evalue": "'tuple' object doesn't support item deletion",
     "output_type": "error",
     "traceback": [
      "\u001b[0;31m---------------------------------------------------------------------------\u001b[0m",
      "\u001b[0;31mTypeError\u001b[0m                                 Traceback (most recent call last)",
      "Cell \u001b[0;32mIn[80], line 1\u001b[0m\n\u001b[0;32m----> 1\u001b[0m \u001b[38;5;28;01mdel\u001b[39;00m t[\u001b[38;5;241m2\u001b[39m]\n",
      "\u001b[0;31mTypeError\u001b[0m: 'tuple' object doesn't support item deletion"
     ]
    }
   ],
   "source": [
    "del t[2]"
   ]
  },
  {
   "cell_type": "code",
   "execution_count": 81,
   "id": "21c863ea-4e44-435f-9bdf-2d6e90fe61e1",
   "metadata": {
    "tags": []
   },
   "outputs": [
    {
     "data": {
      "text/plain": [
       "5"
      ]
     },
     "execution_count": 81,
     "metadata": {},
     "output_type": "execute_result"
    }
   ],
   "source": [
    "len(t)"
   ]
  },
  {
   "cell_type": "code",
   "execution_count": 82,
   "id": "2db7ffeb-acf7-4662-9d33-8be3156c992d",
   "metadata": {
    "tags": []
   },
   "outputs": [
    {
     "ename": "AttributeError",
     "evalue": "'tuple' object has no attribute 'insert'",
     "output_type": "error",
     "traceback": [
      "\u001b[0;31m---------------------------------------------------------------------------\u001b[0m",
      "\u001b[0;31mAttributeError\u001b[0m                            Traceback (most recent call last)",
      "Cell \u001b[0;32mIn[82], line 1\u001b[0m\n\u001b[0;32m----> 1\u001b[0m t\u001b[38;5;241m.\u001b[39minsert(\u001b[38;5;241m2\u001b[39m,\u001b[38;5;124m\"\u001b[39m\u001b[38;5;124mhello\u001b[39m\u001b[38;5;124m\"\u001b[39m)\n",
      "\u001b[0;31mAttributeError\u001b[0m: 'tuple' object has no attribute 'insert'"
     ]
    }
   ],
   "source": [
    "t.insert(2,\"hello\")"
   ]
  },
  {
   "cell_type": "markdown",
   "id": "f62bf11c-bed2-4293-8169-fa2e21394834",
   "metadata": {},
   "source": [
    "# Broadcasting\n",
    "- converting the value from one data type to another data type"
   ]
  },
  {
   "cell_type": "code",
   "execution_count": 83,
   "id": "c8637819-0e95-4e12-8263-1e32f791c065",
   "metadata": {
    "tags": []
   },
   "outputs": [
    {
     "data": {
      "text/plain": [
       "int"
      ]
     },
     "execution_count": 83,
     "metadata": {},
     "output_type": "execute_result"
    }
   ],
   "source": [
    "x = 10\n",
    "type(x)"
   ]
  },
  {
   "cell_type": "code",
   "execution_count": 85,
   "id": "2ed5ac34-19df-4186-a8c2-cb0a61e03866",
   "metadata": {
    "tags": []
   },
   "outputs": [
    {
     "data": {
      "text/plain": [
       "str"
      ]
     },
     "execution_count": 85,
     "metadata": {},
     "output_type": "execute_result"
    }
   ],
   "source": [
    "y = str(x)\n",
    "type(y)"
   ]
  },
  {
   "cell_type": "code",
   "execution_count": 86,
   "id": "18f1f87d-6d36-40a0-aa04-b4237a6e19d8",
   "metadata": {
    "tags": []
   },
   "outputs": [
    {
     "data": {
      "text/plain": [
       "'10'"
      ]
     },
     "execution_count": 86,
     "metadata": {},
     "output_type": "execute_result"
    }
   ],
   "source": [
    "y"
   ]
  },
  {
   "cell_type": "code",
   "execution_count": 87,
   "id": "64202284-d8cb-4f6d-854c-78a960bea9c5",
   "metadata": {
    "tags": []
   },
   "outputs": [
    {
     "data": {
      "text/plain": [
       "10.0"
      ]
     },
     "execution_count": 87,
     "metadata": {},
     "output_type": "execute_result"
    }
   ],
   "source": [
    "x = 10\n",
    "float(x)"
   ]
  },
  {
   "cell_type": "code",
   "execution_count": 88,
   "id": "90c65528-89fe-4183-b234-0e223188ee61",
   "metadata": {
    "tags": []
   },
   "outputs": [
    {
     "data": {
      "text/plain": [
       "(10+0j)"
      ]
     },
     "execution_count": 88,
     "metadata": {},
     "output_type": "execute_result"
    }
   ],
   "source": [
    "complex(x)"
   ]
  },
  {
   "cell_type": "code",
   "execution_count": 89,
   "id": "2d8d847c-dd43-4ea9-86e4-3d126aa80c2e",
   "metadata": {
    "tags": []
   },
   "outputs": [
    {
     "data": {
      "text/plain": [
       "1"
      ]
     },
     "execution_count": 89,
     "metadata": {},
     "output_type": "execute_result"
    }
   ],
   "source": [
    "int(True)"
   ]
  },
  {
   "cell_type": "code",
   "execution_count": 90,
   "id": "7f89c41d-93f5-4c1b-a3e7-1fd290cf4a17",
   "metadata": {
    "tags": []
   },
   "outputs": [
    {
     "data": {
      "text/plain": [
       "0"
      ]
     },
     "execution_count": 90,
     "metadata": {},
     "output_type": "execute_result"
    }
   ],
   "source": [
    "int(False)"
   ]
  },
  {
   "cell_type": "code",
   "execution_count": 91,
   "id": "dde05483-52ed-489c-83cb-72364c10b9e0",
   "metadata": {
    "tags": []
   },
   "outputs": [
    {
     "data": {
      "text/plain": [
       "list"
      ]
     },
     "execution_count": 91,
     "metadata": {},
     "output_type": "execute_result"
    }
   ],
   "source": [
    "x = [10,20,30]\n",
    "type(x)"
   ]
  },
  {
   "cell_type": "code",
   "execution_count": 93,
   "id": "43f45861-1a7a-4bec-8d22-043d09dd1d7a",
   "metadata": {
    "tags": []
   },
   "outputs": [
    {
     "data": {
      "text/plain": [
       "(10, 20, 30)"
      ]
     },
     "execution_count": 93,
     "metadata": {},
     "output_type": "execute_result"
    }
   ],
   "source": [
    "tuple(x)"
   ]
  },
  {
   "cell_type": "code",
   "execution_count": 94,
   "id": "94b93f0c-e5af-46b6-ac29-588ab182b231",
   "metadata": {
    "tags": []
   },
   "outputs": [
    {
     "data": {
      "text/plain": [
       "tuple"
      ]
     },
     "execution_count": 94,
     "metadata": {},
     "output_type": "execute_result"
    }
   ],
   "source": [
    "z = (10,20,30,40)\n",
    "type(z)"
   ]
  },
  {
   "cell_type": "code",
   "execution_count": 95,
   "id": "2d5ad067-338e-4c72-94bc-3d558c010065",
   "metadata": {
    "tags": []
   },
   "outputs": [
    {
     "data": {
      "text/plain": [
       "list"
      ]
     },
     "execution_count": 95,
     "metadata": {},
     "output_type": "execute_result"
    }
   ],
   "source": [
    "a = list(z)\n",
    "type(a)"
   ]
  },
  {
   "cell_type": "code",
   "execution_count": 96,
   "id": "60b62963-d3df-400e-8ece-9291fed5c0dd",
   "metadata": {
    "tags": []
   },
   "outputs": [
    {
     "data": {
      "text/plain": [
       "['a', 'b', 'c', 'd', 'e', 'f', 'g', 'h']"
      ]
     },
     "execution_count": 96,
     "metadata": {},
     "output_type": "execute_result"
    }
   ],
   "source": [
    "example = list(\"abcdefgh\")\n",
    "example"
   ]
  },
  {
   "cell_type": "markdown",
   "id": "df06b86d-ebd8-4900-926f-5a58094301ed",
   "metadata": {},
   "source": [
    "# Sequences - Python Sets"
   ]
  },
  {
   "cell_type": "code",
   "execution_count": 116,
   "id": "68f5eecd-5901-4757-ab1c-92197857c20a",
   "metadata": {
    "tags": []
   },
   "outputs": [
    {
     "name": "stdout",
     "output_type": "stream",
     "text": [
      "{10, '89', 49, 'hello', 20, 'welcome', 30, 990}\n"
     ]
    }
   ],
   "source": [
    "x = {10,20,30,990,49,\"hello\",10,20,\"welcome\",\"89\"}\n",
    "print(x) # unordered set & only unique values"
   ]
  },
  {
   "cell_type": "code",
   "execution_count": 117,
   "id": "49c9fcf0-82df-4224-b9c1-dc815ed86c59",
   "metadata": {
    "tags": []
   },
   "outputs": [
    {
     "ename": "TypeError",
     "evalue": "'set' object is not subscriptable",
     "output_type": "error",
     "traceback": [
      "\u001b[0;31m---------------------------------------------------------------------------\u001b[0m",
      "\u001b[0;31mTypeError\u001b[0m                                 Traceback (most recent call last)",
      "Cell \u001b[0;32mIn[117], line 2\u001b[0m\n\u001b[1;32m      1\u001b[0m \u001b[38;5;66;03m#does not support indexing\u001b[39;00m\n\u001b[0;32m----> 2\u001b[0m x[\u001b[38;5;241m0\u001b[39m]\n",
      "\u001b[0;31mTypeError\u001b[0m: 'set' object is not subscriptable"
     ]
    }
   ],
   "source": [
    "#does not support indexing\n",
    "x[0]"
   ]
  },
  {
   "cell_type": "code",
   "execution_count": 118,
   "id": "b58c5b02-9fdf-4215-a61f-1d259eaabba1",
   "metadata": {
    "tags": []
   },
   "outputs": [
    {
     "ename": "TypeError",
     "evalue": "'set' object is not subscriptable",
     "output_type": "error",
     "traceback": [
      "\u001b[0;31m---------------------------------------------------------------------------\u001b[0m",
      "\u001b[0;31mTypeError\u001b[0m                                 Traceback (most recent call last)",
      "Cell \u001b[0;32mIn[118], line 1\u001b[0m\n\u001b[0;32m----> 1\u001b[0m x[\u001b[38;5;241m2\u001b[39m:\u001b[38;5;241m5\u001b[39m]\n",
      "\u001b[0;31mTypeError\u001b[0m: 'set' object is not subscriptable"
     ]
    }
   ],
   "source": [
    "x[2:5]"
   ]
  },
  {
   "cell_type": "code",
   "execution_count": 119,
   "id": "f3bb8c72-06fb-4e26-bf98-5ae4e66729d8",
   "metadata": {
    "tags": []
   },
   "outputs": [
    {
     "data": {
      "text/plain": [
       "8"
      ]
     },
     "execution_count": 119,
     "metadata": {},
     "output_type": "execute_result"
    }
   ],
   "source": [
    "len(x)"
   ]
  },
  {
   "cell_type": "code",
   "execution_count": 120,
   "id": "695bcafa-94c3-4c54-8152-2f4b0c2ee0a3",
   "metadata": {
    "tags": []
   },
   "outputs": [
    {
     "name": "stdout",
     "output_type": "stream",
     "text": [
      "{100, 10, '89', 49, 'hello', 20, 'welcome', 30, 990}\n"
     ]
    }
   ],
   "source": [
    "x.update([100]) # update\n",
    "print(x)"
   ]
  },
  {
   "cell_type": "code",
   "execution_count": 122,
   "id": "26aa150f-306e-4e8f-9d29-93c787603cc5",
   "metadata": {
    "tags": []
   },
   "outputs": [],
   "source": [
    "x.remove(990)"
   ]
  },
  {
   "cell_type": "code",
   "execution_count": 124,
   "id": "22d609cf-0db0-49c4-b801-fae1c8862d9c",
   "metadata": {
    "tags": []
   },
   "outputs": [
    {
     "name": "stdout",
     "output_type": "stream",
     "text": [
      "{100, 10, '89', 49, 'hello', 20, 'welcome', 30, 250}\n"
     ]
    }
   ],
   "source": [
    "x.update([250]) # update\n",
    "print(x)"
   ]
  },
  {
   "cell_type": "code",
   "execution_count": 125,
   "id": "703baa4d-a5ae-4785-919f-b03dc663e184",
   "metadata": {
    "tags": []
   },
   "outputs": [
    {
     "data": {
      "text/plain": [
       "{10, 100, 20, 250, 30, 49, '89', 'hello', 'welcome'}"
      ]
     },
     "execution_count": 125,
     "metadata": {},
     "output_type": "execute_result"
    }
   ],
   "source": [
    "x"
   ]
  },
  {
   "cell_type": "code",
   "execution_count": 126,
   "id": "d45d5feb-44ac-421a-b3b5-ee663b9f6c03",
   "metadata": {
    "tags": []
   },
   "outputs": [
    {
     "data": {
      "text/plain": [
       "{10, 100, 20, 250, 30, 49, '89', 'hello', 'welcome'}"
      ]
     },
     "execution_count": 126,
     "metadata": {},
     "output_type": "execute_result"
    }
   ],
   "source": [
    "x"
   ]
  },
  {
   "cell_type": "code",
   "execution_count": 127,
   "id": "7e9423e1-da94-46e4-9696-4e41fb0024a0",
   "metadata": {
    "tags": []
   },
   "outputs": [],
   "source": [
    "a = {10,20}"
   ]
  },
  {
   "cell_type": "code",
   "execution_count": 128,
   "id": "4715a3da-1bcb-4e8e-80cd-281ad82ed24a",
   "metadata": {
    "tags": []
   },
   "outputs": [
    {
     "data": {
      "text/plain": [
       "True"
      ]
     },
     "execution_count": 128,
     "metadata": {},
     "output_type": "execute_result"
    }
   ],
   "source": [
    "a.issubset(x)"
   ]
  },
  {
   "cell_type": "markdown",
   "id": "aee56d71-ad35-45a3-9921-2f2598082fdc",
   "metadata": {},
   "source": [
    "# Sequence - Dictionary"
   ]
  },
  {
   "cell_type": "code",
   "execution_count": 129,
   "id": "26b98e4f-249c-4c80-97e7-1dd04176c103",
   "metadata": {
    "tags": []
   },
   "outputs": [],
   "source": [
    "d = {\"hello\":100,\n",
    "    200: \"world\"}"
   ]
  },
  {
   "cell_type": "code",
   "execution_count": 130,
   "id": "18b683ba-9baf-4c26-8fae-32863b188388",
   "metadata": {
    "tags": []
   },
   "outputs": [
    {
     "data": {
      "text/plain": [
       "dict"
      ]
     },
     "execution_count": 130,
     "metadata": {},
     "output_type": "execute_result"
    }
   ],
   "source": [
    "type(d)"
   ]
  },
  {
   "cell_type": "code",
   "execution_count": 131,
   "id": "275bc083-7b9c-4d1b-b609-b6af52222b6c",
   "metadata": {
    "tags": []
   },
   "outputs": [
    {
     "data": {
      "text/plain": [
       "dict_keys(['hello', 200])"
      ]
     },
     "execution_count": 131,
     "metadata": {},
     "output_type": "execute_result"
    }
   ],
   "source": [
    "d.keys()"
   ]
  },
  {
   "cell_type": "code",
   "execution_count": 132,
   "id": "4b20311b-e4da-46ff-9f05-87d934aec165",
   "metadata": {
    "tags": []
   },
   "outputs": [
    {
     "data": {
      "text/plain": [
       "dict_values([100, 'world'])"
      ]
     },
     "execution_count": 132,
     "metadata": {},
     "output_type": "execute_result"
    }
   ],
   "source": [
    "d.values() # only"
   ]
  },
  {
   "cell_type": "code",
   "execution_count": 133,
   "id": "544d8025-e907-487f-a8aa-4f223db38fc6",
   "metadata": {
    "tags": []
   },
   "outputs": [
    {
     "data": {
      "text/plain": [
       "dict_items([('hello', 100), (200, 'world')])"
      ]
     },
     "execution_count": 133,
     "metadata": {},
     "output_type": "execute_result"
    }
   ],
   "source": [
    "d.items()"
   ]
  },
  {
   "cell_type": "code",
   "execution_count": 135,
   "id": "1ef365d6-c803-4dfe-b4a8-1eeb9c03eca7",
   "metadata": {
    "tags": []
   },
   "outputs": [
    {
     "data": {
      "text/plain": [
       "{'hello': 100, 200: 'world'}"
      ]
     },
     "execution_count": 135,
     "metadata": {},
     "output_type": "execute_result"
    }
   ],
   "source": [
    "d"
   ]
  },
  {
   "cell_type": "code",
   "execution_count": 136,
   "id": "63c84898-4813-4997-95e7-7a0eac6d7d1f",
   "metadata": {
    "tags": []
   },
   "outputs": [
    {
     "data": {
      "text/plain": [
       "100"
      ]
     },
     "execution_count": 136,
     "metadata": {},
     "output_type": "execute_result"
    }
   ],
   "source": [
    "d['hello'] # indexing - specify the key"
   ]
  },
  {
   "cell_type": "code",
   "execution_count": 137,
   "id": "c7d070fb-d20a-40b1-b294-ea44dcaa5631",
   "metadata": {
    "tags": []
   },
   "outputs": [
    {
     "data": {
      "text/plain": [
       "'world'"
      ]
     },
     "execution_count": 137,
     "metadata": {},
     "output_type": "execute_result"
    }
   ],
   "source": [
    "d[200]"
   ]
  },
  {
   "cell_type": "code",
   "execution_count": 138,
   "id": "a3262357-e9d5-4c7b-a570-4213d35f72d1",
   "metadata": {
    "tags": []
   },
   "outputs": [
    {
     "data": {
      "text/plain": [
       "{'hello': 100, 200: 'welcome'}"
      ]
     },
     "execution_count": 138,
     "metadata": {},
     "output_type": "execute_result"
    }
   ],
   "source": [
    "d = {\"hello\":100,\n",
    "    200: \"world\",\n",
    "    200: \"welcome\"}\n",
    "d"
   ]
  },
  {
   "cell_type": "code",
   "execution_count": null,
   "id": "54750a81-3ab6-4142-83b9-9a1391041472",
   "metadata": {},
   "outputs": [],
   "source": []
  }
 ],
 "metadata": {
  "kernelspec": {
   "display_name": "Python 3 (ipykernel)",
   "language": "python",
   "name": "python3"
  },
  "language_info": {
   "codemirror_mode": {
    "name": "ipython",
    "version": 3
   },
   "file_extension": ".py",
   "mimetype": "text/x-python",
   "name": "python",
   "nbconvert_exporter": "python",
   "pygments_lexer": "ipython3",
   "version": "3.11.3"
  }
 },
 "nbformat": 4,
 "nbformat_minor": 5
}
