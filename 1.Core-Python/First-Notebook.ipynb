{
 "cells": [
  {
   "cell_type": "code",
   "execution_count": 1,
   "id": "43c632b8-c34c-4eee-8ce9-b437e23538fb",
   "metadata": {
    "tags": []
   },
   "outputs": [
    {
     "name": "stdout",
     "output_type": "stream",
     "text": [
      "10\n"
     ]
    }
   ],
   "source": [
    "# variables\n",
    "var = 10\n",
    "print(var)"
   ]
  },
  {
   "cell_type": "code",
   "execution_count": 3,
   "id": "93b7adb5-7899-4917-ba69-cc62409ca8ef",
   "metadata": {
    "tags": []
   },
   "outputs": [],
   "source": [
    "# In Edit Mode\n",
    "## shift+enter --> execute a cell\n",
    "\n",
    "# In command mode (use esc key)\n",
    "# b --> add a new cell below my current cell\n",
    "# a --> add a new cell above my current cell\n",
    "# ctrl+s - windows (cmd+s) - mac"
   ]
  },
  {
   "cell_type": "code",
   "execution_count": 4,
   "id": "d1605ff3-0f7a-4150-9389-08546c24275f",
   "metadata": {
    "tags": []
   },
   "outputs": [
    {
     "data": {
      "text/plain": [
       "100.0"
      ]
     },
     "execution_count": 4,
     "metadata": {},
     "output_type": "execute_result"
    }
   ],
   "source": [
    "#Comments\n",
    "x = 100.0\n",
    "x #  no requirement to use the print statement"
   ]
  },
  {
   "cell_type": "code",
   "execution_count": null,
   "id": "fd85b719-3e28-445b-968d-194e8749c613",
   "metadata": {},
   "outputs": [],
   "source": [
    "# data types of Python\n",
    "# numeric\n",
    "# string\n",
    "# bool\n",
    "# collections (sequences/data structures)"
   ]
  },
  {
   "cell_type": "code",
   "execution_count": 5,
   "id": "e9dd469f-7e99-41ec-a439-73714d7ca1a9",
   "metadata": {
    "tags": []
   },
   "outputs": [
    {
     "data": {
      "text/plain": [
       "int"
      ]
     },
     "execution_count": 5,
     "metadata": {},
     "output_type": "execute_result"
    }
   ],
   "source": [
    "# int , float and complex\n",
    "x = 20\n",
    "type(x) # built-in"
   ]
  },
  {
   "cell_type": "code",
   "execution_count": 6,
   "id": "0c37be9b-fa6b-4ed3-ba27-16ad156624ab",
   "metadata": {
    "tags": []
   },
   "outputs": [
    {
     "name": "stdout",
     "output_type": "stream",
     "text": [
      "<class 'int'>\n"
     ]
    }
   ],
   "source": [
    "#example\n",
    "print(type(x))"
   ]
  },
  {
   "cell_type": "code",
   "execution_count": 7,
   "id": "f45ee8d0-f69b-4d86-8bc5-0e4595332188",
   "metadata": {
    "tags": []
   },
   "outputs": [
    {
     "data": {
      "text/plain": [
       "float"
      ]
     },
     "execution_count": 7,
     "metadata": {},
     "output_type": "execute_result"
    }
   ],
   "source": [
    "y = 12.5\n",
    "type(y)"
   ]
  },
  {
   "cell_type": "code",
   "execution_count": 8,
   "id": "b808ca81-87bd-44e6-a987-02bfc54af63a",
   "metadata": {
    "tags": []
   },
   "outputs": [
    {
     "data": {
      "text/plain": [
       "complex"
      ]
     },
     "execution_count": 8,
     "metadata": {},
     "output_type": "execute_result"
    }
   ],
   "source": [
    "z = 12.5 + 5j\n",
    "type(z)"
   ]
  },
  {
   "cell_type": "code",
   "execution_count": 9,
   "id": "2c72e78d-33dc-46f2-aa96-b9ceee71ea87",
   "metadata": {
    "tags": []
   },
   "outputs": [
    {
     "data": {
      "text/plain": [
       "(bool, bool)"
      ]
     },
     "execution_count": 9,
     "metadata": {},
     "output_type": "execute_result"
    }
   ],
   "source": [
    "# bool\n",
    "a = True\n",
    "b = False\n",
    "type(a),type(b)"
   ]
  },
  {
   "cell_type": "code",
   "execution_count": 11,
   "id": "f6a90d76-f258-4c9e-9617-06c143316a8b",
   "metadata": {
    "tags": []
   },
   "outputs": [
    {
     "name": "stdout",
     "output_type": "stream",
     "text": [
      "<class 'str'>\n",
      "<class 'str'>\n"
     ]
    }
   ],
   "source": [
    "# String\n",
    "# collection of characters - single quote, double quote, triple single quote, triple double quote\n",
    "\n",
    "# single line string -->single quote, double quote\n",
    "\n",
    "x = \"hello world\"\n",
    "y = 'welcome to data science'\n",
    "\n",
    "print(type(x))\n",
    "print(type(y))"
   ]
  },
  {
   "cell_type": "code",
   "execution_count": 12,
   "id": "7a9d163d-e0fb-428b-80fe-3c9eea873bfa",
   "metadata": {
    "tags": []
   },
   "outputs": [
    {
     "ename": "SyntaxError",
     "evalue": "unterminated string literal (detected at line 1) (3953108844.py, line 1)",
     "output_type": "error",
     "traceback": [
      "\u001b[0;36m  Cell \u001b[0;32mIn[12], line 1\u001b[0;36m\u001b[0m\n\u001b[0;31m    x = \"hello world\u001b[0m\n\u001b[0m        ^\u001b[0m\n\u001b[0;31mSyntaxError\u001b[0m\u001b[0;31m:\u001b[0m unterminated string literal (detected at line 1)\n"
     ]
    }
   ],
   "source": [
    "x = \"hello world \n",
    "welcome to course\"\n",
    "type(x)"
   ]
  },
  {
   "cell_type": "code",
   "execution_count": 14,
   "id": "9dfadaf9-e66b-4840-b322-85f5c2865b90",
   "metadata": {
    "tags": []
   },
   "outputs": [
    {
     "name": "stdout",
     "output_type": "stream",
     "text": [
      "hello world welcome to course\n"
     ]
    }
   ],
   "source": [
    "x = \"hello world \\\n",
    "welcome to course\"\n",
    "print(x)"
   ]
  },
  {
   "cell_type": "code",
   "execution_count": 15,
   "id": "384da6ce-ff3d-4d2b-9495-cd7d211242c2",
   "metadata": {
    "tags": []
   },
   "outputs": [
    {
     "name": "stdout",
     "output_type": "stream",
     "text": [
      "Welcome to\n",
      "data science\n",
      "course\n"
     ]
    }
   ],
   "source": [
    "# Multi line strings --> triple single quotes, triple double quotes\n",
    "\n",
    "a = \"\"\"Welcome to\n",
    "data science\n",
    "course\"\"\"\n",
    "print(a)"
   ]
  },
  {
   "cell_type": "code",
   "execution_count": 16,
   "id": "16e43f5f-4243-4c6d-8761-6e649debfa21",
   "metadata": {
    "tags": []
   },
   "outputs": [
    {
     "data": {
      "text/plain": [
       "str"
      ]
     },
     "execution_count": 16,
     "metadata": {},
     "output_type": "execute_result"
    }
   ],
   "source": [
    "type(a)"
   ]
  },
  {
   "cell_type": "code",
   "execution_count": 17,
   "id": "2de53c8c-8b24-44e7-8091-9cea777c3ae3",
   "metadata": {
    "tags": []
   },
   "outputs": [
    {
     "name": "stdout",
     "output_type": "stream",
     "text": [
      "welcome\n",
      "to data\n",
      "science\n",
      "course\n"
     ]
    }
   ],
   "source": [
    "b = '''welcome\n",
    "to data\n",
    "science\n",
    "course'''\n",
    "print(b)"
   ]
  },
  {
   "cell_type": "code",
   "execution_count": 18,
   "id": "d55474cb-a4fd-4da1-b2c9-99f0e5962599",
   "metadata": {
    "tags": []
   },
   "outputs": [
    {
     "data": {
      "text/plain": [
       "str"
      ]
     },
     "execution_count": 18,
     "metadata": {},
     "output_type": "execute_result"
    }
   ],
   "source": [
    "type(b)"
   ]
  },
  {
   "cell_type": "code",
   "execution_count": null,
   "id": "a16cf093-d219-44dd-af80-a04b27049315",
   "metadata": {},
   "outputs": [],
   "source": [
    "# Sequence object --> String"
   ]
  },
  {
   "cell_type": "markdown",
   "id": "0159f86c-b42a-46ca-b4e9-abef5833e72e",
   "metadata": {},
   "source": [
    "# Sequence Operations on Strings"
   ]
  },
  {
   "cell_type": "code",
   "execution_count": 19,
   "id": "9bf0c767-57ea-43f0-9bf8-ece5afe29662",
   "metadata": {
    "tags": []
   },
   "outputs": [
    {
     "data": {
      "text/plain": [
       "'helloworld'"
      ]
     },
     "execution_count": 19,
     "metadata": {},
     "output_type": "execute_result"
    }
   ],
   "source": [
    "# Concatenation\n",
    "a = \"hello\"\n",
    "b = 'world'\n",
    "a+b"
   ]
  },
  {
   "cell_type": "code",
   "execution_count": 20,
   "id": "48e62efd-4577-4af1-a53c-e5a86466af60",
   "metadata": {
    "tags": []
   },
   "outputs": [
    {
     "data": {
      "text/plain": [
       "'hellohellohello'"
      ]
     },
     "execution_count": 20,
     "metadata": {},
     "output_type": "execute_result"
    }
   ],
   "source": [
    "a*3 # repetition"
   ]
  },
  {
   "cell_type": "code",
   "execution_count": 22,
   "id": "0a01b2e2-0784-4919-927b-a0ef04c2797f",
   "metadata": {
    "tags": []
   },
   "outputs": [
    {
     "data": {
      "text/plain": [
       "True"
      ]
     },
     "execution_count": 22,
     "metadata": {},
     "output_type": "execute_result"
    }
   ],
   "source": [
    "\"ll\" in a  #membership testing"
   ]
  },
  {
   "cell_type": "code",
   "execution_count": 27,
   "id": "b3b456f3-b97f-44a3-8cb9-3d365f7ea31b",
   "metadata": {
    "tags": []
   },
   "outputs": [
    {
     "data": {
      "text/plain": [
       "'hello'"
      ]
     },
     "execution_count": 27,
     "metadata": {},
     "output_type": "execute_result"
    }
   ],
   "source": [
    "a # Indexing"
   ]
  },
  {
   "cell_type": "code",
   "execution_count": 28,
   "id": "38230867-4d40-46d6-a7c8-a4e10d0cf76a",
   "metadata": {
    "tags": []
   },
   "outputs": [
    {
     "data": {
      "text/plain": [
       "'e'"
      ]
     },
     "execution_count": 28,
     "metadata": {},
     "output_type": "execute_result"
    }
   ],
   "source": [
    "a[1] # indexing"
   ]
  },
  {
   "cell_type": "code",
   "execution_count": 25,
   "id": "f65a7d81-de7c-4b1f-a804-64117092332a",
   "metadata": {
    "tags": []
   },
   "outputs": [
    {
     "data": {
      "text/plain": [
       "'l'"
      ]
     },
     "execution_count": 25,
     "metadata": {},
     "output_type": "execute_result"
    }
   ],
   "source": [
    "a[2]"
   ]
  },
  {
   "cell_type": "code",
   "execution_count": 26,
   "id": "be8bc157-edfb-4423-92a6-dca5377a2125",
   "metadata": {
    "tags": []
   },
   "outputs": [
    {
     "data": {
      "text/plain": [
       "'o'"
      ]
     },
     "execution_count": 26,
     "metadata": {},
     "output_type": "execute_result"
    }
   ],
   "source": [
    "a[4]"
   ]
  },
  {
   "cell_type": "code",
   "execution_count": 30,
   "id": "7ec3c0ef-39a7-4d23-a2b4-99c835b659ff",
   "metadata": {
    "tags": []
   },
   "outputs": [
    {
     "data": {
      "text/plain": [
       "'e'"
      ]
     },
     "execution_count": 30,
     "metadata": {},
     "output_type": "execute_result"
    }
   ],
   "source": [
    "a[-4] # negative indexing"
   ]
  },
  {
   "cell_type": "code",
   "execution_count": 31,
   "id": "670beeac-9742-4aeb-85f8-dfdf9db6a3bd",
   "metadata": {
    "tags": []
   },
   "outputs": [],
   "source": [
    "# Slicing"
   ]
  },
  {
   "cell_type": "code",
   "execution_count": null,
   "id": "f26fee79-e55d-4783-af21-81a87a447b1d",
   "metadata": {},
   "outputs": [],
   "source": [
    "#[start:end]\n",
    "# start is inclusive\n",
    "# end is exclusive"
   ]
  },
  {
   "cell_type": "code",
   "execution_count": 33,
   "id": "e6281ae2-abc5-4f54-86f1-24b5c0d859ef",
   "metadata": {
    "tags": []
   },
   "outputs": [
    {
     "data": {
      "text/plain": [
       "'hellowelcometodatascience'"
      ]
     },
     "execution_count": 33,
     "metadata": {},
     "output_type": "execute_result"
    }
   ],
   "source": [
    "a = 'hellowelcometodatascience'\n",
    "a"
   ]
  },
  {
   "cell_type": "code",
   "execution_count": 34,
   "id": "7f51b9ef-1e8f-40af-94b1-e1a580890135",
   "metadata": {
    "tags": []
   },
   "outputs": [
    {
     "data": {
      "text/plain": [
       "'llo'"
      ]
     },
     "execution_count": 34,
     "metadata": {},
     "output_type": "execute_result"
    }
   ],
   "source": [
    "a[2:5] # value at 2 is included, and value at 5 is excluded, returns the value between 2 & 5"
   ]
  },
  {
   "cell_type": "code",
   "execution_count": 35,
   "id": "431c249c-6338-4886-a687-f06e4c000b2d",
   "metadata": {
    "tags": []
   },
   "outputs": [
    {
     "data": {
      "text/plain": [
       "'owel'"
      ]
     },
     "execution_count": 35,
     "metadata": {},
     "output_type": "execute_result"
    }
   ],
   "source": [
    "a[4:8]"
   ]
  },
  {
   "cell_type": "code",
   "execution_count": 36,
   "id": "35485d9a-ca34-4575-b612-a005a9702d29",
   "metadata": {
    "tags": []
   },
   "outputs": [
    {
     "data": {
      "text/plain": [
       "'hel'"
      ]
     },
     "execution_count": 36,
     "metadata": {},
     "output_type": "execute_result"
    }
   ],
   "source": [
    "# Default start and end\n",
    "a[:3] # default start = 0 --> 0:3"
   ]
  },
  {
   "cell_type": "code",
   "execution_count": 37,
   "id": "fb4f56c3-bdd2-49a5-9b47-5e958f561d8a",
   "metadata": {
    "tags": []
   },
   "outputs": [
    {
     "data": {
      "text/plain": [
       "25"
      ]
     },
     "execution_count": 37,
     "metadata": {},
     "output_type": "execute_result"
    }
   ],
   "source": [
    "len(a)"
   ]
  },
  {
   "cell_type": "code",
   "execution_count": 38,
   "id": "1567b871-7521-4b55-9bc3-adf7bb3d3a21",
   "metadata": {
    "tags": []
   },
   "outputs": [
    {
     "data": {
      "text/plain": [
       "'hellowelcometodatascience'"
      ]
     },
     "execution_count": 38,
     "metadata": {},
     "output_type": "execute_result"
    }
   ],
   "source": [
    "a"
   ]
  },
  {
   "cell_type": "code",
   "execution_count": 39,
   "id": "a387bf6e-1314-4d3e-a5e9-9675884932e8",
   "metadata": {
    "tags": []
   },
   "outputs": [
    {
     "data": {
      "text/plain": [
       "'welcometodatascience'"
      ]
     },
     "execution_count": 39,
     "metadata": {},
     "output_type": "execute_result"
    }
   ],
   "source": [
    "a[5:] # end = length of sequence (25), start = 5, end = 25"
   ]
  },
  {
   "cell_type": "code",
   "execution_count": null,
   "id": "2eca3185-39cf-4c31-9a46-73f44ea8c7d3",
   "metadata": {},
   "outputs": [],
   "source": []
  }
 ],
 "metadata": {
  "kernelspec": {
   "display_name": "Python 3 (ipykernel)",
   "language": "python",
   "name": "python3"
  },
  "language_info": {
   "codemirror_mode": {
    "name": "ipython",
    "version": 3
   },
   "file_extension": ".py",
   "mimetype": "text/x-python",
   "name": "python",
   "nbconvert_exporter": "python",
   "pygments_lexer": "ipython3",
   "version": "3.11.3"
  }
 },
 "nbformat": 4,
 "nbformat_minor": 5
}
