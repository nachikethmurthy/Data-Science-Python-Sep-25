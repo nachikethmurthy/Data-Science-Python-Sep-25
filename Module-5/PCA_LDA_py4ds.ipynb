{
  "nbformat": 4,
  "nbformat_minor": 0,
  "metadata": {
    "colab": {
      "provenance": []
    },
    "kernelspec": {
      "name": "python3",
      "display_name": "Python 3"
    },
    "language_info": {
      "name": "python"
    }
  },
  "cells": [
    {
      "cell_type": "code",
      "execution_count": 48,
      "metadata": {
        "id": "9pbiWuO9LCMP"
      },
      "outputs": [],
      "source": [
        "import pandas as pd\n",
        "import numpy as np\n",
        "from sklearn.datasets import load_digits,load_iris\n",
        "import matplotlib.pyplot as plt"
      ]
    },
    {
      "cell_type": "code",
      "source": [
        "digits = load_digits()"
      ],
      "metadata": {
        "id": "FdGlCe_yLTey"
      },
      "execution_count": 49,
      "outputs": []
    },
    {
      "cell_type": "code",
      "source": [
        "X = digits.data\n",
        "y = digits.target\n",
        "\n",
        "print(X.shape)"
      ],
      "metadata": {
        "colab": {
          "base_uri": "https://localhost:8080/"
        },
        "id": "E53yclobLWcK",
        "outputId": "76f4518c-d859-45f4-bb39-c6cfa8545e86"
      },
      "execution_count": 50,
      "outputs": [
        {
          "output_type": "stream",
          "name": "stdout",
          "text": [
            "(1797, 64)\n"
          ]
        }
      ]
    },
    {
      "cell_type": "code",
      "source": [
        "type(y)"
      ],
      "metadata": {
        "colab": {
          "base_uri": "https://localhost:8080/"
        },
        "id": "vq6ITFmrUM0o",
        "outputId": "2a9f3844-813b-4d15-c9b5-ac5811538e3c"
      },
      "execution_count": 51,
      "outputs": [
        {
          "output_type": "execute_result",
          "data": {
            "text/plain": [
              "numpy.ndarray"
            ]
          },
          "metadata": {},
          "execution_count": 51
        }
      ]
    },
    {
      "cell_type": "code",
      "source": [
        "pd.Series(y).unique()"
      ],
      "metadata": {
        "colab": {
          "base_uri": "https://localhost:8080/"
        },
        "id": "1RD0KsNzUOzn",
        "outputId": "482fc1d9-1678-435b-ddca-81ca55f8d528"
      },
      "execution_count": 52,
      "outputs": [
        {
          "output_type": "execute_result",
          "data": {
            "text/plain": [
              "array([0, 1, 2, 3, 4, 5, 6, 7, 8, 9])"
            ]
          },
          "metadata": {},
          "execution_count": 52
        }
      ]
    },
    {
      "cell_type": "code",
      "source": [
        "X[0]"
      ],
      "metadata": {
        "colab": {
          "base_uri": "https://localhost:8080/"
        },
        "id": "QwFITWLMLdgk",
        "outputId": "d8bb78b8-1cf7-4d16-f124-7d339ea7e3f9"
      },
      "execution_count": 53,
      "outputs": [
        {
          "output_type": "execute_result",
          "data": {
            "text/plain": [
              "array([ 0.,  0.,  5., 13.,  9.,  1.,  0.,  0.,  0.,  0., 13., 15., 10.,\n",
              "       15.,  5.,  0.,  0.,  3., 15.,  2.,  0., 11.,  8.,  0.,  0.,  4.,\n",
              "       12.,  0.,  0.,  8.,  8.,  0.,  0.,  5.,  8.,  0.,  0.,  9.,  8.,\n",
              "        0.,  0.,  4., 11.,  0.,  1., 12.,  7.,  0.,  0.,  2., 14.,  5.,\n",
              "       10., 12.,  0.,  0.,  0.,  0.,  6., 13., 10.,  0.,  0.,  0.])"
            ]
          },
          "metadata": {},
          "execution_count": 53
        }
      ]
    },
    {
      "cell_type": "code",
      "source": [
        "plt.matshow(X[0].reshape(8,8))\n",
        "plt.show()"
      ],
      "metadata": {
        "colab": {
          "base_uri": "https://localhost:8080/",
          "height": 437
        },
        "id": "YRLEz8B6LmrW",
        "outputId": "e582baaa-4084-4b2f-adcc-105851a07f6e"
      },
      "execution_count": 54,
      "outputs": [
        {
          "output_type": "display_data",
          "data": {
            "text/plain": [
              "<Figure size 480x480 with 1 Axes>"
            ],
            "image/png": "[encoded data removed]"
          },
          "metadata": {}
        }
      ]
    },
    {
      "cell_type": "code",
      "source": [
        "y[0]"
      ],
      "metadata": {
        "colab": {
          "base_uri": "https://localhost:8080/"
        },
        "id": "vuOYegpnLuvC",
        "outputId": "aee9f180-ad7a-4d21-c9bc-1f2817f6bb68"
      },
      "execution_count": 55,
      "outputs": [
        {
          "output_type": "execute_result",
          "data": {
            "text/plain": [
              "0"
            ]
          },
          "metadata": {},
          "execution_count": 55
        }
      ]
    },
    {
      "cell_type": "code",
      "source": [
        "np.max(X)"
      ],
      "metadata": {
        "colab": {
          "base_uri": "https://localhost:8080/"
        },
        "id": "j_oA1tF9MBSJ",
        "outputId": "d0cb3b66-5b78-4b1d-a2b9-0886ec375d64"
      },
      "execution_count": 56,
      "outputs": [
        {
          "output_type": "execute_result",
          "data": {
            "text/plain": [
              "16.0"
            ]
          },
          "metadata": {},
          "execution_count": 56
        }
      ]
    },
    {
      "cell_type": "code",
      "source": [
        "np.min(X)"
      ],
      "metadata": {
        "colab": {
          "base_uri": "https://localhost:8080/"
        },
        "id": "m-Lqy958MDRW",
        "outputId": "7ff41abc-1e0d-41f1-e517-2c4cb49d5d94"
      },
      "execution_count": 57,
      "outputs": [
        {
          "output_type": "execute_result",
          "data": {
            "text/plain": [
              "0.0"
            ]
          },
          "metadata": {},
          "execution_count": 57
        }
      ]
    },
    {
      "cell_type": "markdown",
      "source": [
        "# Normalization"
      ],
      "metadata": {
        "id": "1sijSAKBMIGX"
      }
    },
    {
      "cell_type": "code",
      "source": [
        "X = X/16.0\n",
        "np.max(X), np.min(X)"
      ],
      "metadata": {
        "colab": {
          "base_uri": "https://localhost:8080/"
        },
        "id": "ObRIqDovMKOc",
        "outputId": "d9507274-c588-4624-ffd3-205589e0f8fa"
      },
      "execution_count": 58,
      "outputs": [
        {
          "output_type": "execute_result",
          "data": {
            "text/plain": [
              "(1.0, 0.0)"
            ]
          },
          "metadata": {},
          "execution_count": 58
        }
      ]
    },
    {
      "cell_type": "markdown",
      "source": [
        "# PCA"
      ],
      "metadata": {
        "id": "F1O3Fm0DMAKC"
      }
    },
    {
      "cell_type": "code",
      "source": [
        "from sklearn.decomposition import PCA\n",
        "pca = PCA() #n_components = None"
      ],
      "metadata": {
        "id": "Cp1v2xl8L3xb"
      },
      "execution_count": 59,
      "outputs": []
    },
    {
      "cell_type": "code",
      "source": [
        "X_pca = pca.fit_transform(X)"
      ],
      "metadata": {
        "id": "Eq1vEv4JMmHg"
      },
      "execution_count": 60,
      "outputs": []
    },
    {
      "cell_type": "code",
      "source": [
        "pd.DataFrame(X_pca)"
      ],
      "metadata": {
        "colab": {
          "base_uri": "https://localhost:8080/",
          "height": 617
        },
        "id": "9H0x2fH8Xadp",
        "outputId": "d4c43586-08b7-4afc-9e93-7abaa461b0cf"
      },
      "execution_count": 61,
      "outputs": [
        {
          "output_type": "execute_result",
          "data": {
            "text/plain": [
              "            0         1         2         3         4         5         6   \\\n",
              "0    -0.078717  1.329680 -0.591441  0.813387 -0.445551 -0.465041  0.203302   \n",
              "1     0.497351 -1.298044  0.277469 -0.930854  0.368516 -0.405351  0.132889   \n",
              "2     0.436995 -0.622249  0.184910 -0.768019 -1.132876 -0.281729  0.115195   \n",
              "3    -0.994132  0.208279  0.614023 -0.767240  0.435323  0.068093 -0.065130   \n",
              "4     1.456679  0.266816 -0.354696 -0.865720 -0.022383 -0.178598 -0.045031   \n",
              "...        ...       ...       ...       ...       ...       ...       ...   \n",
              "1792 -0.912914  0.834008 -0.839940 -0.406434  0.236717 -0.170615 -0.277020   \n",
              "1793  0.404036  1.285456 -0.572194  0.784631 -0.563499 -0.856697  0.239455   \n",
              "1794  0.675080 -0.435016  0.349972 -0.451733 -0.216228 -0.773450 -0.280612   \n",
              "1795 -0.304506  0.776497 -0.635679 -0.416803  0.223066 -0.000244 -0.187171   \n",
              "1796 -0.021524  0.397847  0.673357 -0.482888 -0.206913 -0.190566 -0.725750   \n",
              "\n",
              "            7         8         9   ...        54        55        56  \\\n",
              "0     0.159592 -0.036365  0.226606  ... -0.003049 -0.000114  0.000694   \n",
              "1    -0.288496  0.224216 -0.067169  ... -0.002334 -0.000041 -0.002414   \n",
              "2    -1.025950  0.044952  0.265988  ... -0.011355 -0.005336  0.001598   \n",
              "3     0.685847 -0.203733  0.406172  ... -0.000100 -0.000734 -0.004232   \n",
              "4     0.815106 -0.239713  0.838385  ... -0.001143 -0.003369 -0.000620   \n",
              "...        ...       ...       ...  ...       ...       ...       ...   \n",
              "1792 -0.244647  0.457558 -0.528074  ... -0.000502  0.000024  0.000158   \n",
              "1793 -0.234766 -0.449550 -0.327490  ... -0.002815 -0.001128 -0.000047   \n",
              "1794 -0.463442 -0.247599 -0.816568  ...  0.004286  0.001426  0.000338   \n",
              "1795 -0.272368  0.246203 -0.821578  ... -0.000530  0.000234  0.000295   \n",
              "1796  0.041814 -0.257073 -0.785125  ... -0.016811  0.000205  0.001632   \n",
              "\n",
              "            57        58        59        60            61            62  \\\n",
              "0    -0.000097  0.000515  0.000134  0.000065  0.000000e+00  0.000000e+00   \n",
              "1    -0.000183 -0.000044 -0.000279 -0.000160  1.222915e-16  3.086142e-17   \n",
              "2     0.000139  0.000176 -0.000032 -0.000824  6.013718e-17  2.479891e-17   \n",
              "3    -0.000165  0.000097  0.000053  0.000121 -2.730053e-17 -4.412559e-17   \n",
              "4    -0.001246  0.000279  0.000102  0.000432  7.530282e-17  6.505502e-18   \n",
              "...        ...       ...       ...       ...           ...           ...   \n",
              "1792 -0.000561 -0.000284  0.000359  0.000035  7.176701e-18  5.231980e-18   \n",
              "1793  0.000495  0.000421  0.000272  0.000220 -1.716765e-17 -9.721678e-20   \n",
              "1794  0.000775 -0.000132 -0.000045  0.000153 -1.535633e-17  9.340602e-18   \n",
              "1795 -0.001038  0.000503 -0.000204 -0.000055 -5.725450e-20  7.213114e-18   \n",
              "1796 -0.000139  0.000082 -0.000078 -0.001049 -7.585455e-18 -5.633002e-18   \n",
              "\n",
              "                63  \n",
              "0     2.788382e-15  \n",
              "1     1.044040e-17  \n",
              "2     7.290891e-18  \n",
              "3     4.843797e-18  \n",
              "4     3.056840e-18  \n",
              "...            ...  \n",
              "1792 -4.007189e-18  \n",
              "1793 -6.210792e-18  \n",
              "1794  6.067562e-18  \n",
              "1795 -7.735180e-18  \n",
              "1796  1.691694e-17  \n",
              "\n",
              "[1797 rows x 64 columns]"
            ],
            "text/html": [
              "\n",
              "  <div id=\"df-f5b9ffe8-be8c-48aa-b173-b2e9001a7dd5\" class=\"colab-df-container\">\n",
              "    <div>\n",
              "<style scoped>\n",
              "    .dataframe tbody tr th:only-of-type {\n",
              "        vertical-align: middle;\n",
              "    }\n",
              "\n",
              "    .dataframe tbody tr th {\n",
              "        vertical-align: top;\n",
              "    }\n",
              "\n",
              "    .dataframe thead th {\n",
              "        text-align: right;\n",
              "    }\n",
              "</style>\n",
              "<table border=\"1\" class=\"dataframe\">\n",
              "  <thead>\n",
              "    <tr style=\"text-align: right;\">\n",
              "      <th></th>\n",
              "      <th>0</th>\n",
              "      <th>1</th>\n",
              "      <th>2</th>\n",
              "      <th>3</th>\n",
              "      <th>4</th>\n",
              "      <th>5</th>\n",
              "      <th>6</th>\n",
              "      <th>7</th>\n",
              "      <th>8</th>\n",
              "      <th>9</th>\n",
              "      <th>...</th>\n",
              "      <th>54</th>\n",
              "      <th>55</th>\n",
              "      <th>56</th>\n",
              "      <th>57</th>\n",
              "      <th>58</th>\n",
              "      <th>59</th>\n",
              "      <th>60</th>\n",
              "      <th>61</th>\n",
              "      <th>62</th>\n",
              "      <th>63</th>\n",
              "    </tr>\n",
              "  </thead>\n",
              "  <tbody>\n",
              "    <tr>\n",
              "      <th>0</th>\n",
              "      <td>-0.078717</td>\n",
              "      <td>1.329680</td>\n",
              "      <td>-0.591441</td>\n",
              "      <td>0.813387</td>\n",
              "      <td>-0.445551</td>\n",
              "      <td>-0.465041</td>\n",
              "      <td>0.203302</td>\n",
              "      <td>0.159592</td>\n",
              "      <td>-0.036365</td>\n",
              "      <td>0.226606</td>\n",
              "      <td>...</td>\n",
              "      <td>-0.003049</td>\n",
              "      <td>-0.000114</td>\n",
              "      <td>0.000694</td>\n",
              "      <td>-0.000097</td>\n",
              "      <td>0.000515</td>\n",
              "      <td>0.000134</td>\n",
              "      <td>0.000065</td>\n",
              "      <td>0.000000e+00</td>\n",
              "      <td>0.000000e+00</td>\n",
              "      <td>2.788382e-15</td>\n",
              "    </tr>\n",
              "    <tr>\n",
              "      <th>1</th>\n",
              "      <td>0.497351</td>\n",
              "      <td>-1.298044</td>\n",
              "      <td>0.277469</td>\n",
              "      <td>-0.930854</td>\n",
              "      <td>0.368516</td>\n",
              "      <td>-0.405351</td>\n",
              "      <td>0.132889</td>\n",
              "      <td>-0.288496</td>\n",
              "      <td>0.224216</td>\n",
              "      <td>-0.067169</td>\n",
              "      <td>...</td>\n",
              "      <td>-0.002334</td>\n",
              "      <td>-0.000041</td>\n",
              "      <td>-0.002414</td>\n",
              "      <td>-0.000183</td>\n",
              "      <td>-0.000044</td>\n",
              "      <td>-0.000279</td>\n",
              "      <td>-0.000160</td>\n",
              "      <td>1.222915e-16</td>\n",
              "      <td>3.086142e-17</td>\n",
              "      <td>1.044040e-17</td>\n",
              "    </tr>\n",
              "    <tr>\n",
              "      <th>2</th>\n",
              "      <td>0.436995</td>\n",
              "      <td>-0.622249</td>\n",
              "      <td>0.184910</td>\n",
              "      <td>-0.768019</td>\n",
              "      <td>-1.132876</td>\n",
              "      <td>-0.281729</td>\n",
              "      <td>0.115195</td>\n",
              "      <td>-1.025950</td>\n",
              "      <td>0.044952</td>\n",
              "      <td>0.265988</td>\n",
              "      <td>...</td>\n",
              "      <td>-0.011355</td>\n",
              "      <td>-0.005336</td>\n",
              "      <td>0.001598</td>\n",
              "      <td>0.000139</td>\n",
              "      <td>0.000176</td>\n",
              "      <td>-0.000032</td>\n",
              "      <td>-0.000824</td>\n",
              "      <td>6.013718e-17</td>\n",
              "      <td>2.479891e-17</td>\n",
              "      <td>7.290891e-18</td>\n",
              "    </tr>\n",
              "    <tr>\n",
              "      <th>3</th>\n",
              "      <td>-0.994132</td>\n",
              "      <td>0.208279</td>\n",
              "      <td>0.614023</td>\n",
              "      <td>-0.767240</td>\n",
              "      <td>0.435323</td>\n",
              "      <td>0.068093</td>\n",
              "      <td>-0.065130</td>\n",
              "      <td>0.685847</td>\n",
              "      <td>-0.203733</td>\n",
              "      <td>0.406172</td>\n",
              "      <td>...</td>\n",
              "      <td>-0.000100</td>\n",
              "      <td>-0.000734</td>\n",
              "      <td>-0.004232</td>\n",
              "      <td>-0.000165</td>\n",
              "      <td>0.000097</td>\n",
              "      <td>0.000053</td>\n",
              "      <td>0.000121</td>\n",
              "      <td>-2.730053e-17</td>\n",
              "      <td>-4.412559e-17</td>\n",
              "      <td>4.843797e-18</td>\n",
              "    </tr>\n",
              "    <tr>\n",
              "      <th>4</th>\n",
              "      <td>1.456679</td>\n",
              "      <td>0.266816</td>\n",
              "      <td>-0.354696</td>\n",
              "      <td>-0.865720</td>\n",
              "      <td>-0.022383</td>\n",
              "      <td>-0.178598</td>\n",
              "      <td>-0.045031</td>\n",
              "      <td>0.815106</td>\n",
              "      <td>-0.239713</td>\n",
              "      <td>0.838385</td>\n",
              "      <td>...</td>\n",
              "      <td>-0.001143</td>\n",
              "      <td>-0.003369</td>\n",
              "      <td>-0.000620</td>\n",
              "      <td>-0.001246</td>\n",
              "      <td>0.000279</td>\n",
              "      <td>0.000102</td>\n",
              "      <td>0.000432</td>\n",
              "      <td>7.530282e-17</td>\n",
              "      <td>6.505502e-18</td>\n",
              "      <td>3.056840e-18</td>\n",
              "    </tr>\n",
              "    <tr>\n",
              "      <th>...</th>\n",
              "      <td>...</td>\n",
              "      <td>...</td>\n",
              "      <td>...</td>\n",
              "      <td>...</td>\n",
              "      <td>...</td>\n",
              "      <td>...</td>\n",
              "      <td>...</td>\n",
              "      <td>...</td>\n",
              "      <td>...</td>\n",
              "      <td>...</td>\n",
              "      <td>...</td>\n",
              "      <td>...</td>\n",
              "      <td>...</td>\n",
              "      <td>...</td>\n",
              "      <td>...</td>\n",
              "      <td>...</td>\n",
              "      <td>...</td>\n",
              "      <td>...</td>\n",
              "      <td>...</td>\n",
              "      <td>...</td>\n",
              "      <td>...</td>\n",
              "    </tr>\n",
              "    <tr>\n",
              "      <th>1792</th>\n",
              "      <td>-0.912914</td>\n",
              "      <td>0.834008</td>\n",
              "      <td>-0.839940</td>\n",
              "      <td>-0.406434</td>\n",
              "      <td>0.236717</td>\n",
              "      <td>-0.170615</td>\n",
              "      <td>-0.277020</td>\n",
              "      <td>-0.244647</td>\n",
              "      <td>0.457558</td>\n",
              "      <td>-0.528074</td>\n",
              "      <td>...</td>\n",
              "      <td>-0.000502</td>\n",
              "      <td>0.000024</td>\n",
              "      <td>0.000158</td>\n",
              "      <td>-0.000561</td>\n",
              "      <td>-0.000284</td>\n",
              "      <td>0.000359</td>\n",
              "      <td>0.000035</td>\n",
              "      <td>7.176701e-18</td>\n",
              "      <td>5.231980e-18</td>\n",
              "      <td>-4.007189e-18</td>\n",
              "    </tr>\n",
              "    <tr>\n",
              "      <th>1793</th>\n",
              "      <td>0.404036</td>\n",
              "      <td>1.285456</td>\n",
              "      <td>-0.572194</td>\n",
              "      <td>0.784631</td>\n",
              "      <td>-0.563499</td>\n",
              "      <td>-0.856697</td>\n",
              "      <td>0.239455</td>\n",
              "      <td>-0.234766</td>\n",
              "      <td>-0.449550</td>\n",
              "      <td>-0.327490</td>\n",
              "      <td>...</td>\n",
              "      <td>-0.002815</td>\n",
              "      <td>-0.001128</td>\n",
              "      <td>-0.000047</td>\n",
              "      <td>0.000495</td>\n",
              "      <td>0.000421</td>\n",
              "      <td>0.000272</td>\n",
              "      <td>0.000220</td>\n",
              "      <td>-1.716765e-17</td>\n",
              "      <td>-9.721678e-20</td>\n",
              "      <td>-6.210792e-18</td>\n",
              "    </tr>\n",
              "    <tr>\n",
              "      <th>1794</th>\n",
              "      <td>0.675080</td>\n",
              "      <td>-0.435016</td>\n",
              "      <td>0.349972</td>\n",
              "      <td>-0.451733</td>\n",
              "      <td>-0.216228</td>\n",
              "      <td>-0.773450</td>\n",
              "      <td>-0.280612</td>\n",
              "      <td>-0.463442</td>\n",
              "      <td>-0.247599</td>\n",
              "      <td>-0.816568</td>\n",
              "      <td>...</td>\n",
              "      <td>0.004286</td>\n",
              "      <td>0.001426</td>\n",
              "      <td>0.000338</td>\n",
              "      <td>0.000775</td>\n",
              "      <td>-0.000132</td>\n",
              "      <td>-0.000045</td>\n",
              "      <td>0.000153</td>\n",
              "      <td>-1.535633e-17</td>\n",
              "      <td>9.340602e-18</td>\n",
              "      <td>6.067562e-18</td>\n",
              "    </tr>\n",
              "    <tr>\n",
              "      <th>1795</th>\n",
              "      <td>-0.304506</td>\n",
              "      <td>0.776497</td>\n",
              "      <td>-0.635679</td>\n",
              "      <td>-0.416803</td>\n",
              "      <td>0.223066</td>\n",
              "      <td>-0.000244</td>\n",
              "      <td>-0.187171</td>\n",
              "      <td>-0.272368</td>\n",
              "      <td>0.246203</td>\n",
              "      <td>-0.821578</td>\n",
              "      <td>...</td>\n",
              "      <td>-0.000530</td>\n",
              "      <td>0.000234</td>\n",
              "      <td>0.000295</td>\n",
              "      <td>-0.001038</td>\n",
              "      <td>0.000503</td>\n",
              "      <td>-0.000204</td>\n",
              "      <td>-0.000055</td>\n",
              "      <td>-5.725450e-20</td>\n",
              "      <td>7.213114e-18</td>\n",
              "      <td>-7.735180e-18</td>\n",
              "    </tr>\n",
              "    <tr>\n",
              "      <th>1796</th>\n",
              "      <td>-0.021524</td>\n",
              "      <td>0.397847</td>\n",
              "      <td>0.673357</td>\n",
              "      <td>-0.482888</td>\n",
              "      <td>-0.206913</td>\n",
              "      <td>-0.190566</td>\n",
              "      <td>-0.725750</td>\n",
              "      <td>0.041814</td>\n",
              "      <td>-0.257073</td>\n",
              "      <td>-0.785125</td>\n",
              "      <td>...</td>\n",
              "      <td>-0.016811</td>\n",
              "      <td>0.000205</td>\n",
              "      <td>0.001632</td>\n",
              "      <td>-0.000139</td>\n",
              "      <td>0.000082</td>\n",
              "      <td>-0.000078</td>\n",
              "      <td>-0.001049</td>\n",
              "      <td>-7.585455e-18</td>\n",
              "      <td>-5.633002e-18</td>\n",
              "      <td>1.691694e-17</td>\n",
              "    </tr>\n",
              "  </tbody>\n",
              "</table>\n",
              "<p>1797 rows × 64 columns</p>\n",
              "</div>\n",
              "    <div class=\"colab-df-buttons\">\n",
              "\n",
              "  <div class=\"colab-df-container\">\n",
              "    <button class=\"colab-df-convert\" onclick=\"convertToInteractive('df-f5b9ffe8-be8c-48aa-b173-b2e9001a7dd5')\"\n",
              "            title=\"Convert this dataframe to an interactive table.\"\n",
              "            style=\"display:none;\">\n",
              "\n",
              "  <svg xmlns=\"http://www.w3.org/2000/svg\" height=\"24px\" viewBox=\"0 -960 960 960\">\n",
              "    <path d=\"M120-120v-720h720v720H120Zm60-500h600v-160H180v160Zm220 220h160v-160H400v160Zm0 220h160v-160H400v160ZM180-400h160v-160H180v160Zm440 0h160v-160H620v160ZM180-180h160v-160H180v160Zm440 0h160v-160H620v160Z\"/>\n",
              "  </svg>\n",
              "    </button>\n",
              "\n",
              "  <style>\n",
              "    .colab-df-container {\n",
              "      display:flex;\n",
              "      gap: 12px;\n",
              "    }\n",
              "\n",
              "    .colab-df-convert {\n",
              "      background-color: #E8F0FE;\n",
              "      border: none;\n",
              "      border-radius: 50%;\n",
              "      cursor: pointer;\n",
              "      display: none;\n",
              "      fill: #1967D2;\n",
              "      height: 32px;\n",
              "      padding: 0 0 0 0;\n",
              "      width: 32px;\n",
              "    }\n",
              "\n",
              "    .colab-df-convert:hover {\n",
              "      background-color: #E2EBFA;\n",
              "      box-shadow: 0px 1px 2px rgba(60, 64, 67, 0.3), 0px 1px 3px 1px rgba(60, 64, 67, 0.15);\n",
              "      fill: #174EA6;\n",
              "    }\n",
              "\n",
              "    .colab-df-buttons div {\n",
              "      margin-bottom: 4px;\n",
              "    }\n",
              "\n",
              "    [theme=dark] .colab-df-convert {\n",
              "      background-color: #3B4455;\n",
              "      fill: #D2E3FC;\n",
              "    }\n",
              "\n",
              "    [theme=dark] .colab-df-convert:hover {\n",
              "      background-color: #434B5C;\n",
              "      box-shadow: 0px 1px 3px 1px rgba(0, 0, 0, 0.15);\n",
              "      filter: drop-shadow(0px 1px 2px rgba(0, 0, 0, 0.3));\n",
              "      fill: #FFFFFF;\n",
              "    }\n",
              "  </style>\n",
              "\n",
              "    <script>\n",
              "      const buttonEl =\n",
              "        document.querySelector('#df-f5b9ffe8-be8c-48aa-b173-b2e9001a7dd5 button.colab-df-convert');\n",
              "      buttonEl.style.display =\n",
              "        google.colab.kernel.accessAllowed ? 'block' : 'none';\n",
              "\n",
              "      async function convertToInteractive(key) {\n",
              "        const element = document.querySelector('#df-f5b9ffe8-be8c-48aa-b173-b2e9001a7dd5');\n",
              "        const dataTable =\n",
              "          await google.colab.kernel.invokeFunction('convertToInteractive',\n",
              "                                                    [key], {});\n",
              "        if (!dataTable) return;\n",
              "\n",
              "        const docLinkHtml = 'Like what you see? Visit the ' +\n",
              "          '<a target=\"_blank\" href=https://colab.research.google.com/notebooks/data_table.ipynb>data table notebook</a>'\n",
              "          + ' to learn more about interactive tables.';\n",
              "        element.innerHTML = '';\n",
              "        dataTable['output_type'] = 'display_data';\n",
              "        await google.colab.output.renderOutput(dataTable, element);\n",
              "        const docLink = document.createElement('div');\n",
              "        docLink.innerHTML = docLinkHtml;\n",
              "        element.appendChild(docLink);\n",
              "      }\n",
              "    </script>\n",
              "  </div>\n",
              "\n",
              "\n",
              "<div id=\"df-c13cd416-a9f7-4deb-8521-f313bfc8bd19\">\n",
              "  <button class=\"colab-df-quickchart\" onclick=\"quickchart('df-c13cd416-a9f7-4deb-8521-f313bfc8bd19')\"\n",
              "            title=\"Suggest charts.\"\n",
              "            style=\"display:none;\">\n",
              "\n",
              "<svg xmlns=\"http://www.w3.org/2000/svg\" height=\"24px\"viewBox=\"0 0 24 24\"\n",
              "     width=\"24px\">\n",
              "    <g>\n",
              "        <path d=\"M19 3H5c-1.1 0-2 .9-2 2v14c0 1.1.9 2 2 2h14c1.1 0 2-.9 2-2V5c0-1.1-.9-2-2-2zM9 17H7v-7h2v7zm4 0h-2V7h2v10zm4 0h-2v-4h2v4z\"/>\n",
              "    </g>\n",
              "</svg>\n",
              "  </button>\n",
              "\n",
              "<style>\n",
              "  .colab-df-quickchart {\n",
              "      --bg-color: #E8F0FE;\n",
              "      --fill-color: #1967D2;\n",
              "      --hover-bg-color: #E2EBFA;\n",
              "      --hover-fill-color: #174EA6;\n",
              "      --disabled-fill-color: #AAA;\n",
              "      --disabled-bg-color: #DDD;\n",
              "  }\n",
              "\n",
              "  [theme=dark] .colab-df-quickchart {\n",
              "      --bg-color: #3B4455;\n",
              "      --fill-color: #D2E3FC;\n",
              "      --hover-bg-color: #434B5C;\n",
              "      --hover-fill-color: #FFFFFF;\n",
              "      --disabled-bg-color: #3B4455;\n",
              "      --disabled-fill-color: #666;\n",
              "  }\n",
              "\n",
              "  .colab-df-quickchart {\n",
              "    background-color: var(--bg-color);\n",
              "    border: none;\n",
              "    border-radius: 50%;\n",
              "    cursor: pointer;\n",
              "    display: none;\n",
              "    fill: var(--fill-color);\n",
              "    height: 32px;\n",
              "    padding: 0;\n",
              "    width: 32px;\n",
              "  }\n",
              "\n",
              "  .colab-df-quickchart:hover {\n",
              "    background-color: var(--hover-bg-color);\n",
              "    box-shadow: 0 1px 2px rgba(60, 64, 67, 0.3), 0 1px 3px 1px rgba(60, 64, 67, 0.15);\n",
              "    fill: var(--button-hover-fill-color);\n",
              "  }\n",
              "\n",
              "  .colab-df-quickchart-complete:disabled,\n",
              "  .colab-df-quickchart-complete:disabled:hover {\n",
              "    background-color: var(--disabled-bg-color);\n",
              "    fill: var(--disabled-fill-color);\n",
              "    box-shadow: none;\n",
              "  }\n",
              "\n",
              "  .colab-df-spinner {\n",
              "    border: 2px solid var(--fill-color);\n",
              "    border-color: transparent;\n",
              "    border-bottom-color: var(--fill-color);\n",
              "    animation:\n",
              "      spin 1s steps(1) infinite;\n",
              "  }\n",
              "\n",
              "  @keyframes spin {\n",
              "    0% {\n",
              "      border-color: transparent;\n",
              "      border-bottom-color: var(--fill-color);\n",
              "      border-left-color: var(--fill-color);\n",
              "    }\n",
              "    20% {\n",
              "      border-color: transparent;\n",
              "      border-left-color: var(--fill-color);\n",
              "      border-top-color: var(--fill-color);\n",
              "    }\n",
              "    30% {\n",
              "      border-color: transparent;\n",
              "      border-left-color: var(--fill-color);\n",
              "      border-top-color: var(--fill-color);\n",
              "      border-right-color: var(--fill-color);\n",
              "    }\n",
              "    40% {\n",
              "      border-color: transparent;\n",
              "      border-right-color: var(--fill-color);\n",
              "      border-top-color: var(--fill-color);\n",
              "    }\n",
              "    60% {\n",
              "      border-color: transparent;\n",
              "      border-right-color: var(--fill-color);\n",
              "    }\n",
              "    80% {\n",
              "      border-color: transparent;\n",
              "      border-right-color: var(--fill-color);\n",
              "      border-bottom-color: var(--fill-color);\n",
              "    }\n",
              "    90% {\n",
              "      border-color: transparent;\n",
              "      border-bottom-color: var(--fill-color);\n",
              "    }\n",
              "  }\n",
              "</style>\n",
              "\n",
              "  <script>\n",
              "    async function quickchart(key) {\n",
              "      const quickchartButtonEl =\n",
              "        document.querySelector('#' + key + ' button');\n",
              "      quickchartButtonEl.disabled = true;  // To prevent multiple clicks.\n",
              "      quickchartButtonEl.classList.add('colab-df-spinner');\n",
              "      try {\n",
              "        const charts = await google.colab.kernel.invokeFunction(\n",
              "            'suggestCharts', [key], {});\n",
              "      } catch (error) {\n",
              "        console.error('Error during call to suggestCharts:', error);\n",
              "      }\n",
              "      quickchartButtonEl.classList.remove('colab-df-spinner');\n",
              "      quickchartButtonEl.classList.add('colab-df-quickchart-complete');\n",
              "    }\n",
              "    (() => {\n",
              "      let quickchartButtonEl =\n",
              "        document.querySelector('#df-c13cd416-a9f7-4deb-8521-f313bfc8bd19 button');\n",
              "      quickchartButtonEl.style.display =\n",
              "        google.colab.kernel.accessAllowed ? 'block' : 'none';\n",
              "    })();\n",
              "  </script>\n",
              "</div>\n",
              "    </div>\n",
              "  </div>\n"
            ]
          },
          "metadata": {},
          "execution_count": 61
        }
      ]
    },
    {
      "cell_type": "code",
      "source": [
        "X_pca[0]"
      ],
      "metadata": {
        "colab": {
          "base_uri": "https://localhost:8080/"
        },
        "id": "7MCmu1ZcMsBc",
        "outputId": "ed62820a-04d4-4beb-8450-8fce5a76b042"
      },
      "execution_count": 62,
      "outputs": [
        {
          "output_type": "execute_result",
          "data": {
            "text/plain": [
              "array([-7.87166531e-02,  1.32968022e+00, -5.91440914e-01,  8.13386793e-01,\n",
              "       -4.45551424e-01, -4.65041173e-01,  2.03302322e-01,  1.59591897e-01,\n",
              "       -3.63651339e-02,  2.26606060e-01,  1.61622305e-01,  9.69754425e-02,\n",
              "        5.34060443e-02, -2.08671834e-01,  3.69161855e-01,  1.71474587e-01,\n",
              "        2.62398067e-02, -5.61343558e-02,  4.39131791e-02, -2.16382417e-01,\n",
              "        1.67553099e-01,  6.30905941e-02,  1.25606423e-01,  8.09571742e-02,\n",
              "        7.36799207e-02,  1.43786366e-01,  2.29420067e-01, -5.89793063e-02,\n",
              "       -7.07813721e-02,  1.47487219e-01, -1.13586621e-01, -4.71885178e-02,\n",
              "        1.01776131e-02, -1.32061087e-01,  6.84264491e-02,  1.22303458e-02,\n",
              "       -5.62460081e-03, -1.72733792e-01,  6.80552010e-02,  1.28752505e-02,\n",
              "        1.06531958e-01,  3.63323987e-02,  4.45436495e-02, -1.17524292e-02,\n",
              "        3.92695877e-02, -3.71866815e-02,  2.98077067e-03, -4.45808794e-02,\n",
              "       -2.12072004e-02,  2.69371306e-03, -2.63375715e-02, -7.61797452e-03,\n",
              "       -3.95800856e-03, -3.56397538e-03, -3.04908944e-03, -1.13516056e-04,\n",
              "        6.93849409e-04, -9.67155275e-05,  5.15466867e-04,  1.34255383e-04,\n",
              "        6.52430847e-05,  0.00000000e+00,  0.00000000e+00,  2.78838222e-15])"
            ]
          },
          "metadata": {},
          "execution_count": 62
        }
      ]
    },
    {
      "cell_type": "code",
      "source": [
        "pca.components_.shape"
      ],
      "metadata": {
        "colab": {
          "base_uri": "https://localhost:8080/"
        },
        "id": "pUgTHvJ8c1Af",
        "outputId": "07c8e596-e058-4f83-a357-6c0dfc766689"
      },
      "execution_count": 63,
      "outputs": [
        {
          "output_type": "execute_result",
          "data": {
            "text/plain": [
              "(64, 64)"
            ]
          },
          "metadata": {},
          "execution_count": 63
        }
      ]
    },
    {
      "cell_type": "code",
      "source": [
        "X[0]"
      ],
      "metadata": {
        "colab": {
          "base_uri": "https://localhost:8080/"
        },
        "id": "dsFkZiaeMzrI",
        "outputId": "3adb958a-6090-4fcb-c555-f85728833879"
      },
      "execution_count": 64,
      "outputs": [
        {
          "output_type": "execute_result",
          "data": {
            "text/plain": [
              "array([0.    , 0.    , 0.3125, 0.8125, 0.5625, 0.0625, 0.    , 0.    ,\n",
              "       0.    , 0.    , 0.8125, 0.9375, 0.625 , 0.9375, 0.3125, 0.    ,\n",
              "       0.    , 0.1875, 0.9375, 0.125 , 0.    , 0.6875, 0.5   , 0.    ,\n",
              "       0.    , 0.25  , 0.75  , 0.    , 0.    , 0.5   , 0.5   , 0.    ,\n",
              "       0.    , 0.3125, 0.5   , 0.    , 0.    , 0.5625, 0.5   , 0.    ,\n",
              "       0.    , 0.25  , 0.6875, 0.    , 0.0625, 0.75  , 0.4375, 0.    ,\n",
              "       0.    , 0.125 , 0.875 , 0.3125, 0.625 , 0.75  , 0.    , 0.    ,\n",
              "       0.    , 0.    , 0.375 , 0.8125, 0.625 , 0.    , 0.    , 0.    ])"
            ]
          },
          "metadata": {},
          "execution_count": 64
        }
      ]
    },
    {
      "cell_type": "code",
      "source": [
        "X_pca.shape"
      ],
      "metadata": {
        "colab": {
          "base_uri": "https://localhost:8080/"
        },
        "id": "ekCEPyPfM85F",
        "outputId": "a24676b1-ff2a-414b-8f01-b456bcbea654"
      },
      "execution_count": 65,
      "outputs": [
        {
          "output_type": "execute_result",
          "data": {
            "text/plain": [
              "(1797, 64)"
            ]
          },
          "metadata": {},
          "execution_count": 65
        }
      ]
    },
    {
      "cell_type": "code",
      "source": [
        "np.sum(pca.explained_variance_ratio_)"
      ],
      "metadata": {
        "colab": {
          "base_uri": "https://localhost:8080/"
        },
        "id": "85WPu6wFNQUq",
        "outputId": "6a1cf545-d894-4238-f796-230a5e9ad263"
      },
      "execution_count": 66,
      "outputs": [
        {
          "output_type": "execute_result",
          "data": {
            "text/plain": [
              "1.0"
            ]
          },
          "metadata": {},
          "execution_count": 66
        }
      ]
    },
    {
      "cell_type": "code",
      "source": [
        "(pca.explained_variance_ratio_)"
      ],
      "metadata": {
        "colab": {
          "base_uri": "https://localhost:8080/"
        },
        "id": "pezse2iwM2-r",
        "outputId": "75b50d83-e543-4a93-f8c4-7260ffdda45a"
      },
      "execution_count": 82,
      "outputs": [
        {
          "output_type": "execute_result",
          "data": {
            "text/plain": [
              "array([0.14890594, 0.13618771, 0.11794594, 0.08409979, 0.05782415,\n",
              "       0.0491691 , 0.04315987, 0.03661373, 0.03353248, 0.03078806,\n",
              "       0.02372341, 0.02272697, 0.01821862, 0.01773853, 0.01467082,\n",
              "       0.01409713, 0.01318548, 0.01248105, 0.01017663, 0.00905362])"
            ]
          },
          "metadata": {},
          "execution_count": 82
        }
      ]
    },
    {
      "cell_type": "code",
      "source": [
        "np.cumsum(np.round(pca.explained_variance_ratio_))"
      ],
      "metadata": {
        "colab": {
          "base_uri": "https://localhost:8080/"
        },
        "id": "UYwVKVolVnGN",
        "outputId": "8ea943bc-15f4-472c-c8a2-27bb990147b6"
      },
      "execution_count": 80,
      "outputs": [
        {
          "output_type": "execute_result",
          "data": {
            "text/plain": [
              "array([0., 0., 0., 0., 0., 0., 0., 0., 0., 0., 0., 0., 0., 0., 0., 0., 0.,\n",
              "       0., 0., 0.])"
            ]
          },
          "metadata": {},
          "execution_count": 80
        }
      ]
    },
    {
      "cell_type": "code",
      "source": [
        "pca = PCA(n_components=20)\n",
        "X_pca = pca.fit_transform(X)"
      ],
      "metadata": {
        "id": "wacyA4CJNhTU"
      },
      "execution_count": 69,
      "outputs": []
    },
    {
      "cell_type": "code",
      "source": [
        "X_pca.shape"
      ],
      "metadata": {
        "colab": {
          "base_uri": "https://localhost:8080/"
        },
        "id": "5_Fk8I_fN7aT",
        "outputId": "8ed1bf65-e3c5-4d29-d681-6932f6f45612"
      },
      "execution_count": 70,
      "outputs": [
        {
          "output_type": "execute_result",
          "data": {
            "text/plain": [
              "(1797, 20)"
            ]
          },
          "metadata": {},
          "execution_count": 70
        }
      ]
    },
    {
      "cell_type": "code",
      "source": [
        "np.sum(pca.explained_variance_ratio_)"
      ],
      "metadata": {
        "colab": {
          "base_uri": "https://localhost:8080/"
        },
        "id": "fQ9NOAV2N80t",
        "outputId": "f57b1e12-8842-4242-aa99-39765e08206e"
      },
      "execution_count": 71,
      "outputs": [
        {
          "output_type": "execute_result",
          "data": {
            "text/plain": [
              "0.8942990221367737"
            ]
          },
          "metadata": {},
          "execution_count": 71
        }
      ]
    },
    {
      "cell_type": "code",
      "source": [
        "X_pca_inverse = pca.inverse_transform(X_pca)"
      ],
      "metadata": {
        "id": "pITjdZzMdch6"
      },
      "execution_count": 72,
      "outputs": []
    },
    {
      "cell_type": "code",
      "source": [
        "X_pca_inverse[0]"
      ],
      "metadata": {
        "colab": {
          "base_uri": "https://localhost:8080/"
        },
        "id": "m3nAbg7fdsD4",
        "outputId": "0b8f0f99-4e47-48f3-ac64-987801bd71ab"
      },
      "execution_count": 73,
      "outputs": [
        {
          "output_type": "execute_result",
          "data": {
            "text/plain": [
              "array([-5.11737407e-17,  3.69921899e-03,  3.21983685e-01,  8.21791748e-01,\n",
              "        5.54284992e-01,  1.53393663e-01,  1.53726808e-01,  4.50769215e-02,\n",
              "       -6.28176731e-04,  2.55627184e-02,  8.83507716e-01,  8.25146527e-01,\n",
              "        6.84277005e-01,  7.38900430e-01,  2.92434646e-01,  4.04494445e-02,\n",
              "       -8.81134746e-05,  1.44054734e-01,  9.25652597e-01,  1.65385637e-01,\n",
              "        6.82474090e-02,  7.94850904e-01,  4.11530301e-01,  1.42654363e-02,\n",
              "       -8.03289370e-05,  2.59646870e-01,  7.24263152e-01, -1.50256367e-02,\n",
              "       -8.47709198e-02,  5.65013028e-01,  4.72327225e-01,  6.06030728e-04,\n",
              "        0.00000000e+00,  3.32237429e-01,  5.77272465e-01, -3.68483115e-02,\n",
              "        4.73887356e-03,  5.67866107e-01,  4.04318627e-01,  0.00000000e+00,\n",
              "        5.41928835e-04,  2.38839211e-01,  7.08070642e-01, -6.20779695e-02,\n",
              "        1.00800811e-01,  7.44711821e-01,  3.22512947e-01, -4.95256554e-03,\n",
              "        1.43926674e-03,  9.55976737e-02,  8.41174118e-01,  4.02804210e-01,\n",
              "        5.31882082e-01,  7.12166916e-01,  3.87389367e-02, -2.19353382e-02,\n",
              "        3.16637922e-05,  7.26829400e-03,  3.27986884e-01,  9.23534426e-01,\n",
              "        7.29506806e-01,  9.04150620e-02, -1.55702296e-01, -4.51394163e-02])"
            ]
          },
          "metadata": {},
          "execution_count": 73
        }
      ]
    },
    {
      "cell_type": "code",
      "source": [
        "X[0]"
      ],
      "metadata": {
        "colab": {
          "base_uri": "https://localhost:8080/"
        },
        "id": "TFq9QHSVdt9z",
        "outputId": "34ec8d84-16aa-485f-96d5-404a4bfc67c7"
      },
      "execution_count": 74,
      "outputs": [
        {
          "output_type": "execute_result",
          "data": {
            "text/plain": [
              "array([0.    , 0.    , 0.3125, 0.8125, 0.5625, 0.0625, 0.    , 0.    ,\n",
              "       0.    , 0.    , 0.8125, 0.9375, 0.625 , 0.9375, 0.3125, 0.    ,\n",
              "       0.    , 0.1875, 0.9375, 0.125 , 0.    , 0.6875, 0.5   , 0.    ,\n",
              "       0.    , 0.25  , 0.75  , 0.    , 0.    , 0.5   , 0.5   , 0.    ,\n",
              "       0.    , 0.3125, 0.5   , 0.    , 0.    , 0.5625, 0.5   , 0.    ,\n",
              "       0.    , 0.25  , 0.6875, 0.    , 0.0625, 0.75  , 0.4375, 0.    ,\n",
              "       0.    , 0.125 , 0.875 , 0.3125, 0.625 , 0.75  , 0.    , 0.    ,\n",
              "       0.    , 0.    , 0.375 , 0.8125, 0.625 , 0.    , 0.    , 0.    ])"
            ]
          },
          "metadata": {},
          "execution_count": 74
        }
      ]
    },
    {
      "cell_type": "code",
      "source": [
        "X_pca_inverse.shape"
      ],
      "metadata": {
        "colab": {
          "base_uri": "https://localhost:8080/"
        },
        "id": "MbDe5HLjdnHg",
        "outputId": "83690a13-368d-4c43-a4bb-786f30a9c5bf"
      },
      "execution_count": 75,
      "outputs": [
        {
          "output_type": "execute_result",
          "data": {
            "text/plain": [
              "(1797, 64)"
            ]
          },
          "metadata": {},
          "execution_count": 75
        }
      ]
    },
    {
      "cell_type": "code",
      "source": [
        "# training\n",
        "# model.fit(X_pca,y)"
      ],
      "metadata": {
        "id": "mu0mA4DWOC6j"
      },
      "execution_count": 76,
      "outputs": []
    },
    {
      "cell_type": "code",
      "source": [],
      "metadata": {
        "id": "g0erMpFuYHPx"
      },
      "execution_count": 76,
      "outputs": []
    },
    {
      "cell_type": "markdown",
      "source": [
        "# LDA"
      ],
      "metadata": {
        "id": "djm-ugqfPUwE"
      }
    },
    {
      "cell_type": "code",
      "source": [
        "from sklearn.discriminant_analysis import LinearDiscriminantAnalysis\n",
        "lda = LinearDiscriminantAnalysis(n_components=2)\n",
        "\n",
        "X_lda = lda.fit_transform(X,y)"
      ],
      "metadata": {
        "id": "r7fbo2zEPVuu"
      },
      "execution_count": 83,
      "outputs": []
    },
    {
      "cell_type": "code",
      "source": [
        "X_lda.shape"
      ],
      "metadata": {
        "colab": {
          "base_uri": "https://localhost:8080/"
        },
        "id": "wP_T0FTNP2py",
        "outputId": "f4fa27ba-159d-4c87-d01f-0bb657920840"
      },
      "execution_count": 84,
      "outputs": [
        {
          "output_type": "execute_result",
          "data": {
            "text/plain": [
              "(1797, 2)"
            ]
          },
          "metadata": {},
          "execution_count": 84
        }
      ]
    },
    {
      "cell_type": "code",
      "source": [
        "lda = LinearDiscriminantAnalysis()\n",
        "\n",
        "X_lda = lda.fit_transform(X,y)\n",
        "X_lda.shape"
      ],
      "metadata": {
        "colab": {
          "base_uri": "https://localhost:8080/"
        },
        "id": "j94_qdbUP9DS",
        "outputId": "4d0ea97c-cbf7-456b-f947-93b4d8ea4933"
      },
      "execution_count": 85,
      "outputs": [
        {
          "output_type": "execute_result",
          "data": {
            "text/plain": [
              "(1797, 9)"
            ]
          },
          "metadata": {},
          "execution_count": 85
        }
      ]
    },
    {
      "cell_type": "code",
      "source": [
        "from sklearn.tree import DecisionTreeClassifier\n",
        "tree = DecisionTreeClassifier()\n",
        "tree.fit(X_lda,y)"
      ],
      "metadata": {
        "id": "yGAhjNWhQdYc",
        "colab": {
          "base_uri": "https://localhost:8080/",
          "height": 75
        },
        "outputId": "922cf94c-0d04-42be-9ba3-d02aef6f620e"
      },
      "execution_count": 86,
      "outputs": [
        {
          "output_type": "execute_result",
          "data": {
            "text/plain": [
              "DecisionTreeClassifier()"
            ],
            "text/html": [
              "<style>#sk-container-id-1 {color: black;background-color: white;}#sk-container-id-1 pre{padding: 0;}#sk-container-id-1 div.sk-toggleable {background-color: white;}#sk-container-id-1 label.sk-toggleable__label {cursor: pointer;display: block;width: 100%;margin-bottom: 0;padding: 0.3em;box-sizing: border-box;text-align: center;}#sk-container-id-1 label.sk-toggleable__label-arrow:before {content: \"▸\";float: left;margin-right: 0.25em;color: #696969;}#sk-container-id-1 label.sk-toggleable__label-arrow:hover:before {color: black;}#sk-container-id-1 div.sk-estimator:hover label.sk-toggleable__label-arrow:before {color: black;}#sk-container-id-1 div.sk-toggleable__content {max-height: 0;max-width: 0;overflow: hidden;text-align: left;background-color: #f0f8ff;}#sk-container-id-1 div.sk-toggleable__content pre {margin: 0.2em;color: black;border-radius: 0.25em;background-color: #f0f8ff;}#sk-container-id-1 input.sk-toggleable__control:checked~div.sk-toggleable__content {max-height: 200px;max-width: 100%;overflow: auto;}#sk-container-id-1 input.sk-toggleable__control:checked~label.sk-toggleable__label-arrow:before {content: \"▾\";}#sk-container-id-1 div.sk-estimator input.sk-toggleable__control:checked~label.sk-toggleable__label {background-color: #d4ebff;}#sk-container-id-1 div.sk-label input.sk-toggleable__control:checked~label.sk-toggleable__label {background-color: #d4ebff;}#sk-container-id-1 input.sk-hidden--visually {border: 0;clip: rect(1px 1px 1px 1px);clip: rect(1px, 1px, 1px, 1px);height: 1px;margin: -1px;overflow: hidden;padding: 0;position: absolute;width: 1px;}#sk-container-id-1 div.sk-estimator {font-family: monospace;background-color: #f0f8ff;border: 1px dotted black;border-radius: 0.25em;box-sizing: border-box;margin-bottom: 0.5em;}#sk-container-id-1 div.sk-estimator:hover {background-color: #d4ebff;}#sk-container-id-1 div.sk-parallel-item::after {content: \"\";width: 100%;border-bottom: 1px solid gray;flex-grow: 1;}#sk-container-id-1 div.sk-label:hover label.sk-toggleable__label {background-color: #d4ebff;}#sk-container-id-1 div.sk-serial::before {content: \"\";position: absolute;border-left: 1px solid gray;box-sizing: border-box;top: 0;bottom: 0;left: 50%;z-index: 0;}#sk-container-id-1 div.sk-serial {display: flex;flex-direction: column;align-items: center;background-color: white;padding-right: 0.2em;padding-left: 0.2em;position: relative;}#sk-container-id-1 div.sk-item {position: relative;z-index: 1;}#sk-container-id-1 div.sk-parallel {display: flex;align-items: stretch;justify-content: center;background-color: white;position: relative;}#sk-container-id-1 div.sk-item::before, #sk-container-id-1 div.sk-parallel-item::before {content: \"\";position: absolute;border-left: 1px solid gray;box-sizing: border-box;top: 0;bottom: 0;left: 50%;z-index: -1;}#sk-container-id-1 div.sk-parallel-item {display: flex;flex-direction: column;z-index: 1;position: relative;background-color: white;}#sk-container-id-1 div.sk-parallel-item:first-child::after {align-self: flex-end;width: 50%;}#sk-container-id-1 div.sk-parallel-item:last-child::after {align-self: flex-start;width: 50%;}#sk-container-id-1 div.sk-parallel-item:only-child::after {width: 0;}#sk-container-id-1 div.sk-dashed-wrapped {border: 1px dashed gray;margin: 0 0.4em 0.5em 0.4em;box-sizing: border-box;padding-bottom: 0.4em;background-color: white;}#sk-container-id-1 div.sk-label label {font-family: monospace;font-weight: bold;display: inline-block;line-height: 1.2em;}#sk-container-id-1 div.sk-label-container {text-align: center;}#sk-container-id-1 div.sk-container {/* jupyter's `normalize.less` sets `[hidden] { display: none; }` but bootstrap.min.css set `[hidden] { display: none !important; }` so we also need the `!important` here to be able to override the default hidden behavior on the sphinx rendered scikit-learn.org. See: https://github.com/scikit-learn/scikit-learn/issues/21755 */display: inline-block !important;position: relative;}#sk-container-id-1 div.sk-text-repr-fallback {display: none;}</style><div id=\"sk-container-id-1\" class=\"sk-top-container\"><div class=\"sk-text-repr-fallback\"><pre>DecisionTreeClassifier()</pre><b>In a Jupyter environment, please rerun this cell to show the HTML representation or trust the notebook. <br />On GitHub, the HTML representation is unable to render, please try loading this page with nbviewer.org.</b></div><div class=\"sk-container\" hidden><div class=\"sk-item\"><div class=\"sk-estimator sk-toggleable\"><input class=\"sk-toggleable__control sk-hidden--visually\" id=\"sk-estimator-id-1\" type=\"checkbox\" checked><label for=\"sk-estimator-id-1\" class=\"sk-toggleable__label sk-toggleable__label-arrow\">DecisionTreeClassifier</label><div class=\"sk-toggleable__content\"><pre>DecisionTreeClassifier()</pre></div></div></div></div></div>"
            ]
          },
          "metadata": {},
          "execution_count": 86
        }
      ]
    },
    {
      "cell_type": "code",
      "source": [],
      "metadata": {
        "id": "DtQFUZ1eouPI"
      },
      "execution_count": null,
      "outputs": []
    }
  ]
}