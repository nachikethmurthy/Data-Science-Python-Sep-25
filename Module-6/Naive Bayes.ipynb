{
 "cells": [
  {
   "cell_type": "code",
   "execution_count": 1,
   "id": "4ea47e90-e497-47ce-aee2-64869086b166",
   "metadata": {
    "tags": []
   },
   "outputs": [],
   "source": [
    "import pandas as pd\n",
    "import numpy as np\n",
    "from sklearn.model_selection import train_test_split\n",
    "from sklearn.naive_bayes import GaussianNB\n",
    "import matplotlib.pyplot as plt"
   ]
  },
  {
   "cell_type": "code",
   "execution_count": 2,
   "id": "9171b020-11b0-42b2-a0a0-fd8c2d33a707",
   "metadata": {
    "tags": []
   },
   "outputs": [],
   "source": [
    "df = pd.read_csv(\"https://raw.githubusercontent.com/nachikethmurthy/Source-Code-Dataset-for-Machine-Learning-using-Python/main/data.csv\")"
   ]
  },
  {
   "cell_type": "code",
   "execution_count": 3,
   "id": "a269b063-b545-456b-983c-980b53bb2e57",
   "metadata": {
    "tags": []
   },
   "outputs": [
    {
     "data": {
      "text/html": [
       "<div>\n",
       "<style scoped>\n",
       "    .dataframe tbody tr th:only-of-type {\n",
       "        vertical-align: middle;\n",
       "    }\n",
       "\n",
       "    .dataframe tbody tr th {\n",
       "        vertical-align: top;\n",
       "    }\n",
       "\n",
       "    .dataframe thead th {\n",
       "        text-align: right;\n",
       "    }\n",
       "</style>\n",
       "<table border=\"1\" class=\"dataframe\">\n",
       "  <thead>\n",
       "    <tr style=\"text-align: right;\">\n",
       "      <th></th>\n",
       "      <th>id</th>\n",
       "      <th>diagnosis</th>\n",
       "      <th>radius_mean</th>\n",
       "      <th>texture_mean</th>\n",
       "      <th>perimeter_mean</th>\n",
       "      <th>area_mean</th>\n",
       "      <th>smoothness_mean</th>\n",
       "      <th>compactness_mean</th>\n",
       "      <th>concavity_mean</th>\n",
       "      <th>concave points_mean</th>\n",
       "      <th>...</th>\n",
       "      <th>texture_worst</th>\n",
       "      <th>perimeter_worst</th>\n",
       "      <th>area_worst</th>\n",
       "      <th>smoothness_worst</th>\n",
       "      <th>compactness_worst</th>\n",
       "      <th>concavity_worst</th>\n",
       "      <th>concave points_worst</th>\n",
       "      <th>symmetry_worst</th>\n",
       "      <th>fractal_dimension_worst</th>\n",
       "      <th>Unnamed: 32</th>\n",
       "    </tr>\n",
       "  </thead>\n",
       "  <tbody>\n",
       "    <tr>\n",
       "      <th>0</th>\n",
       "      <td>842302</td>\n",
       "      <td>M</td>\n",
       "      <td>17.99</td>\n",
       "      <td>10.38</td>\n",
       "      <td>122.80</td>\n",
       "      <td>1001.0</td>\n",
       "      <td>0.11840</td>\n",
       "      <td>0.27760</td>\n",
       "      <td>0.3001</td>\n",
       "      <td>0.14710</td>\n",
       "      <td>...</td>\n",
       "      <td>17.33</td>\n",
       "      <td>184.60</td>\n",
       "      <td>2019.0</td>\n",
       "      <td>0.1622</td>\n",
       "      <td>0.6656</td>\n",
       "      <td>0.7119</td>\n",
       "      <td>0.2654</td>\n",
       "      <td>0.4601</td>\n",
       "      <td>0.11890</td>\n",
       "      <td>NaN</td>\n",
       "    </tr>\n",
       "    <tr>\n",
       "      <th>1</th>\n",
       "      <td>842517</td>\n",
       "      <td>M</td>\n",
       "      <td>20.57</td>\n",
       "      <td>17.77</td>\n",
       "      <td>132.90</td>\n",
       "      <td>1326.0</td>\n",
       "      <td>0.08474</td>\n",
       "      <td>0.07864</td>\n",
       "      <td>0.0869</td>\n",
       "      <td>0.07017</td>\n",
       "      <td>...</td>\n",
       "      <td>23.41</td>\n",
       "      <td>158.80</td>\n",
       "      <td>1956.0</td>\n",
       "      <td>0.1238</td>\n",
       "      <td>0.1866</td>\n",
       "      <td>0.2416</td>\n",
       "      <td>0.1860</td>\n",
       "      <td>0.2750</td>\n",
       "      <td>0.08902</td>\n",
       "      <td>NaN</td>\n",
       "    </tr>\n",
       "    <tr>\n",
       "      <th>2</th>\n",
       "      <td>84300903</td>\n",
       "      <td>M</td>\n",
       "      <td>19.69</td>\n",
       "      <td>21.25</td>\n",
       "      <td>130.00</td>\n",
       "      <td>1203.0</td>\n",
       "      <td>0.10960</td>\n",
       "      <td>0.15990</td>\n",
       "      <td>0.1974</td>\n",
       "      <td>0.12790</td>\n",
       "      <td>...</td>\n",
       "      <td>25.53</td>\n",
       "      <td>152.50</td>\n",
       "      <td>1709.0</td>\n",
       "      <td>0.1444</td>\n",
       "      <td>0.4245</td>\n",
       "      <td>0.4504</td>\n",
       "      <td>0.2430</td>\n",
       "      <td>0.3613</td>\n",
       "      <td>0.08758</td>\n",
       "      <td>NaN</td>\n",
       "    </tr>\n",
       "    <tr>\n",
       "      <th>3</th>\n",
       "      <td>84348301</td>\n",
       "      <td>M</td>\n",
       "      <td>11.42</td>\n",
       "      <td>20.38</td>\n",
       "      <td>77.58</td>\n",
       "      <td>386.1</td>\n",
       "      <td>0.14250</td>\n",
       "      <td>0.28390</td>\n",
       "      <td>0.2414</td>\n",
       "      <td>0.10520</td>\n",
       "      <td>...</td>\n",
       "      <td>26.50</td>\n",
       "      <td>98.87</td>\n",
       "      <td>567.7</td>\n",
       "      <td>0.2098</td>\n",
       "      <td>0.8663</td>\n",
       "      <td>0.6869</td>\n",
       "      <td>0.2575</td>\n",
       "      <td>0.6638</td>\n",
       "      <td>0.17300</td>\n",
       "      <td>NaN</td>\n",
       "    </tr>\n",
       "    <tr>\n",
       "      <th>4</th>\n",
       "      <td>84358402</td>\n",
       "      <td>M</td>\n",
       "      <td>20.29</td>\n",
       "      <td>14.34</td>\n",
       "      <td>135.10</td>\n",
       "      <td>1297.0</td>\n",
       "      <td>0.10030</td>\n",
       "      <td>0.13280</td>\n",
       "      <td>0.1980</td>\n",
       "      <td>0.10430</td>\n",
       "      <td>...</td>\n",
       "      <td>16.67</td>\n",
       "      <td>152.20</td>\n",
       "      <td>1575.0</td>\n",
       "      <td>0.1374</td>\n",
       "      <td>0.2050</td>\n",
       "      <td>0.4000</td>\n",
       "      <td>0.1625</td>\n",
       "      <td>0.2364</td>\n",
       "      <td>0.07678</td>\n",
       "      <td>NaN</td>\n",
       "    </tr>\n",
       "  </tbody>\n",
       "</table>\n",
       "<p>5 rows × 33 columns</p>\n",
       "</div>"
      ],
      "text/plain": [
       "         id diagnosis  radius_mean  texture_mean  perimeter_mean  area_mean  \\\n",
       "0    842302         M        17.99         10.38          122.80     1001.0   \n",
       "1    842517         M        20.57         17.77          132.90     1326.0   \n",
       "2  84300903         M        19.69         21.25          130.00     1203.0   \n",
       "3  84348301         M        11.42         20.38           77.58      386.1   \n",
       "4  84358402         M        20.29         14.34          135.10     1297.0   \n",
       "\n",
       "   smoothness_mean  compactness_mean  concavity_mean  concave points_mean  \\\n",
       "0          0.11840           0.27760          0.3001              0.14710   \n",
       "1          0.08474           0.07864          0.0869              0.07017   \n",
       "2          0.10960           0.15990          0.1974              0.12790   \n",
       "3          0.14250           0.28390          0.2414              0.10520   \n",
       "4          0.10030           0.13280          0.1980              0.10430   \n",
       "\n",
       "   ...  texture_worst  perimeter_worst  area_worst  smoothness_worst  \\\n",
       "0  ...          17.33           184.60      2019.0            0.1622   \n",
       "1  ...          23.41           158.80      1956.0            0.1238   \n",
       "2  ...          25.53           152.50      1709.0            0.1444   \n",
       "3  ...          26.50            98.87       567.7            0.2098   \n",
       "4  ...          16.67           152.20      1575.0            0.1374   \n",
       "\n",
       "   compactness_worst  concavity_worst  concave points_worst  symmetry_worst  \\\n",
       "0             0.6656           0.7119                0.2654          0.4601   \n",
       "1             0.1866           0.2416                0.1860          0.2750   \n",
       "2             0.4245           0.4504                0.2430          0.3613   \n",
       "3             0.8663           0.6869                0.2575          0.6638   \n",
       "4             0.2050           0.4000                0.1625          0.2364   \n",
       "\n",
       "   fractal_dimension_worst  Unnamed: 32  \n",
       "0                  0.11890          NaN  \n",
       "1                  0.08902          NaN  \n",
       "2                  0.08758          NaN  \n",
       "3                  0.17300          NaN  \n",
       "4                  0.07678          NaN  \n",
       "\n",
       "[5 rows x 33 columns]"
      ]
     },
     "execution_count": 3,
     "metadata": {},
     "output_type": "execute_result"
    }
   ],
   "source": [
    "df.head()"
   ]
  },
  {
   "cell_type": "code",
   "execution_count": 4,
   "id": "48d824de-3b48-41c5-be18-8580ba757927",
   "metadata": {
    "tags": []
   },
   "outputs": [],
   "source": [
    "# drop the unnecessary columns\n",
    "df.drop(columns=['id','Unnamed: 32'],inplace=True)"
   ]
  },
  {
   "cell_type": "code",
   "execution_count": 6,
   "id": "f135bdcf-272b-411c-b61a-b90de7950dee",
   "metadata": {
    "tags": []
   },
   "outputs": [],
   "source": [
    "#target --> diagnosis\n",
    "# separate input and output\n",
    "X = df.drop(columns='diagnosis')\n",
    "y = df['diagnosis']\n",
    "\n",
    "y = y.map({\"M\":0,\"B\":1}) # manual method for custom encoding\n",
    "\n",
    "from sklearn.preprocessing import StandardScaler\n",
    "ss = StandardScaler()\n",
    "\n",
    "X_train,X_test,y_train,y_test = train_test_split(X,y,test_size=0.3, random_state=0)\n",
    "\n",
    "X_train_transform = ss.fit_transform(X_train) \n",
    "X_test_transform = ss.transform(X_test) # "
   ]
  },
  {
   "cell_type": "code",
   "execution_count": 12,
   "id": "5b4fd3ea-1982-46d1-8e3d-c0d7c14a97ef",
   "metadata": {
    "tags": []
   },
   "outputs": [
    {
     "data": {
      "text/plain": [
       "radius_mean                 13.400000\n",
       "texture_mean                20.520000\n",
       "perimeter_mean              88.640000\n",
       "area_mean                  556.700000\n",
       "smoothness_mean              0.110600\n",
       "compactness_mean             0.146900\n",
       "concavity_mean               0.144500\n",
       "concave points_mean          0.081720\n",
       "symmetry_mean                0.211600\n",
       "fractal_dimension_mean       0.073250\n",
       "radius_se                    0.390600\n",
       "texture_se                   0.930600\n",
       "perimeter_se                 3.093000\n",
       "area_se                     33.670000\n",
       "smoothness_se                0.005414\n",
       "compactness_se               0.022650\n",
       "concavity_se                 0.034520\n",
       "concave points_se            0.013340\n",
       "symmetry_se                  0.017050\n",
       "fractal_dimension_se         0.004005\n",
       "radius_worst                16.410000\n",
       "texture_worst               29.660000\n",
       "perimeter_worst            113.300000\n",
       "area_worst                 844.400000\n",
       "smoothness_worst             0.157400\n",
       "compactness_worst            0.385600\n",
       "concavity_worst              0.510600\n",
       "concave points_worst         0.205100\n",
       "symmetry_worst               0.358500\n",
       "fractal_dimension_worst      0.110900\n",
       "Name: 512, dtype: float64"
      ]
     },
     "execution_count": 12,
     "metadata": {},
     "output_type": "execute_result"
    }
   ],
   "source": [
    "X_test.iloc[0]# (13.4 - 15.25)/(3.5)"
   ]
  },
  {
   "cell_type": "code",
   "execution_count": 13,
   "id": "cf9eccff-c666-47c0-819f-60843be4635c",
   "metadata": {
    "tags": []
   },
   "outputs": [
    {
     "data": {
      "text/plain": [
       "array([-0.21855296,  0.31710749, -0.14938447, -0.2872433 ,  1.01628935,\n",
       "        0.8401481 ,  0.71366732,  0.82317615,  1.10278606,  1.54738509,\n",
       "       -0.06299909, -0.49676845,  0.10742881, -0.15500641, -0.54923334,\n",
       "       -0.14567981,  0.11542304,  0.28378104, -0.41028206,  0.10246308,\n",
       "        0.01015933,  0.67193047,  0.16166188, -0.08348148,  1.08320449,\n",
       "        0.86166719,  1.25420187,  1.36998461,  1.0939611 ,  1.51560644])"
      ]
     },
     "execution_count": 13,
     "metadata": {},
     "output_type": "execute_result"
    }
   ],
   "source": [
    "X_test_transform[0]"
   ]
  },
  {
   "cell_type": "code",
   "execution_count": 8,
   "id": "ce8c61e8-ac2e-41cd-b31f-a5e1946e81eb",
   "metadata": {
    "tags": []
   },
   "outputs": [
    {
     "data": {
      "text/html": [
       "<style>#sk-container-id-2 {color: black;background-color: white;}#sk-container-id-2 pre{padding: 0;}#sk-container-id-2 div.sk-toggleable {background-color: white;}#sk-container-id-2 label.sk-toggleable__label {cursor: pointer;display: block;width: 100%;margin-bottom: 0;padding: 0.3em;box-sizing: border-box;text-align: center;}#sk-container-id-2 label.sk-toggleable__label-arrow:before {content: \"▸\";float: left;margin-right: 0.25em;color: #696969;}#sk-container-id-2 label.sk-toggleable__label-arrow:hover:before {color: black;}#sk-container-id-2 div.sk-estimator:hover label.sk-toggleable__label-arrow:before {color: black;}#sk-container-id-2 div.sk-toggleable__content {max-height: 0;max-width: 0;overflow: hidden;text-align: left;background-color: #f0f8ff;}#sk-container-id-2 div.sk-toggleable__content pre {margin: 0.2em;color: black;border-radius: 0.25em;background-color: #f0f8ff;}#sk-container-id-2 input.sk-toggleable__control:checked~div.sk-toggleable__content {max-height: 200px;max-width: 100%;overflow: auto;}#sk-container-id-2 input.sk-toggleable__control:checked~label.sk-toggleable__label-arrow:before {content: \"▾\";}#sk-container-id-2 div.sk-estimator input.sk-toggleable__control:checked~label.sk-toggleable__label {background-color: #d4ebff;}#sk-container-id-2 div.sk-label input.sk-toggleable__control:checked~label.sk-toggleable__label {background-color: #d4ebff;}#sk-container-id-2 input.sk-hidden--visually {border: 0;clip: rect(1px 1px 1px 1px);clip: rect(1px, 1px, 1px, 1px);height: 1px;margin: -1px;overflow: hidden;padding: 0;position: absolute;width: 1px;}#sk-container-id-2 div.sk-estimator {font-family: monospace;background-color: #f0f8ff;border: 1px dotted black;border-radius: 0.25em;box-sizing: border-box;margin-bottom: 0.5em;}#sk-container-id-2 div.sk-estimator:hover {background-color: #d4ebff;}#sk-container-id-2 div.sk-parallel-item::after {content: \"\";width: 100%;border-bottom: 1px solid gray;flex-grow: 1;}#sk-container-id-2 div.sk-label:hover label.sk-toggleable__label {background-color: #d4ebff;}#sk-container-id-2 div.sk-serial::before {content: \"\";position: absolute;border-left: 1px solid gray;box-sizing: border-box;top: 0;bottom: 0;left: 50%;z-index: 0;}#sk-container-id-2 div.sk-serial {display: flex;flex-direction: column;align-items: center;background-color: white;padding-right: 0.2em;padding-left: 0.2em;position: relative;}#sk-container-id-2 div.sk-item {position: relative;z-index: 1;}#sk-container-id-2 div.sk-parallel {display: flex;align-items: stretch;justify-content: center;background-color: white;position: relative;}#sk-container-id-2 div.sk-item::before, #sk-container-id-2 div.sk-parallel-item::before {content: \"\";position: absolute;border-left: 1px solid gray;box-sizing: border-box;top: 0;bottom: 0;left: 50%;z-index: -1;}#sk-container-id-2 div.sk-parallel-item {display: flex;flex-direction: column;z-index: 1;position: relative;background-color: white;}#sk-container-id-2 div.sk-parallel-item:first-child::after {align-self: flex-end;width: 50%;}#sk-container-id-2 div.sk-parallel-item:last-child::after {align-self: flex-start;width: 50%;}#sk-container-id-2 div.sk-parallel-item:only-child::after {width: 0;}#sk-container-id-2 div.sk-dashed-wrapped {border: 1px dashed gray;margin: 0 0.4em 0.5em 0.4em;box-sizing: border-box;padding-bottom: 0.4em;background-color: white;}#sk-container-id-2 div.sk-label label {font-family: monospace;font-weight: bold;display: inline-block;line-height: 1.2em;}#sk-container-id-2 div.sk-label-container {text-align: center;}#sk-container-id-2 div.sk-container {/* jupyter's `normalize.less` sets `[hidden] { display: none; }` but bootstrap.min.css set `[hidden] { display: none !important; }` so we also need the `!important` here to be able to override the default hidden behavior on the sphinx rendered scikit-learn.org. See: https://github.com/scikit-learn/scikit-learn/issues/21755 */display: inline-block !important;position: relative;}#sk-container-id-2 div.sk-text-repr-fallback {display: none;}</style><div id=\"sk-container-id-2\" class=\"sk-top-container\"><div class=\"sk-text-repr-fallback\"><pre>GaussianNB()</pre><b>In a Jupyter environment, please rerun this cell to show the HTML representation or trust the notebook. <br />On GitHub, the HTML representation is unable to render, please try loading this page with nbviewer.org.</b></div><div class=\"sk-container\" hidden><div class=\"sk-item\"><div class=\"sk-estimator sk-toggleable\"><input class=\"sk-toggleable__control sk-hidden--visually\" id=\"sk-estimator-id-2\" type=\"checkbox\" checked><label for=\"sk-estimator-id-2\" class=\"sk-toggleable__label sk-toggleable__label-arrow\">GaussianNB</label><div class=\"sk-toggleable__content\"><pre>GaussianNB()</pre></div></div></div></div></div>"
      ],
      "text/plain": [
       "GaussianNB()"
      ]
     },
     "execution_count": 8,
     "metadata": {},
     "output_type": "execute_result"
    }
   ],
   "source": [
    "naive_bayes = GaussianNB()\n",
    "naive_bayes.fit(X_train_transform,y_train)"
   ]
  },
  {
   "cell_type": "code",
   "execution_count": 9,
   "id": "c5dea598-2e97-4eb1-9209-9c722bb3ac82",
   "metadata": {
    "tags": []
   },
   "outputs": [
    {
     "data": {
      "text/plain": [
       "0.9295774647887323"
      ]
     },
     "execution_count": 9,
     "metadata": {},
     "output_type": "execute_result"
    }
   ],
   "source": [
    "y_pred = naive_bayes.predict(X_test_transform)\n",
    "\n",
    "from sklearn.metrics import f1_score\n",
    "\n",
    "f1_score(y_test,y_pred)"
   ]
  },
  {
   "cell_type": "code",
   "execution_count": 10,
   "id": "a78df16a-de81-4442-9992-c2e05135bf10",
   "metadata": {
    "tags": []
   },
   "outputs": [
    {
     "data": {
      "text/plain": [
       "array([0, 1, 1, 1, 1])"
      ]
     },
     "execution_count": 10,
     "metadata": {},
     "output_type": "execute_result"
    }
   ],
   "source": [
    "y_pred[:5]"
   ]
  },
  {
   "cell_type": "code",
   "execution_count": 11,
   "id": "a60b74b7-14e7-4ff6-8d93-291cc7409b43",
   "metadata": {
    "tags": []
   },
   "outputs": [
    {
     "data": {
      "text/plain": [
       "array([[1.00000000e+000, 8.24471960e-012],\n",
       "       [6.96416117e-015, 1.00000000e+000],\n",
       "       [8.63559141e-016, 1.00000000e+000],\n",
       "       [3.66233354e-014, 1.00000000e+000],\n",
       "       [8.77805866e-018, 1.00000000e+000],\n",
       "       [5.87157840e-015, 1.00000000e+000],\n",
       "       [8.09635031e-012, 1.00000000e+000],\n",
       "       [1.68297669e-016, 1.00000000e+000],\n",
       "       [1.60377721e-016, 1.00000000e+000],\n",
       "       [6.81197194e-019, 1.00000000e+000],\n",
       "       [9.99999998e-001, 1.82508294e-009],\n",
       "       [1.37652426e-010, 1.00000000e+000],\n",
       "       [4.25555394e-016, 1.00000000e+000],\n",
       "       [9.36138553e-001, 6.38614466e-002],\n",
       "       [9.99405963e-001, 5.94036554e-004],\n",
       "       [1.00000000e+000, 6.83686837e-022],\n",
       "       [9.98208056e-001, 1.79194425e-003],\n",
       "       [1.00000000e+000, 3.39588430e-058],\n",
       "       [1.00000000e+000, 6.90231228e-044],\n",
       "       [1.00000000e+000, 8.87258427e-130],\n",
       "       [1.00000000e+000, 7.46608657e-020],\n",
       "       [1.00000000e+000, 6.11177981e-020],\n",
       "       [1.06057189e-009, 9.99999999e-001],\n",
       "       [7.39883943e-017, 1.00000000e+000],\n",
       "       [1.00000000e+000, 8.88981453e-052],\n",
       "       [2.12081326e-018, 1.00000000e+000],\n",
       "       [1.17677662e-021, 1.00000000e+000],\n",
       "       [1.00000000e+000, 6.99965682e-030],\n",
       "       [3.81961414e-016, 1.00000000e+000],\n",
       "       [1.00000000e+000, 5.78807219e-064],\n",
       "       [3.15172682e-019, 1.00000000e+000],\n",
       "       [1.00000000e+000, 2.34849458e-055],\n",
       "       [9.90760354e-007, 9.99999009e-001],\n",
       "       [1.00000000e+000, 1.37823833e-011],\n",
       "       [4.47645322e-021, 1.00000000e+000],\n",
       "       [9.99999712e-001, 2.88401592e-007],\n",
       "       [2.91540422e-014, 1.00000000e+000],\n",
       "       [1.00000000e+000, 3.77513206e-041],\n",
       "       [1.86719377e-012, 1.00000000e+000],\n",
       "       [1.00000000e+000, 4.54004169e-016],\n",
       "       [4.18672012e-004, 9.99581328e-001],\n",
       "       [3.37161023e-013, 1.00000000e+000],\n",
       "       [6.27250059e-001, 3.72749941e-001],\n",
       "       [6.66853010e-019, 1.00000000e+000],\n",
       "       [9.99716303e-001, 2.83697480e-004],\n",
       "       [1.00000000e+000, 2.12123937e-154],\n",
       "       [5.79453499e-020, 1.00000000e+000],\n",
       "       [1.95375678e-013, 1.00000000e+000],\n",
       "       [4.63114188e-017, 1.00000000e+000],\n",
       "       [1.00000000e+000, 3.87572512e-026],\n",
       "       [1.00000000e+000, 3.64705916e-103],\n",
       "       [1.00000000e+000, 4.19472048e-014],\n",
       "       [1.00000000e+000, 1.13049375e-035],\n",
       "       [5.05830871e-016, 1.00000000e+000],\n",
       "       [2.35301274e-013, 1.00000000e+000],\n",
       "       [1.82783968e-017, 1.00000000e+000],\n",
       "       [8.24949706e-018, 1.00000000e+000],\n",
       "       [3.14064267e-020, 1.00000000e+000],\n",
       "       [6.89939411e-017, 1.00000000e+000],\n",
       "       [1.00000000e+000, 6.69190107e-179],\n",
       "       [1.00000000e+000, 2.98432582e-011],\n",
       "       [1.00000000e+000, 2.95545853e-025],\n",
       "       [1.97383258e-017, 1.00000000e+000],\n",
       "       [1.36212045e-014, 1.00000000e+000],\n",
       "       [1.00000000e+000, 7.71226459e-070],\n",
       "       [3.14293076e-011, 1.00000000e+000],\n",
       "       [1.00000000e+000, 3.30247905e-255],\n",
       "       [1.00000000e+000, 3.69001450e-031],\n",
       "       [1.00000000e+000, 6.52377641e-085],\n",
       "       [6.18670049e-015, 1.00000000e+000],\n",
       "       [9.25878813e-003, 9.90741212e-001],\n",
       "       [1.00000000e+000, 5.43052439e-038],\n",
       "       [1.38473218e-015, 1.00000000e+000],\n",
       "       [3.22107073e-005, 9.99967789e-001],\n",
       "       [1.00000000e+000, 1.44288738e-060],\n",
       "       [3.45575493e-016, 1.00000000e+000],\n",
       "       [3.03574186e-013, 1.00000000e+000],\n",
       "       [1.58858978e-006, 9.99998411e-001],\n",
       "       [7.60018294e-020, 1.00000000e+000],\n",
       "       [3.88976440e-018, 1.00000000e+000],\n",
       "       [1.00000000e+000, 9.94843497e-012],\n",
       "       [1.00000000e+000, 2.81075609e-162],\n",
       "       [1.00000000e+000, 2.77653259e-039],\n",
       "       [8.97365524e-019, 1.00000000e+000],\n",
       "       [1.00000000e+000, 1.43536185e-013],\n",
       "       [5.39058424e-016, 1.00000000e+000],\n",
       "       [2.76025171e-020, 1.00000000e+000],\n",
       "       [4.22611947e-016, 1.00000000e+000],\n",
       "       [1.00000000e+000, 2.75685480e-022],\n",
       "       [1.00000000e+000, 5.71745312e-135],\n",
       "       [1.83037160e-017, 1.00000000e+000],\n",
       "       [3.30718235e-002, 9.66928177e-001],\n",
       "       [6.41967418e-003, 9.93580326e-001],\n",
       "       [1.00000000e+000, 8.48082142e-049],\n",
       "       [8.85760977e-017, 1.00000000e+000],\n",
       "       [3.97016728e-012, 1.00000000e+000],\n",
       "       [1.00000000e+000, 1.75677434e-144],\n",
       "       [9.99552754e-001, 4.47246226e-004],\n",
       "       [1.00305932e-014, 1.00000000e+000],\n",
       "       [1.87068203e-016, 1.00000000e+000],\n",
       "       [7.84291417e-023, 1.00000000e+000],\n",
       "       [9.62693444e-016, 1.00000000e+000],\n",
       "       [1.84666849e-013, 1.00000000e+000],\n",
       "       [4.35958284e-008, 9.99999956e-001],\n",
       "       [1.00000000e+000, 1.54624725e-048],\n",
       "       [7.22409357e-001, 2.77590643e-001],\n",
       "       [1.00000000e+000, 9.30950614e-061],\n",
       "       [4.20557506e-006, 9.99995794e-001],\n",
       "       [2.41894596e-007, 9.99999758e-001],\n",
       "       [6.61799765e-001, 3.38200235e-001],\n",
       "       [4.40859347e-012, 1.00000000e+000],\n",
       "       [1.00000000e+000, 8.25588862e-052],\n",
       "       [1.00000000e+000, 3.79128172e-036],\n",
       "       [8.77666375e-005, 9.99912233e-001],\n",
       "       [9.31989652e-017, 1.00000000e+000],\n",
       "       [8.87736544e-015, 1.00000000e+000],\n",
       "       [3.23495836e-005, 9.99967650e-001],\n",
       "       [2.37934264e-016, 1.00000000e+000],\n",
       "       [3.07904485e-016, 1.00000000e+000],\n",
       "       [2.71708538e-014, 1.00000000e+000],\n",
       "       [1.74378055e-013, 1.00000000e+000],\n",
       "       [7.47924112e-017, 1.00000000e+000],\n",
       "       [1.00000000e+000, 5.32512684e-041],\n",
       "       [1.10418213e-009, 9.99999999e-001],\n",
       "       [1.00000000e+000, 1.85908009e-092],\n",
       "       [2.49144077e-005, 9.99975086e-001],\n",
       "       [3.75529998e-004, 9.99624470e-001],\n",
       "       [2.29125403e-017, 1.00000000e+000],\n",
       "       [2.29599990e-014, 1.00000000e+000],\n",
       "       [3.70617008e-021, 1.00000000e+000],\n",
       "       [1.00000000e+000, 1.67810543e-044],\n",
       "       [7.07670777e-020, 1.00000000e+000],\n",
       "       [4.46200081e-019, 1.00000000e+000],\n",
       "       [8.10081479e-002, 9.18991852e-001],\n",
       "       [9.64979299e-001, 3.50207007e-002],\n",
       "       [6.10360700e-020, 1.00000000e+000],\n",
       "       [1.04269785e-008, 9.99999990e-001],\n",
       "       [1.12813100e-003, 9.98871869e-001],\n",
       "       [1.00000000e+000, 1.92122361e-206],\n",
       "       [1.26772243e-013, 1.00000000e+000],\n",
       "       [5.72332273e-016, 1.00000000e+000],\n",
       "       [7.76728514e-012, 1.00000000e+000],\n",
       "       [1.00000000e+000, 8.80352510e-103],\n",
       "       [7.91495601e-016, 1.00000000e+000],\n",
       "       [1.23936170e-017, 1.00000000e+000],\n",
       "       [1.00000000e+000, 1.72695308e-067],\n",
       "       [1.72284891e-016, 1.00000000e+000],\n",
       "       [9.98783273e-001, 1.21672700e-003],\n",
       "       [4.12272522e-018, 1.00000000e+000],\n",
       "       [1.54072378e-016, 1.00000000e+000],\n",
       "       [3.12456100e-011, 1.00000000e+000],\n",
       "       [1.00000000e+000, 1.96565578e-011],\n",
       "       [1.14185772e-002, 9.88581423e-001],\n",
       "       [1.53229145e-007, 9.99999847e-001],\n",
       "       [1.00785360e-016, 1.00000000e+000],\n",
       "       [9.99999998e-001, 2.14957642e-009],\n",
       "       [3.84992208e-013, 1.00000000e+000],\n",
       "       [2.21213659e-005, 9.99977879e-001],\n",
       "       [2.40762455e-019, 1.00000000e+000],\n",
       "       [1.00000000e+000, 6.03060038e-039],\n",
       "       [1.00000000e+000, 2.38093737e-060],\n",
       "       [2.38647963e-018, 1.00000000e+000],\n",
       "       [2.39705768e-006, 9.99997603e-001],\n",
       "       [1.00000000e+000, 4.90155112e-024],\n",
       "       [8.13539123e-017, 1.00000000e+000],\n",
       "       [1.00000000e+000, 1.23001226e-029],\n",
       "       [1.00000000e+000, 2.12655793e-010],\n",
       "       [1.00000000e+000, 3.25005492e-028],\n",
       "       [7.90895129e-009, 9.99999992e-001],\n",
       "       [1.89762800e-015, 1.00000000e+000],\n",
       "       [2.34554283e-016, 1.00000000e+000]])"
      ]
     },
     "execution_count": 11,
     "metadata": {},
     "output_type": "execute_result"
    }
   ],
   "source": [
    "naive_bayes.predict_proba(X_test_transform)"
   ]
  },
  {
   "cell_type": "code",
   "execution_count": null,
   "id": "11d88c1f-dae5-430e-bda4-e3cdf6daac23",
   "metadata": {},
   "outputs": [],
   "source": []
  }
 ],
 "metadata": {
  "kernelspec": {
   "display_name": "Python 3 (ipykernel)",
   "language": "python",
   "name": "python3"
  },
  "language_info": {
   "codemirror_mode": {
    "name": "ipython",
    "version": 3
   },
   "file_extension": ".py",
   "mimetype": "text/x-python",
   "name": "python",
   "nbconvert_exporter": "python",
   "pygments_lexer": "ipython3",
   "version": "3.11.3"
  }
 },
 "nbformat": 4,
 "nbformat_minor": 5
}
