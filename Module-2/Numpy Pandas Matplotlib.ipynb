{
 "cells": [
  {
   "cell_type": "code",
   "execution_count": 1,
   "id": "cfed5941-4864-406b-9d4e-bf68a6dca261",
   "metadata": {
    "tags": []
   },
   "outputs": [
    {
     "data": {
      "text/plain": [
       "[10, 20, 30, 30, 40, 50]"
      ]
     },
     "execution_count": 1,
     "metadata": {},
     "output_type": "execute_result"
    }
   ],
   "source": [
    "l1 = [10,20,30]\n",
    "l2 = [30,40,50]\n",
    "l1+l2"
   ]
  },
  {
   "cell_type": "code",
   "execution_count": 2,
   "id": "d7f6e579-5948-42cd-91be-ad40a7ade9a6",
   "metadata": {
    "tags": []
   },
   "outputs": [],
   "source": [
    "# memory \n",
    "import numpy as np"
   ]
  },
  {
   "cell_type": "code",
   "execution_count": 25,
   "id": "3311c755-982d-4bc0-9847-1dd5844b0f9c",
   "metadata": {
    "tags": []
   },
   "outputs": [
    {
     "name": "stdout",
     "output_type": "stream",
     "text": [
      "[1 2 3]\n"
     ]
    }
   ],
   "source": [
    "l1 = [1,2,3]\n",
    "x = np.array(object=l1)\n",
    "print(x)"
   ]
  },
  {
   "cell_type": "code",
   "execution_count": 4,
   "id": "1ab09295-8624-425c-a3e5-045da08efeb3",
   "metadata": {
    "tags": []
   },
   "outputs": [
    {
     "data": {
      "text/plain": [
       "numpy.ndarray"
      ]
     },
     "execution_count": 4,
     "metadata": {},
     "output_type": "execute_result"
    }
   ],
   "source": [
    "type(x)"
   ]
  },
  {
   "cell_type": "code",
   "execution_count": 5,
   "id": "4dc5a795-b0b2-4e4c-a242-4f6599393701",
   "metadata": {
    "tags": []
   },
   "outputs": [
    {
     "name": "stdout",
     "output_type": "stream",
     "text": [
      "[[ 1  2  3]\n",
      " [23  4  5]]\n"
     ]
    }
   ],
   "source": [
    "x = np.array(object=[[1,2,3],[23,4,5]])\n",
    "print(x)"
   ]
  },
  {
   "cell_type": "code",
   "execution_count": 6,
   "id": "d60b99f2-ebbb-4094-8b8f-d1f9f7394fa1",
   "metadata": {
    "tags": []
   },
   "outputs": [
    {
     "data": {
      "text/plain": [
       "4"
      ]
     },
     "execution_count": 6,
     "metadata": {},
     "output_type": "execute_result"
    }
   ],
   "source": [
    "x[1,1] # indexing"
   ]
  },
  {
   "cell_type": "code",
   "execution_count": 7,
   "id": "dc40140d-7a87-4292-b83d-755ff66484b5",
   "metadata": {
    "tags": []
   },
   "outputs": [
    {
     "data": {
      "text/plain": [
       "(2, 3)"
      ]
     },
     "execution_count": 7,
     "metadata": {},
     "output_type": "execute_result"
    }
   ],
   "source": [
    "# metadata/attribute\n",
    "x.shape # returns the shape of an array"
   ]
  },
  {
   "cell_type": "code",
   "execution_count": 8,
   "id": "ca72f018-5987-4577-a142-12450ecff261",
   "metadata": {
    "tags": []
   },
   "outputs": [
    {
     "data": {
      "text/plain": [
       "dtype('int64')"
      ]
     },
     "execution_count": 8,
     "metadata": {},
     "output_type": "execute_result"
    }
   ],
   "source": [
    "x.dtype # data type of an array"
   ]
  },
  {
   "cell_type": "code",
   "execution_count": 10,
   "id": "d630156e-e841-45da-bd6e-951e55bd6759",
   "metadata": {
    "tags": []
   },
   "outputs": [
    {
     "data": {
      "text/plain": [
       "2"
      ]
     },
     "execution_count": 10,
     "metadata": {},
     "output_type": "execute_result"
    }
   ],
   "source": [
    "x.ndim # number of dimensions of an array"
   ]
  },
  {
   "cell_type": "code",
   "execution_count": 9,
   "id": "ef19e55f-93c8-4e14-a520-be7fa42f49a6",
   "metadata": {
    "tags": []
   },
   "outputs": [
    {
     "name": "stdout",
     "output_type": "stream",
     "text": [
      "[['1' '2' '3']\n",
      " ['23' '4' '5']]\n"
     ]
    }
   ],
   "source": [
    "x = np.array(object=[[1,2,3],[23,\"4\",\"5\"]])\n",
    "print(x) # all the values will be converted to string"
   ]
  },
  {
   "cell_type": "markdown",
   "id": "e7d53739-45e6-406c-9fcf-47fe3831d9ca",
   "metadata": {},
   "source": [
    "int < float < complex < str"
   ]
  },
  {
   "cell_type": "code",
   "execution_count": 11,
   "id": "d43cb542-24bb-4d59-9dd0-c876e0bdbb23",
   "metadata": {
    "tags": []
   },
   "outputs": [
    {
     "data": {
      "text/plain": [
       "array([10, 11, 12, 13, 14, 15, 16, 17, 18, 19])"
      ]
     },
     "execution_count": 11,
     "metadata": {},
     "output_type": "execute_result"
    }
   ],
   "source": [
    "np.arange(10, 20) # return the values filled between start and stop\n",
    "# start is included, stop is excluded"
   ]
  },
  {
   "cell_type": "code",
   "execution_count": 12,
   "id": "1d38f01c-6ab8-4a4d-b186-b99fb6e60b40",
   "metadata": {
    "tags": []
   },
   "outputs": [
    {
     "data": {
      "text/plain": [
       "array([[0., 0., 0.],\n",
       "       [0., 0., 0.],\n",
       "       [0., 0., 0.],\n",
       "       [0., 0., 0.]])"
      ]
     },
     "execution_count": 12,
     "metadata": {},
     "output_type": "execute_result"
    }
   ],
   "source": [
    "np.zeros(shape=(4,3))"
   ]
  },
  {
   "cell_type": "code",
   "execution_count": 13,
   "id": "22be334a-eb1b-4597-a7b4-76266b2bd847",
   "metadata": {
    "tags": []
   },
   "outputs": [
    {
     "data": {
      "text/plain": [
       "array([[1., 1., 1.],\n",
       "       [1., 1., 1.],\n",
       "       [1., 1., 1.],\n",
       "       [1., 1., 1.]])"
      ]
     },
     "execution_count": 13,
     "metadata": {},
     "output_type": "execute_result"
    }
   ],
   "source": [
    "np.ones(shape=(4,3))"
   ]
  },
  {
   "cell_type": "code",
   "execution_count": 15,
   "id": "1a6cf704-8c3c-4c16-9b6c-f8deb2021642",
   "metadata": {
    "tags": []
   },
   "outputs": [
    {
     "data": {
      "text/plain": [
       "array([1.        , 1.44444444, 1.88888889, 2.33333333, 2.77777778,\n",
       "       3.22222222, 3.66666667, 4.11111111, 4.55555556, 5.        ])"
      ]
     },
     "execution_count": 15,
     "metadata": {},
     "output_type": "execute_result"
    }
   ],
   "source": [
    "np.linspace(start=1,stop=5,num=10) # generate the array with required equidistant elements from start to stop"
   ]
  },
  {
   "cell_type": "code",
   "execution_count": 16,
   "id": "35b1b09c-db9c-48d9-9cfd-cef89c949064",
   "metadata": {
    "tags": []
   },
   "outputs": [
    {
     "data": {
      "text/plain": [
       "array([1.        , 1.44444444, 1.88888889, 2.33333333, 2.77777778,\n",
       "       3.22222222, 3.66666667, 4.11111111, 4.55555556, 5.        ])"
      ]
     },
     "execution_count": 16,
     "metadata": {},
     "output_type": "execute_result"
    }
   ],
   "source": [
    "arr = np.linspace(start=1,stop=5,num=10)\n",
    "arr"
   ]
  },
  {
   "cell_type": "code",
   "execution_count": 17,
   "id": "ade68df6-78d3-49c9-ad1a-0aaf367bd3eb",
   "metadata": {
    "tags": []
   },
   "outputs": [
    {
     "data": {
      "text/plain": [
       "(10,)"
      ]
     },
     "execution_count": 17,
     "metadata": {},
     "output_type": "execute_result"
    }
   ],
   "source": [
    "arr.shape # metadata / attribute"
   ]
  },
  {
   "cell_type": "code",
   "execution_count": 18,
   "id": "e5a1d35a-86d7-4069-88ed-59e427895475",
   "metadata": {
    "tags": []
   },
   "outputs": [
    {
     "data": {
      "text/plain": [
       "1"
      ]
     },
     "execution_count": 18,
     "metadata": {},
     "output_type": "execute_result"
    }
   ],
   "source": [
    "arr.ndim"
   ]
  },
  {
   "cell_type": "code",
   "execution_count": 19,
   "id": "a644e277-9171-416c-8614-b9f405556fac",
   "metadata": {
    "tags": []
   },
   "outputs": [],
   "source": [
    "arr1 = arr.reshape(2,5)"
   ]
  },
  {
   "cell_type": "code",
   "execution_count": 20,
   "id": "b7f6ff8b-978d-4b9b-a18a-046c7d9017ed",
   "metadata": {
    "tags": []
   },
   "outputs": [
    {
     "data": {
      "text/plain": [
       "array([[1.        , 1.44444444, 1.88888889, 2.33333333, 2.77777778],\n",
       "       [3.22222222, 3.66666667, 4.11111111, 4.55555556, 5.        ]])"
      ]
     },
     "execution_count": 20,
     "metadata": {},
     "output_type": "execute_result"
    }
   ],
   "source": [
    "arr1"
   ]
  },
  {
   "cell_type": "code",
   "execution_count": 21,
   "id": "8cbd3803-502a-4e4e-aabf-4aa5440edfee",
   "metadata": {
    "tags": []
   },
   "outputs": [
    {
     "data": {
      "text/plain": [
       "(2, 5)"
      ]
     },
     "execution_count": 21,
     "metadata": {},
     "output_type": "execute_result"
    }
   ],
   "source": [
    "arr1.shape"
   ]
  },
  {
   "cell_type": "code",
   "execution_count": 22,
   "id": "6d6b9ac8-cfa2-4ef8-a0a0-7e22317a02e4",
   "metadata": {
    "tags": []
   },
   "outputs": [
    {
     "data": {
      "text/plain": [
       "array([[ 2.        ,  2.88888889,  3.77777778,  4.66666667,  5.55555556],\n",
       "       [ 6.44444444,  7.33333333,  8.22222222,  9.11111111, 10.        ]])"
      ]
     },
     "execution_count": 22,
     "metadata": {},
     "output_type": "execute_result"
    }
   ],
   "source": [
    "arr1 + arr1"
   ]
  },
  {
   "cell_type": "code",
   "execution_count": 23,
   "id": "65d093fe-f178-48ca-9eb7-f9ba595ae67e",
   "metadata": {
    "tags": []
   },
   "outputs": [
    {
     "data": {
      "text/plain": [
       "array([[ 1.        ,  2.08641975,  3.56790123,  5.44444444,  7.71604938],\n",
       "       [10.38271605, 13.44444444, 16.90123457, 20.75308642, 25.        ]])"
      ]
     },
     "execution_count": 23,
     "metadata": {},
     "output_type": "execute_result"
    }
   ],
   "source": [
    "arr1 * arr1"
   ]
  },
  {
   "cell_type": "code",
   "execution_count": 24,
   "id": "7a46da37-c344-4449-9f27-495504204ce7",
   "metadata": {
    "tags": []
   },
   "outputs": [
    {
     "data": {
      "text/plain": [
       "array([[1., 1., 1., 1., 1.],\n",
       "       [1., 1., 1., 1., 1.]])"
      ]
     },
     "execution_count": 24,
     "metadata": {},
     "output_type": "execute_result"
    }
   ],
   "source": [
    "arr1 / arr1"
   ]
  },
  {
   "cell_type": "code",
   "execution_count": 29,
   "id": "52df3115-b765-4021-88bb-a50c2c335d11",
   "metadata": {
    "tags": []
   },
   "outputs": [],
   "source": [
    "x = np.ones(shape=(2,3,4))"
   ]
  },
  {
   "cell_type": "code",
   "execution_count": 30,
   "id": "34681c3a-9f5b-4503-acce-c01c28e17419",
   "metadata": {
    "tags": []
   },
   "outputs": [
    {
     "data": {
      "text/plain": [
       "dtype('float64')"
      ]
     },
     "execution_count": 30,
     "metadata": {},
     "output_type": "execute_result"
    }
   ],
   "source": [
    "x.dtype"
   ]
  },
  {
   "cell_type": "code",
   "execution_count": 27,
   "id": "dc40ac4c-91db-4007-ba79-e5c91c6a5133",
   "metadata": {
    "tags": []
   },
   "outputs": [],
   "source": [
    "x = np.array(['a','b'])"
   ]
  },
  {
   "cell_type": "code",
   "execution_count": 28,
   "id": "4879146f-f3ad-41d1-aa2c-60f4f3c283b3",
   "metadata": {
    "tags": []
   },
   "outputs": [
    {
     "ename": "UFuncTypeError",
     "evalue": "ufunc 'multiply' did not contain a loop with signature matching types (dtype('<U1'), dtype('<U1')) -> None",
     "output_type": "error",
     "traceback": [
      "\u001b[0;31m---------------------------------------------------------------------------\u001b[0m",
      "\u001b[0;31mUFuncTypeError\u001b[0m                            Traceback (most recent call last)",
      "Cell \u001b[0;32mIn[28], line 1\u001b[0m\n\u001b[0;32m----> 1\u001b[0m x\u001b[38;5;241m*\u001b[39mx\n",
      "\u001b[0;31mUFuncTypeError\u001b[0m: ufunc 'multiply' did not contain a loop with signature matching types (dtype('<U1'), dtype('<U1')) -> None"
     ]
    }
   ],
   "source": [
    "x*x"
   ]
  },
  {
   "cell_type": "code",
   "execution_count": 38,
   "id": "7ef75134-e4ad-43fe-8313-2917eb28ff40",
   "metadata": {
    "tags": []
   },
   "outputs": [
    {
     "data": {
      "text/plain": [
       "array([20, 35, 45, 50])"
      ]
     },
     "execution_count": 38,
     "metadata": {},
     "output_type": "execute_result"
    }
   ],
   "source": [
    "l2 = [20.2, 35.6, 45.98, 50.25]\n",
    "x = np.array(l2, dtype='int') # no rounding\n",
    "x"
   ]
  },
  {
   "cell_type": "code",
   "execution_count": 39,
   "id": "570f668c-bd83-47a8-b4ed-bd3c0a91b6bc",
   "metadata": {
    "tags": []
   },
   "outputs": [
    {
     "data": {
      "text/plain": [
       "dtype('int64')"
      ]
     },
     "execution_count": 39,
     "metadata": {},
     "output_type": "execute_result"
    }
   ],
   "source": [
    "#64 bit data is used\n",
    "x.dtype"
   ]
  },
  {
   "cell_type": "code",
   "execution_count": 34,
   "id": "f70eecb8-4acd-490c-8c49-b16e845aa8d9",
   "metadata": {
    "tags": []
   },
   "outputs": [
    {
     "data": {
      "text/plain": [
       "array([20, 35, 45, 50], dtype=int8)"
      ]
     },
     "execution_count": 34,
     "metadata": {},
     "output_type": "execute_result"
    }
   ],
   "source": [
    "x = np.array(l2, dtype=np.int8) # no rounding\n",
    "x"
   ]
  },
  {
   "cell_type": "code",
   "execution_count": 35,
   "id": "859692fa-5558-46e7-8f0f-0b96f16d05c2",
   "metadata": {
    "tags": []
   },
   "outputs": [
    {
     "ename": "ValueError",
     "evalue": "invalid literal for int() with base 10: 'hello'",
     "output_type": "error",
     "traceback": [
      "\u001b[0;31m---------------------------------------------------------------------------\u001b[0m",
      "\u001b[0;31mValueError\u001b[0m                                Traceback (most recent call last)",
      "Cell \u001b[0;32mIn[35], line 1\u001b[0m\n\u001b[0;32m----> 1\u001b[0m x[\u001b[38;5;241m0\u001b[39m] \u001b[38;5;241m=\u001b[39m \u001b[38;5;124m\"\u001b[39m\u001b[38;5;124mhello\u001b[39m\u001b[38;5;124m\"\u001b[39m\n",
      "\u001b[0;31mValueError\u001b[0m: invalid literal for int() with base 10: 'hello'"
     ]
    }
   ],
   "source": [
    "x[0] = \"hello\""
   ]
  },
  {
   "cell_type": "code",
   "execution_count": 36,
   "id": "e55bfb8e-7438-4e7f-aa4d-e2c4e0ead02e",
   "metadata": {
    "tags": []
   },
   "outputs": [],
   "source": [
    "x[0] = 12.25"
   ]
  },
  {
   "cell_type": "code",
   "execution_count": 37,
   "id": "6a4f5b0b-022d-4331-94be-123d3306ba3b",
   "metadata": {
    "tags": []
   },
   "outputs": [
    {
     "data": {
      "text/plain": [
       "array([12, 35, 45, 50], dtype=int8)"
      ]
     },
     "execution_count": 37,
     "metadata": {},
     "output_type": "execute_result"
    }
   ],
   "source": [
    "x"
   ]
  },
  {
   "cell_type": "code",
   "execution_count": 40,
   "id": "2e3f6908-8951-4b72-aee3-f9f09628f2f2",
   "metadata": {
    "tags": []
   },
   "outputs": [
    {
     "data": {
      "text/plain": [
       "array([[[1., 1.],\n",
       "        [1., 1.],\n",
       "        [1., 1.]],\n",
       "\n",
       "       [[1., 1.],\n",
       "        [1., 1.],\n",
       "        [1., 1.]]])"
      ]
     },
     "execution_count": 40,
     "metadata": {},
     "output_type": "execute_result"
    }
   ],
   "source": [
    "np.ones(shape=(2,3,2))"
   ]
  },
  {
   "cell_type": "code",
   "execution_count": 41,
   "id": "40664588-3408-4fa7-88e7-25bdd80d5055",
   "metadata": {
    "tags": []
   },
   "outputs": [],
   "source": [
    "# Indexing & Slicing"
   ]
  },
  {
   "cell_type": "code",
   "execution_count": 42,
   "id": "f9f7d690-a287-40db-abf4-142150682c1f",
   "metadata": {
    "tags": []
   },
   "outputs": [
    {
     "data": {
      "text/plain": [
       "array([[90, 60, 85],\n",
       "       [48, 65, 17],\n",
       "       [24, 75, 95],\n",
       "       [64, 82, 41]])"
      ]
     },
     "execution_count": 42,
     "metadata": {},
     "output_type": "execute_result"
    }
   ],
   "source": [
    "# random module\n",
    "x = np.random.randint(low=10,high=100,size=(4,3)) # numpy array filled with random integers with mentioned range and shape\n",
    "x"
   ]
  },
  {
   "cell_type": "code",
   "execution_count": 43,
   "id": "949ec067-3191-4885-a1f0-bdafb6df7e58",
   "metadata": {
    "tags": []
   },
   "outputs": [
    {
     "data": {
      "text/plain": [
       "95"
      ]
     },
     "execution_count": 43,
     "metadata": {},
     "output_type": "execute_result"
    }
   ],
   "source": [
    "#indexing\n",
    "x[2,2]"
   ]
  },
  {
   "cell_type": "code",
   "execution_count": 44,
   "id": "54a658c4-b87b-4730-ac01-d4269bf622c7",
   "metadata": {
    "tags": []
   },
   "outputs": [
    {
     "data": {
      "text/plain": [
       "array([[30, 38, 92, 14, 47, 21, 14],\n",
       "       [35, 25, 27, 44, 91, 81, 81],\n",
       "       [94, 25, 65, 36, 19, 45, 21],\n",
       "       [41, 75, 51, 26, 72, 71, 99],\n",
       "       [91, 57, 20, 39, 70, 36, 14],\n",
       "       [22, 34, 86, 93, 83, 23, 34]])"
      ]
     },
     "execution_count": 44,
     "metadata": {},
     "output_type": "execute_result"
    }
   ],
   "source": [
    "# Slicing\n",
    "# start is included and stop is excluded\n",
    "x = np.random.randint(low=10,high=100,size=(6,7)) # numpy array filled with random integers with mentioned range and shape\n",
    "x"
   ]
  },
  {
   "cell_type": "code",
   "execution_count": 48,
   "id": "9c627108-95a0-45fc-8b6b-bbb77f6c2b87",
   "metadata": {
    "tags": []
   },
   "outputs": [
    {
     "data": {
      "text/plain": [
       "array([[71, 99],\n",
       "       [36, 14]])"
      ]
     },
     "execution_count": 48,
     "metadata": {},
     "output_type": "execute_result"
    }
   ],
   "source": [
    "x[3:5,5:7]"
   ]
  },
  {
   "cell_type": "code",
   "execution_count": 51,
   "id": "5a849d6c-2552-41ea-be6b-6da8dfbfd592",
   "metadata": {
    "tags": []
   },
   "outputs": [
    {
     "ename": "IndexError",
     "evalue": "index 10 is out of bounds for axis 1 with size 7",
     "output_type": "error",
     "traceback": [
      "\u001b[0;31m---------------------------------------------------------------------------\u001b[0m",
      "\u001b[0;31mIndexError\u001b[0m                                Traceback (most recent call last)",
      "Cell \u001b[0;32mIn[51], line 1\u001b[0m\n\u001b[0;32m----> 1\u001b[0m x[\u001b[38;5;241m5\u001b[39m,\u001b[38;5;241m10\u001b[39m]\n",
      "\u001b[0;31mIndexError\u001b[0m: index 10 is out of bounds for axis 1 with size 7"
     ]
    }
   ],
   "source": [
    "x[5,10]"
   ]
  },
  {
   "cell_type": "code",
   "execution_count": 50,
   "id": "9d8986d7-c131-404f-99b6-35ff1f9938a9",
   "metadata": {
    "tags": []
   },
   "outputs": [
    {
     "data": {
      "text/plain": [
       "array([[71, 99],\n",
       "       [36, 14]])"
      ]
     },
     "execution_count": 50,
     "metadata": {},
     "output_type": "execute_result"
    }
   ],
   "source": [
    "x[3:5,5:10] # no error"
   ]
  },
  {
   "cell_type": "code",
   "execution_count": 49,
   "id": "aaca49ea-d334-4fd7-9553-2baf661b549f",
   "metadata": {
    "tags": []
   },
   "outputs": [
    {
     "data": {
      "text/plain": [
       "array([[71, 99],\n",
       "       [36, 14]])"
      ]
     },
     "execution_count": 49,
     "metadata": {},
     "output_type": "execute_result"
    }
   ],
   "source": [
    "x[3:5,5:]"
   ]
  },
  {
   "cell_type": "code",
   "execution_count": 47,
   "id": "01a39c69-b00a-4059-adad-bfc30ea4a55e",
   "metadata": {
    "tags": []
   },
   "outputs": [
    {
     "data": {
      "text/plain": [
       "array([[25, 65],\n",
       "       [75, 51],\n",
       "       [57, 20]])"
      ]
     },
     "execution_count": 47,
     "metadata": {},
     "output_type": "execute_result"
    }
   ],
   "source": [
    "x[2:5,1:3]"
   ]
  },
  {
   "cell_type": "code",
   "execution_count": 45,
   "id": "9504fa39-1bc5-4dd0-8bb5-ee8262358ce3",
   "metadata": {
    "tags": []
   },
   "outputs": [
    {
     "data": {
      "text/plain": [
       "array([[94, 25, 65, 36, 19, 45, 21],\n",
       "       [41, 75, 51, 26, 72, 71, 99],\n",
       "       [91, 57, 20, 39, 70, 36, 14]])"
      ]
     },
     "execution_count": 45,
     "metadata": {},
     "output_type": "execute_result"
    }
   ],
   "source": [
    "x[2:5]"
   ]
  },
  {
   "cell_type": "code",
   "execution_count": 46,
   "id": "5518a612-a08b-4511-9927-faf575cd9153",
   "metadata": {
    "tags": []
   },
   "outputs": [
    {
     "data": {
      "text/plain": [
       "array([[65, 36, 19],\n",
       "       [51, 26, 72],\n",
       "       [20, 39, 70]])"
      ]
     },
     "execution_count": 46,
     "metadata": {},
     "output_type": "execute_result"
    }
   ],
   "source": [
    "x[2:5,2:5]"
   ]
  },
  {
   "cell_type": "code",
   "execution_count": null,
   "id": "b0b1e55f-ccbd-495f-b9d5-238d16c130c5",
   "metadata": {},
   "outputs": [],
   "source": []
  }
 ],
 "metadata": {
  "kernelspec": {
   "display_name": "Python 3 (ipykernel)",
   "language": "python",
   "name": "python3"
  },
  "language_info": {
   "codemirror_mode": {
    "name": "ipython",
    "version": 3
   },
   "file_extension": ".py",
   "mimetype": "text/x-python",
   "name": "python",
   "nbconvert_exporter": "python",
   "pygments_lexer": "ipython3",
   "version": "3.11.3"
  }
 },
 "nbformat": 4,
 "nbformat_minor": 5
}
